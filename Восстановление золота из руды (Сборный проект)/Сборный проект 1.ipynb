{
 "cells": [
  {
   "cell_type": "markdown",
   "metadata": {},
   "source": [
    "# Проект «Восстановление золота из руды»\n",
    "\n",
    "## Контекст\n",
    "\n",
    "Необходимо подготоить прототип модели машинного обучения для «Цифры». Компания разрабатывает решения для эффективной работы промышленных предприятий.\n",
    "Модель должна предсказать коэффициент восстановления золота из золотосодержащей руды. Будем использовать данные с параметрами добычи и очистки.\n",
    "Модель поможет оптимизировать производство, чтобы не запускать предприятие с убыточными характеристиками.\n",
    "\n",
    "Технологический процесс: Когда добытая руда проходит первичную обработку, получается дроблёная смесь. Её отправляют на флотацию (обогащение) и двухэтапную очистку.\n",
    "\n",
    "\n",
    "Опишем каждую стадию:\n",
    "\n",
    "- Флотация\n",
    "\n",
    "Во флотационную установку подаётся смесь золотосодержащей руды. После обогащения получается черновой концентрат и «отвальные хвосты», то есть остатки продукта с низкой концентрацией ценных металлов.\n",
    "\n",
    "На стабильность этого процесса влияет непостоянное и неоптимальное физико-химическое состояние флотационной пульпы (смеси твёрдых частиц и жидкости).\n",
    "\n",
    "- Очистка\n",
    "\n",
    "Черновой концентрат проходит две очистки. На выходе получается финальный концентрат и новые отвальные хвосты.\n",
    "\n",
    "\n",
    "---\n",
    "---\n",
    "\n",
    "\n",
    "## Навигация (Структура в VS Code)\n",
    "\n",
    "\n",
    "-   Смотрим на данные и делаем предподготовку\n",
    "-   Вывод по данным\n",
    "-   Создание тестовой и тренировочных выборок одинаковой ширины (одинаковое кол-во признаков)\n",
    "-   Предобработка для опорной (нулевой модели)\n",
    "-   Опорная модель DecisionTree                       \n",
    "-   Вывод по нулевой модели\n",
    "-   Пробуем преобразовать наборы в разные комбинации и тренируем разные модели\n",
    "-   RFEC сжатие признаков\n",
    "-   Модель DecisonTree\n",
    "-   Extra_tree предобработка\n",
    "-   GridSearch + DecisionTree\n",
    "-   GridSeatch + RandomForest + Extra_Tree набор\n",
    "-   Grid + RandomForest + RFECV набор\n",
    "-   Grid + RandomForest очищеный набор\n",
    "-   CatBoost + очищенный набор\n",
    "-   CatBoost + RFECV набор\n",
    "-   CatBoost + Extra_Tree набор\n",
    "-   Вывод\n",
    "\n",
    "\n",
    "---\n",
    "---\n",
    "\n",
    "\n",
    "## Описание данных\n",
    "\n",
    "- Rougher feed — исходное сырье\n",
    "- Rougher additions (или reagent additions) — флотационные реагенты: Xanthate, Sulphate, Depressant\n",
    "- Xanthate — ксантогенат (промотер, или активатор флотации);\n",
    "- Sulphate — сульфат (на данном производстве сульфид натрия);\n",
    "- Depressant — депрессант (силикат натрия).\n",
    "- Rougher process (англ. «грубый процесс») — флотация\n",
    "- Rougher tails — отвальные хвосты\n",
    "- Float banks — флотационная установка\n",
    "- Cleaner process — очистка\n",
    "- Rougher Au — черновой концентрат золота\n",
    "- Final Au — финальный концентрат золота\n",
    "\n",
    "\n",
    "Параметры этапов\n",
    "\n",
    "- air amount — объём воздуха\n",
    "- fluid levels — уровень жидкости\n",
    "- feed size — размер гранул сырья\n",
    "- feed rate — скорость подачи\n",
    "\n",
    "\n",
    "--- Наименование признаков ---\n",
    "\n",
    "Наименование признаков должно быть такое:\n",
    "[этап].[тип_параметра].[название_параметра]\n",
    "\n",
    "Пример: rougher.input.feed_ag\n",
    "\n",
    "Возможные значения для блока [этап]:\n",
    "\n",
    "---\n",
    "\n",
    "rougher — флотация\n",
    "primary_cleaner — первичная очистка\n",
    "secondary_cleaner — вторичная очистка\n",
    "final — финальные характеристики\n",
    "\n",
    "---\n",
    "\n",
    "Возможные значения для блока [тип_параметра]:\n",
    "\n",
    "input — параметры сырья\n",
    "output — параметры продукта\n",
    "state — параметры, характеризующие текущее состояние этапа\n",
    "calculation — расчётные характеристики\n"
   ]
  },
  {
   "cell_type": "code",
   "execution_count": null,
   "metadata": {},
   "outputs": [],
   "source": [
    "import numpy as np\n",
    "import pandas as pd\n",
    "import matplotlib.pyplot as plt\n",
    "import seaborn as sns\n",
    "\n",
    "from sklearn.model_selection import train_test_split\n",
    "from sklearn.metrics import make_scorer\n",
    "from sklearn.impute import KNNImputer\n",
    "from sklearn.tree import DecisionTreeRegressor\n",
    "from sklearn.model_selection import GridSearchCV\n",
    "from sklearn.model_selection import ShuffleSplit\n",
    "\n",
    "RANDOM_STATE = 42"
   ]
  },
  {
   "cell_type": "markdown",
   "metadata": {},
   "source": [
    "# Смотрим на данные и делаем предподготовку"
   ]
  },
  {
   "cell_type": "code",
   "execution_count": null,
   "metadata": {},
   "outputs": [
    {
     "name": "stdout",
     "output_type": "stream",
     "text": [
      "<class 'pandas.core.frame.DataFrame'>\n",
      "Index: 22716 entries, 2016-01-15 00:00:00 to 2018-08-18 10:59:59\n",
      "Data columns (total 86 columns):\n",
      " #   Column                                              Non-Null Count  Dtype  \n",
      "---  ------                                              --------------  -----  \n",
      " 0   final.output.concentrate_ag                         22627 non-null  float64\n",
      " 1   final.output.concentrate_pb                         22629 non-null  float64\n",
      " 2   final.output.concentrate_sol                        22331 non-null  float64\n",
      " 3   final.output.concentrate_au                         22630 non-null  float64\n",
      " 4   final.output.recovery                               20753 non-null  float64\n",
      " 5   final.output.tail_ag                                22633 non-null  float64\n",
      " 6   final.output.tail_pb                                22516 non-null  float64\n",
      " 7   final.output.tail_sol                               22445 non-null  float64\n",
      " 8   final.output.tail_au                                22635 non-null  float64\n",
      " 9   primary_cleaner.input.sulfate                       21107 non-null  float64\n",
      " 10  primary_cleaner.input.depressant                    21170 non-null  float64\n",
      " 11  primary_cleaner.input.feed_size                     22716 non-null  float64\n",
      " 12  primary_cleaner.input.xanthate                      21565 non-null  float64\n",
      " 13  primary_cleaner.output.concentrate_ag               22618 non-null  float64\n",
      " 14  primary_cleaner.output.concentrate_pb               22268 non-null  float64\n",
      " 15  primary_cleaner.output.concentrate_sol              21918 non-null  float64\n",
      " 16  primary_cleaner.output.concentrate_au               22618 non-null  float64\n",
      " 17  primary_cleaner.output.tail_ag                      22614 non-null  float64\n",
      " 18  primary_cleaner.output.tail_pb                      22594 non-null  float64\n",
      " 19  primary_cleaner.output.tail_sol                     22365 non-null  float64\n",
      " 20  primary_cleaner.output.tail_au                      22617 non-null  float64\n",
      " 21  primary_cleaner.state.floatbank8_a_air              22660 non-null  float64\n",
      " 22  primary_cleaner.state.floatbank8_a_level            22667 non-null  float64\n",
      " 23  primary_cleaner.state.floatbank8_b_air              22660 non-null  float64\n",
      " 24  primary_cleaner.state.floatbank8_b_level            22673 non-null  float64\n",
      " 25  primary_cleaner.state.floatbank8_c_air              22662 non-null  float64\n",
      " 26  primary_cleaner.state.floatbank8_c_level            22673 non-null  float64\n",
      " 27  primary_cleaner.state.floatbank8_d_air              22661 non-null  float64\n",
      " 28  primary_cleaner.state.floatbank8_d_level            22673 non-null  float64\n",
      " 29  rougher.calculation.sulfate_to_au_concentrate       22672 non-null  float64\n",
      " 30  rougher.calculation.floatbank10_sulfate_to_au_feed  22672 non-null  float64\n",
      " 31  rougher.calculation.floatbank11_sulfate_to_au_feed  22672 non-null  float64\n",
      " 32  rougher.calculation.au_pb_ratio                     21089 non-null  float64\n",
      " 33  rougher.input.feed_ag                               22618 non-null  float64\n",
      " 34  rougher.input.feed_pb                               22472 non-null  float64\n",
      " 35  rougher.input.feed_rate                             22163 non-null  float64\n",
      " 36  rougher.input.feed_size                             22277 non-null  float64\n",
      " 37  rougher.input.feed_sol                              22357 non-null  float64\n",
      " 38  rougher.input.feed_au                               22617 non-null  float64\n",
      " 39  rougher.input.floatbank10_sulfate                   21415 non-null  float64\n",
      " 40  rougher.input.floatbank10_xanthate                  22247 non-null  float64\n",
      " 41  rougher.input.floatbank11_sulfate                   22038 non-null  float64\n",
      " 42  rougher.input.floatbank11_xanthate                  20459 non-null  float64\n",
      " 43  rougher.output.concentrate_ag                       22618 non-null  float64\n",
      " 44  rougher.output.concentrate_pb                       22618 non-null  float64\n",
      " 45  rougher.output.concentrate_sol                      22526 non-null  float64\n",
      " 46  rougher.output.concentrate_au                       22618 non-null  float64\n",
      " 47  rougher.output.recovery                             19597 non-null  float64\n",
      " 48  rougher.output.tail_ag                              19979 non-null  float64\n",
      " 49  rougher.output.tail_pb                              22618 non-null  float64\n",
      " 50  rougher.output.tail_sol                             19980 non-null  float64\n",
      " 51  rougher.output.tail_au                              19980 non-null  float64\n",
      " 52  rougher.state.floatbank10_a_air                     22646 non-null  float64\n",
      " 53  rougher.state.floatbank10_a_level                   22647 non-null  float64\n",
      " 54  rougher.state.floatbank10_b_air                     22646 non-null  float64\n",
      " 55  rougher.state.floatbank10_b_level                   22647 non-null  float64\n",
      " 56  rougher.state.floatbank10_c_air                     22646 non-null  float64\n",
      " 57  rougher.state.floatbank10_c_level                   22654 non-null  float64\n",
      " 58  rougher.state.floatbank10_d_air                     22641 non-null  float64\n",
      " 59  rougher.state.floatbank10_d_level                   22649 non-null  float64\n",
      " 60  rougher.state.floatbank10_e_air                     22096 non-null  float64\n",
      " 61  rougher.state.floatbank10_e_level                   22649 non-null  float64\n",
      " 62  rougher.state.floatbank10_f_air                     22641 non-null  float64\n",
      " 63  rougher.state.floatbank10_f_level                   22642 non-null  float64\n",
      " 64  secondary_cleaner.output.tail_ag                    22616 non-null  float64\n",
      " 65  secondary_cleaner.output.tail_pb                    22600 non-null  float64\n",
      " 66  secondary_cleaner.output.tail_sol                   20501 non-null  float64\n",
      " 67  secondary_cleaner.output.tail_au                    22618 non-null  float64\n",
      " 68  secondary_cleaner.state.floatbank2_a_air            22333 non-null  float64\n",
      " 69  secondary_cleaner.state.floatbank2_a_level          22591 non-null  float64\n",
      " 70  secondary_cleaner.state.floatbank2_b_air            22538 non-null  float64\n",
      " 71  secondary_cleaner.state.floatbank2_b_level          22588 non-null  float64\n",
      " 72  secondary_cleaner.state.floatbank3_a_air            22585 non-null  float64\n",
      " 73  secondary_cleaner.state.floatbank3_a_level          22587 non-null  float64\n",
      " 74  secondary_cleaner.state.floatbank3_b_air            22592 non-null  float64\n",
      " 75  secondary_cleaner.state.floatbank3_b_level          22590 non-null  float64\n",
      " 76  secondary_cleaner.state.floatbank4_a_air            22571 non-null  float64\n",
      " 77  secondary_cleaner.state.floatbank4_a_level          22587 non-null  float64\n",
      " 78  secondary_cleaner.state.floatbank4_b_air            22608 non-null  float64\n",
      " 79  secondary_cleaner.state.floatbank4_b_level          22607 non-null  float64\n",
      " 80  secondary_cleaner.state.floatbank5_a_air            22615 non-null  float64\n",
      " 81  secondary_cleaner.state.floatbank5_a_level          22615 non-null  float64\n",
      " 82  secondary_cleaner.state.floatbank5_b_air            22615 non-null  float64\n",
      " 83  secondary_cleaner.state.floatbank5_b_level          22616 non-null  float64\n",
      " 84  secondary_cleaner.state.floatbank6_a_air            22597 non-null  float64\n",
      " 85  secondary_cleaner.state.floatbank6_a_level          22615 non-null  float64\n",
      "dtypes: float64(86)\n",
      "memory usage: 15.1+ MB\n"
     ]
    }
   ],
   "source": [
    "full = pd.read_csv('gold_recovery_full.csv').set_index('date')\n",
    "full.info()"
   ]
  },
  {
   "cell_type": "code",
   "execution_count": null,
   "metadata": {},
   "outputs": [
    {
     "name": "stdout",
     "output_type": "stream",
     "text": [
      "<class 'pandas.core.frame.DataFrame'>\n",
      "Index: 16860 entries, 2016-01-15 00:00:00 to 2018-08-18 10:59:59\n",
      "Data columns (total 86 columns):\n",
      " #   Column                                              Non-Null Count  Dtype  \n",
      "---  ------                                              --------------  -----  \n",
      " 0   final.output.concentrate_ag                         16788 non-null  float64\n",
      " 1   final.output.concentrate_pb                         16788 non-null  float64\n",
      " 2   final.output.concentrate_sol                        16490 non-null  float64\n",
      " 3   final.output.concentrate_au                         16789 non-null  float64\n",
      " 4   final.output.recovery                               15339 non-null  float64\n",
      " 5   final.output.tail_ag                                16794 non-null  float64\n",
      " 6   final.output.tail_pb                                16677 non-null  float64\n",
      " 7   final.output.tail_sol                               16715 non-null  float64\n",
      " 8   final.output.tail_au                                16794 non-null  float64\n",
      " 9   primary_cleaner.input.sulfate                       15553 non-null  float64\n",
      " 10  primary_cleaner.input.depressant                    15598 non-null  float64\n",
      " 11  primary_cleaner.input.feed_size                     16860 non-null  float64\n",
      " 12  primary_cleaner.input.xanthate                      15875 non-null  float64\n",
      " 13  primary_cleaner.output.concentrate_ag               16778 non-null  float64\n",
      " 14  primary_cleaner.output.concentrate_pb               16502 non-null  float64\n",
      " 15  primary_cleaner.output.concentrate_sol              16224 non-null  float64\n",
      " 16  primary_cleaner.output.concentrate_au               16778 non-null  float64\n",
      " 17  primary_cleaner.output.tail_ag                      16777 non-null  float64\n",
      " 18  primary_cleaner.output.tail_pb                      16761 non-null  float64\n",
      " 19  primary_cleaner.output.tail_sol                     16579 non-null  float64\n",
      " 20  primary_cleaner.output.tail_au                      16777 non-null  float64\n",
      " 21  primary_cleaner.state.floatbank8_a_air              16820 non-null  float64\n",
      " 22  primary_cleaner.state.floatbank8_a_level            16827 non-null  float64\n",
      " 23  primary_cleaner.state.floatbank8_b_air              16820 non-null  float64\n",
      " 24  primary_cleaner.state.floatbank8_b_level            16833 non-null  float64\n",
      " 25  primary_cleaner.state.floatbank8_c_air              16822 non-null  float64\n",
      " 26  primary_cleaner.state.floatbank8_c_level            16833 non-null  float64\n",
      " 27  primary_cleaner.state.floatbank8_d_air              16821 non-null  float64\n",
      " 28  primary_cleaner.state.floatbank8_d_level            16833 non-null  float64\n",
      " 29  rougher.calculation.sulfate_to_au_concentrate       16833 non-null  float64\n",
      " 30  rougher.calculation.floatbank10_sulfate_to_au_feed  16833 non-null  float64\n",
      " 31  rougher.calculation.floatbank11_sulfate_to_au_feed  16833 non-null  float64\n",
      " 32  rougher.calculation.au_pb_ratio                     15618 non-null  float64\n",
      " 33  rougher.input.feed_ag                               16778 non-null  float64\n",
      " 34  rougher.input.feed_pb                               16632 non-null  float64\n",
      " 35  rougher.input.feed_rate                             16347 non-null  float64\n",
      " 36  rougher.input.feed_size                             16443 non-null  float64\n",
      " 37  rougher.input.feed_sol                              16568 non-null  float64\n",
      " 38  rougher.input.feed_au                               16777 non-null  float64\n",
      " 39  rougher.input.floatbank10_sulfate                   15816 non-null  float64\n",
      " 40  rougher.input.floatbank10_xanthate                  16514 non-null  float64\n",
      " 41  rougher.input.floatbank11_sulfate                   16237 non-null  float64\n",
      " 42  rougher.input.floatbank11_xanthate                  14956 non-null  float64\n",
      " 43  rougher.output.concentrate_ag                       16778 non-null  float64\n",
      " 44  rougher.output.concentrate_pb                       16778 non-null  float64\n",
      " 45  rougher.output.concentrate_sol                      16698 non-null  float64\n",
      " 46  rougher.output.concentrate_au                       16778 non-null  float64\n",
      " 47  rougher.output.recovery                             14287 non-null  float64\n",
      " 48  rougher.output.tail_ag                              14610 non-null  float64\n",
      " 49  rougher.output.tail_pb                              16778 non-null  float64\n",
      " 50  rougher.output.tail_sol                             14611 non-null  float64\n",
      " 51  rougher.output.tail_au                              14611 non-null  float64\n",
      " 52  rougher.state.floatbank10_a_air                     16807 non-null  float64\n",
      " 53  rougher.state.floatbank10_a_level                   16807 non-null  float64\n",
      " 54  rougher.state.floatbank10_b_air                     16807 non-null  float64\n",
      " 55  rougher.state.floatbank10_b_level                   16807 non-null  float64\n",
      " 56  rougher.state.floatbank10_c_air                     16807 non-null  float64\n",
      " 57  rougher.state.floatbank10_c_level                   16814 non-null  float64\n",
      " 58  rougher.state.floatbank10_d_air                     16802 non-null  float64\n",
      " 59  rougher.state.floatbank10_d_level                   16809 non-null  float64\n",
      " 60  rougher.state.floatbank10_e_air                     16257 non-null  float64\n",
      " 61  rougher.state.floatbank10_e_level                   16809 non-null  float64\n",
      " 62  rougher.state.floatbank10_f_air                     16802 non-null  float64\n",
      " 63  rougher.state.floatbank10_f_level                   16802 non-null  float64\n",
      " 64  secondary_cleaner.output.tail_ag                    16776 non-null  float64\n",
      " 65  secondary_cleaner.output.tail_pb                    16764 non-null  float64\n",
      " 66  secondary_cleaner.output.tail_sol                   14874 non-null  float64\n",
      " 67  secondary_cleaner.output.tail_au                    16778 non-null  float64\n",
      " 68  secondary_cleaner.state.floatbank2_a_air            16497 non-null  float64\n",
      " 69  secondary_cleaner.state.floatbank2_a_level          16751 non-null  float64\n",
      " 70  secondary_cleaner.state.floatbank2_b_air            16705 non-null  float64\n",
      " 71  secondary_cleaner.state.floatbank2_b_level          16748 non-null  float64\n",
      " 72  secondary_cleaner.state.floatbank3_a_air            16763 non-null  float64\n",
      " 73  secondary_cleaner.state.floatbank3_a_level          16747 non-null  float64\n",
      " 74  secondary_cleaner.state.floatbank3_b_air            16752 non-null  float64\n",
      " 75  secondary_cleaner.state.floatbank3_b_level          16750 non-null  float64\n",
      " 76  secondary_cleaner.state.floatbank4_a_air            16731 non-null  float64\n",
      " 77  secondary_cleaner.state.floatbank4_a_level          16747 non-null  float64\n",
      " 78  secondary_cleaner.state.floatbank4_b_air            16768 non-null  float64\n",
      " 79  secondary_cleaner.state.floatbank4_b_level          16767 non-null  float64\n",
      " 80  secondary_cleaner.state.floatbank5_a_air            16775 non-null  float64\n",
      " 81  secondary_cleaner.state.floatbank5_a_level          16775 non-null  float64\n",
      " 82  secondary_cleaner.state.floatbank5_b_air            16775 non-null  float64\n",
      " 83  secondary_cleaner.state.floatbank5_b_level          16776 non-null  float64\n",
      " 84  secondary_cleaner.state.floatbank6_a_air            16757 non-null  float64\n",
      " 85  secondary_cleaner.state.floatbank6_a_level          16775 non-null  float64\n",
      "dtypes: float64(86)\n",
      "memory usage: 11.2+ MB\n"
     ]
    }
   ],
   "source": [
    "train = pd.read_csv('gold_recovery_train.csv').set_index('date')\n",
    "train.info()"
   ]
  },
  {
   "cell_type": "code",
   "execution_count": null,
   "metadata": {},
   "outputs": [
    {
     "name": "stdout",
     "output_type": "stream",
     "text": [
      "<class 'pandas.core.frame.DataFrame'>\n",
      "Index: 5856 entries, 2016-09-01 00:59:59 to 2017-12-31 23:59:59\n",
      "Data columns (total 52 columns):\n",
      " #   Column                                      Non-Null Count  Dtype  \n",
      "---  ------                                      --------------  -----  \n",
      " 0   primary_cleaner.input.sulfate               5554 non-null   float64\n",
      " 1   primary_cleaner.input.depressant            5572 non-null   float64\n",
      " 2   primary_cleaner.input.feed_size             5856 non-null   float64\n",
      " 3   primary_cleaner.input.xanthate              5690 non-null   float64\n",
      " 4   primary_cleaner.state.floatbank8_a_air      5840 non-null   float64\n",
      " 5   primary_cleaner.state.floatbank8_a_level    5840 non-null   float64\n",
      " 6   primary_cleaner.state.floatbank8_b_air      5840 non-null   float64\n",
      " 7   primary_cleaner.state.floatbank8_b_level    5840 non-null   float64\n",
      " 8   primary_cleaner.state.floatbank8_c_air      5840 non-null   float64\n",
      " 9   primary_cleaner.state.floatbank8_c_level    5840 non-null   float64\n",
      " 10  primary_cleaner.state.floatbank8_d_air      5840 non-null   float64\n",
      " 11  primary_cleaner.state.floatbank8_d_level    5840 non-null   float64\n",
      " 12  rougher.input.feed_ag                       5840 non-null   float64\n",
      " 13  rougher.input.feed_pb                       5840 non-null   float64\n",
      " 14  rougher.input.feed_rate                     5816 non-null   float64\n",
      " 15  rougher.input.feed_size                     5834 non-null   float64\n",
      " 16  rougher.input.feed_sol                      5789 non-null   float64\n",
      " 17  rougher.input.feed_au                       5840 non-null   float64\n",
      " 18  rougher.input.floatbank10_sulfate           5599 non-null   float64\n",
      " 19  rougher.input.floatbank10_xanthate          5733 non-null   float64\n",
      " 20  rougher.input.floatbank11_sulfate           5801 non-null   float64\n",
      " 21  rougher.input.floatbank11_xanthate          5503 non-null   float64\n",
      " 22  rougher.state.floatbank10_a_air             5839 non-null   float64\n",
      " 23  rougher.state.floatbank10_a_level           5840 non-null   float64\n",
      " 24  rougher.state.floatbank10_b_air             5839 non-null   float64\n",
      " 25  rougher.state.floatbank10_b_level           5840 non-null   float64\n",
      " 26  rougher.state.floatbank10_c_air             5839 non-null   float64\n",
      " 27  rougher.state.floatbank10_c_level           5840 non-null   float64\n",
      " 28  rougher.state.floatbank10_d_air             5839 non-null   float64\n",
      " 29  rougher.state.floatbank10_d_level           5840 non-null   float64\n",
      " 30  rougher.state.floatbank10_e_air             5839 non-null   float64\n",
      " 31  rougher.state.floatbank10_e_level           5840 non-null   float64\n",
      " 32  rougher.state.floatbank10_f_air             5839 non-null   float64\n",
      " 33  rougher.state.floatbank10_f_level           5840 non-null   float64\n",
      " 34  secondary_cleaner.state.floatbank2_a_air    5836 non-null   float64\n",
      " 35  secondary_cleaner.state.floatbank2_a_level  5840 non-null   float64\n",
      " 36  secondary_cleaner.state.floatbank2_b_air    5833 non-null   float64\n",
      " 37  secondary_cleaner.state.floatbank2_b_level  5840 non-null   float64\n",
      " 38  secondary_cleaner.state.floatbank3_a_air    5822 non-null   float64\n",
      " 39  secondary_cleaner.state.floatbank3_a_level  5840 non-null   float64\n",
      " 40  secondary_cleaner.state.floatbank3_b_air    5840 non-null   float64\n",
      " 41  secondary_cleaner.state.floatbank3_b_level  5840 non-null   float64\n",
      " 42  secondary_cleaner.state.floatbank4_a_air    5840 non-null   float64\n",
      " 43  secondary_cleaner.state.floatbank4_a_level  5840 non-null   float64\n",
      " 44  secondary_cleaner.state.floatbank4_b_air    5840 non-null   float64\n",
      " 45  secondary_cleaner.state.floatbank4_b_level  5840 non-null   float64\n",
      " 46  secondary_cleaner.state.floatbank5_a_air    5840 non-null   float64\n",
      " 47  secondary_cleaner.state.floatbank5_a_level  5840 non-null   float64\n",
      " 48  secondary_cleaner.state.floatbank5_b_air    5840 non-null   float64\n",
      " 49  secondary_cleaner.state.floatbank5_b_level  5840 non-null   float64\n",
      " 50  secondary_cleaner.state.floatbank6_a_air    5840 non-null   float64\n",
      " 51  secondary_cleaner.state.floatbank6_a_level  5840 non-null   float64\n",
      "dtypes: float64(52)\n",
      "memory usage: 2.4+ MB\n"
     ]
    }
   ],
   "source": [
    "test = pd.read_csv('gold_recovery_test.csv').set_index('date')\n",
    "test.info()"
   ]
  },
  {
   "cell_type": "markdown",
   "metadata": {},
   "source": [
    "#### Вывод по данным\n",
    "\n",
    "- не совпадает кол-во признаков в train и в test\n",
    "- в full присутствуют все строки тестовой выборки, но по каким-то причинам в тестовой оказалось признаков меньше\n",
    "- в тренировочной выборке все признаки сохранились\n",
    "- множественные пропущенные значения как в тестовой выборке, так и в тренировочной\n"
   ]
  },
  {
   "cell_type": "markdown",
   "metadata": {},
   "source": [
    "#### Создание тестовой и тренировочных выборок одинаковой ширины (одинаковое кол-во признаков)"
   ]
  },
  {
   "cell_type": "code",
   "execution_count": null,
   "metadata": {},
   "outputs": [],
   "source": [
    "df = pd.DataFrame(full.loc[test.index]['final.output.recovery'].isnull())\n",
    "index_test_null = df[df['final.output.recovery'] == True].index\n",
    "\n",
    "# Не предобработанный тестовый датафрейм признаков\n",
    "test = test[~test.index.isin(index_test_null)]\n",
    "# Тестовые метки\n",
    "y_test = full.loc[test.index]['final.output.recovery']"
   ]
  },
  {
   "cell_type": "code",
   "execution_count": null,
   "metadata": {},
   "outputs": [
    {
     "name": "stdout",
     "output_type": "stream",
     "text": [
      "<class 'pandas.core.frame.DataFrame'>\n",
      "Index: 5414 entries, 2016-09-01 00:59:59 to 2017-12-31 23:59:59\n",
      "Data columns (total 52 columns):\n",
      " #   Column                                      Non-Null Count  Dtype  \n",
      "---  ------                                      --------------  -----  \n",
      " 0   primary_cleaner.input.sulfate               5407 non-null   float64\n",
      " 1   primary_cleaner.input.depressant            5408 non-null   float64\n",
      " 2   primary_cleaner.input.feed_size             5414 non-null   float64\n",
      " 3   primary_cleaner.input.xanthate              5408 non-null   float64\n",
      " 4   primary_cleaner.state.floatbank8_a_air      5414 non-null   float64\n",
      " 5   primary_cleaner.state.floatbank8_a_level    5414 non-null   float64\n",
      " 6   primary_cleaner.state.floatbank8_b_air      5414 non-null   float64\n",
      " 7   primary_cleaner.state.floatbank8_b_level    5414 non-null   float64\n",
      " 8   primary_cleaner.state.floatbank8_c_air      5414 non-null   float64\n",
      " 9   primary_cleaner.state.floatbank8_c_level    5414 non-null   float64\n",
      " 10  primary_cleaner.state.floatbank8_d_air      5414 non-null   float64\n",
      " 11  primary_cleaner.state.floatbank8_d_level    5414 non-null   float64\n",
      " 12  rougher.input.feed_ag                       5414 non-null   float64\n",
      " 13  rougher.input.feed_pb                       5414 non-null   float64\n",
      " 14  rougher.input.feed_rate                     5411 non-null   float64\n",
      " 15  rougher.input.feed_size                     5413 non-null   float64\n",
      " 16  rougher.input.feed_sol                      5382 non-null   float64\n",
      " 17  rougher.input.feed_au                       5414 non-null   float64\n",
      " 18  rougher.input.floatbank10_sulfate           5409 non-null   float64\n",
      " 19  rougher.input.floatbank10_xanthate          5413 non-null   float64\n",
      " 20  rougher.input.floatbank11_sulfate           5403 non-null   float64\n",
      " 21  rougher.input.floatbank11_xanthate          5381 non-null   float64\n",
      " 22  rougher.state.floatbank10_a_air             5414 non-null   float64\n",
      " 23  rougher.state.floatbank10_a_level           5414 non-null   float64\n",
      " 24  rougher.state.floatbank10_b_air             5414 non-null   float64\n",
      " 25  rougher.state.floatbank10_b_level           5414 non-null   float64\n",
      " 26  rougher.state.floatbank10_c_air             5414 non-null   float64\n",
      " 27  rougher.state.floatbank10_c_level           5414 non-null   float64\n",
      " 28  rougher.state.floatbank10_d_air             5414 non-null   float64\n",
      " 29  rougher.state.floatbank10_d_level           5414 non-null   float64\n",
      " 30  rougher.state.floatbank10_e_air             5414 non-null   float64\n",
      " 31  rougher.state.floatbank10_e_level           5414 non-null   float64\n",
      " 32  rougher.state.floatbank10_f_air             5414 non-null   float64\n",
      " 33  rougher.state.floatbank10_f_level           5414 non-null   float64\n",
      " 34  secondary_cleaner.state.floatbank2_a_air    5411 non-null   float64\n",
      " 35  secondary_cleaner.state.floatbank2_a_level  5414 non-null   float64\n",
      " 36  secondary_cleaner.state.floatbank2_b_air    5411 non-null   float64\n",
      " 37  secondary_cleaner.state.floatbank2_b_level  5414 non-null   float64\n",
      " 38  secondary_cleaner.state.floatbank3_a_air    5404 non-null   float64\n",
      " 39  secondary_cleaner.state.floatbank3_a_level  5414 non-null   float64\n",
      " 40  secondary_cleaner.state.floatbank3_b_air    5414 non-null   float64\n",
      " 41  secondary_cleaner.state.floatbank3_b_level  5414 non-null   float64\n",
      " 42  secondary_cleaner.state.floatbank4_a_air    5414 non-null   float64\n",
      " 43  secondary_cleaner.state.floatbank4_a_level  5414 non-null   float64\n",
      " 44  secondary_cleaner.state.floatbank4_b_air    5414 non-null   float64\n",
      " 45  secondary_cleaner.state.floatbank4_b_level  5414 non-null   float64\n",
      " 46  secondary_cleaner.state.floatbank5_a_air    5414 non-null   float64\n",
      " 47  secondary_cleaner.state.floatbank5_a_level  5414 non-null   float64\n",
      " 48  secondary_cleaner.state.floatbank5_b_air    5414 non-null   float64\n",
      " 49  secondary_cleaner.state.floatbank5_b_level  5414 non-null   float64\n",
      " 50  secondary_cleaner.state.floatbank6_a_air    5414 non-null   float64\n",
      " 51  secondary_cleaner.state.floatbank6_a_level  5414 non-null   float64\n",
      "dtypes: float64(52)\n",
      "memory usage: 2.3+ MB\n"
     ]
    }
   ],
   "source": [
    "X_test = test.copy()\n",
    "test.info()"
   ]
  },
  {
   "cell_type": "code",
   "execution_count": null,
   "metadata": {},
   "outputs": [
    {
     "name": "stdout",
     "output_type": "stream",
     "text": [
      "<class 'pandas.core.frame.DataFrame'>\n",
      "Index: 15339 entries, 2016-01-15 00:00:00 to 2018-08-18 10:59:59\n",
      "Data columns (total 53 columns):\n",
      " #   Column                                      Non-Null Count  Dtype  \n",
      "---  ------                                      --------------  -----  \n",
      " 0   primary_cleaner.input.sulfate               14958 non-null  float64\n",
      " 1   primary_cleaner.input.depressant            15082 non-null  float64\n",
      " 2   primary_cleaner.input.feed_size             15339 non-null  float64\n",
      " 3   primary_cleaner.input.xanthate              15063 non-null  float64\n",
      " 4   primary_cleaner.state.floatbank8_a_air      15331 non-null  float64\n",
      " 5   primary_cleaner.state.floatbank8_a_level    15338 non-null  float64\n",
      " 6   primary_cleaner.state.floatbank8_b_air      15331 non-null  float64\n",
      " 7   primary_cleaner.state.floatbank8_b_level    15338 non-null  float64\n",
      " 8   primary_cleaner.state.floatbank8_c_air      15333 non-null  float64\n",
      " 9   primary_cleaner.state.floatbank8_c_level    15338 non-null  float64\n",
      " 10  primary_cleaner.state.floatbank8_d_air      15332 non-null  float64\n",
      " 11  primary_cleaner.state.floatbank8_d_level    15338 non-null  float64\n",
      " 12  rougher.input.feed_ag                       15339 non-null  float64\n",
      " 13  rougher.input.feed_pb                       15234 non-null  float64\n",
      " 14  rougher.input.feed_rate                     15121 non-null  float64\n",
      " 15  rougher.input.feed_size                     15193 non-null  float64\n",
      " 16  rougher.input.feed_sol                      15196 non-null  float64\n",
      " 17  rougher.input.feed_au                       15339 non-null  float64\n",
      " 18  rougher.input.floatbank10_sulfate           14964 non-null  float64\n",
      " 19  rougher.input.floatbank10_xanthate          15248 non-null  float64\n",
      " 20  rougher.input.floatbank11_sulfate           14982 non-null  float64\n",
      " 21  rougher.input.floatbank11_xanthate          14560 non-null  float64\n",
      " 22  rougher.state.floatbank10_a_air             15323 non-null  float64\n",
      " 23  rougher.state.floatbank10_a_level           15323 non-null  float64\n",
      " 24  rougher.state.floatbank10_b_air             15323 non-null  float64\n",
      " 25  rougher.state.floatbank10_b_level           15323 non-null  float64\n",
      " 26  rougher.state.floatbank10_c_air             15323 non-null  float64\n",
      " 27  rougher.state.floatbank10_c_level           15323 non-null  float64\n",
      " 28  rougher.state.floatbank10_d_air             15324 non-null  float64\n",
      " 29  rougher.state.floatbank10_d_level           15324 non-null  float64\n",
      " 30  rougher.state.floatbank10_e_air             14807 non-null  float64\n",
      " 31  rougher.state.floatbank10_e_level           15324 non-null  float64\n",
      " 32  rougher.state.floatbank10_f_air             15324 non-null  float64\n",
      " 33  rougher.state.floatbank10_f_level           15324 non-null  float64\n",
      " 34  secondary_cleaner.state.floatbank2_a_air    15109 non-null  float64\n",
      " 35  secondary_cleaner.state.floatbank2_a_level  15338 non-null  float64\n",
      " 36  secondary_cleaner.state.floatbank2_b_air    15315 non-null  float64\n",
      " 37  secondary_cleaner.state.floatbank2_b_level  15338 non-null  float64\n",
      " 38  secondary_cleaner.state.floatbank3_a_air    15332 non-null  float64\n",
      " 39  secondary_cleaner.state.floatbank3_a_level  15338 non-null  float64\n",
      " 40  secondary_cleaner.state.floatbank3_b_air    15338 non-null  float64\n",
      " 41  secondary_cleaner.state.floatbank3_b_level  15338 non-null  float64\n",
      " 42  secondary_cleaner.state.floatbank4_a_air    15330 non-null  float64\n",
      " 43  secondary_cleaner.state.floatbank4_a_level  15338 non-null  float64\n",
      " 44  secondary_cleaner.state.floatbank4_b_air    15338 non-null  float64\n",
      " 45  secondary_cleaner.state.floatbank4_b_level  15338 non-null  float64\n",
      " 46  secondary_cleaner.state.floatbank5_a_air    15338 non-null  float64\n",
      " 47  secondary_cleaner.state.floatbank5_a_level  15338 non-null  float64\n",
      " 48  secondary_cleaner.state.floatbank5_b_air    15338 non-null  float64\n",
      " 49  secondary_cleaner.state.floatbank5_b_level  15338 non-null  float64\n",
      " 50  secondary_cleaner.state.floatbank6_a_air    15336 non-null  float64\n",
      " 51  secondary_cleaner.state.floatbank6_a_level  15338 non-null  float64\n",
      " 52  final.output.recovery                       15339 non-null  float64\n",
      "dtypes: float64(53)\n",
      "memory usage: 6.3+ MB\n"
     ]
    }
   ],
   "source": [
    "train = train[[*test.columns, 'final.output.recovery']]\n",
    "train = train[train['final.output.recovery'].notnull()]\n",
    "train.info()"
   ]
  },
  {
   "cell_type": "markdown",
   "metadata": {},
   "source": [
    "# Предобработка для опорной (нулевой модели)\n"
   ]
  },
  {
   "cell_type": "code",
   "execution_count": null,
   "metadata": {},
   "outputs": [],
   "source": [
    "########## Не обработанные тренирововчные данные (признаки) ##################\n",
    "# train - необработанные признаки, и не нулевые метки\n",
    "y_train = train['final.output.recovery']\n",
    "X_train = train.drop('final.output.recovery',axis = 1)\n",
    "##############################################################################\n",
    "\n",
    "# test - необработааные тестовые признаки\n",
    "# y_test - обработанные (не нулевые метки)\n",
    "\n",
    "imputer = KNNImputer(n_neighbors = 5)\n",
    "X_test_0 = imputer.fit_transform(test)\n",
    "X_train_0 = imputer.fit_transform(X_train)"
   ]
  },
  {
   "cell_type": "markdown",
   "metadata": {},
   "source": [
    "#### Опорная модель DecisionTree"
   ]
  },
  {
   "cell_type": "code",
   "execution_count": null,
   "metadata": {},
   "outputs": [],
   "source": [
    "def RMSE(y_true, y_pred):\n",
    "    y_true = np.array(y_true)\n",
    "    y_pred = np.array(y_pred)\n",
    "    diff_square = (y_true - y_pred)**2\n",
    "    score = diff_square.mean()\n",
    "    return np.sqrt(score)\n",
    "\n",
    "RMSE_score = make_scorer(RMSE,\n",
    "                         greater_is_better = False)"
   ]
  },
  {
   "cell_type": "code",
   "execution_count": null,
   "metadata": {},
   "outputs": [
    {
     "name": "stdout",
     "output_type": "stream",
     "text": [
      "Лучший гиперпараметр: {'max_depth': 6}\n",
      "Лучшая оценка RMSE: 9.2901750455682\n"
     ]
    }
   ],
   "source": [
    "model_0 = GridSearchCV(estimator = DecisionTreeRegressor(random_state = RANDOM_STATE),\n",
    "                       param_grid = {'max_depth': np.arange(2,20,2)},\n",
    "                       scoring = RMSE_score,\n",
    "                       cv = ShuffleSplit(n_splits = 5,\n",
    "                                         test_size = 0.2,\n",
    "                                         random_state = RANDOM_STATE),\n",
    "                       n_jobs = -1)\n",
    "\n",
    "model_0.fit(X_train_0, y_train)\n",
    "print(f'Лучший гиперпараметр: {model_0.best_params_}')\n",
    "print(f'Лучшая оценка RMSE: {model_0.best_score_ * (-1)}')\n",
    "\n",
    "model_0 = model_0.best_estimator_   # получилось значение близкое к std (см. ниже) - хорошее начало, \n",
    "                                    # будем пробовать предобрабатывать признаки по другому и пробовать другие модели"
   ]
  },
  {
   "cell_type": "code",
   "execution_count": null,
   "metadata": {},
   "outputs": [
    {
     "data": {
      "text/plain": [
       "count    15339.000000\n",
       "mean        67.213166\n",
       "std         11.960446\n",
       "min          0.000000\n",
       "25%         62.625685\n",
       "50%         67.644601\n",
       "75%         72.824595\n",
       "max        100.000000\n",
       "Name: final.output.recovery, dtype: float64"
      ]
     },
     "execution_count": 11,
     "metadata": {},
     "output_type": "execute_result"
    }
   ],
   "source": [
    "train['final.output.recovery'].describe()"
   ]
  },
  {
   "cell_type": "code",
   "execution_count": null,
   "metadata": {},
   "outputs": [
    {
     "data": {
      "text/plain": [
       "10.198190567134674"
      ]
     },
     "execution_count": 12,
     "metadata": {},
     "output_type": "execute_result"
    }
   ],
   "source": [
    "y_pred = model_0.predict(X_test_0)\n",
    "RMSE(y_true = y_test,\n",
    "     y_pred = y_pred)"
   ]
  },
  {
   "cell_type": "code",
   "execution_count": null,
   "metadata": {},
   "outputs": [
    {
     "data": {
      "image/png": "[encoded data removed]",
      "text/plain": [
       "<Figure size 640x480 with 1 Axes>"
      ]
     },
     "metadata": {},
     "output_type": "display_data"
    }
   ],
   "source": [
    "sns.kdeplot(data = train,\n",
    "            x = 'final.output.recovery')\n",
    "plt.grid()"
   ]
  },
  {
   "cell_type": "markdown",
   "metadata": {},
   "source": [
    "#### Вывод по нулевой модели\n",
    "\n",
    "- использовали модель DecisionTreeRegressor\n",
    "- RMSE = 9.29 (на кроссвалидации) и 10.19 на тестовом наборе (что не далеко от std)"
   ]
  },
  {
   "cell_type": "markdown",
   "metadata": {},
   "source": [
    "# Пробуем преобразовать наборы в разные комбинации и тренируем разные модели"
   ]
  },
  {
   "cell_type": "markdown",
   "metadata": {},
   "source": [
    "### RFEC сжатие признаков"
   ]
  },
  {
   "cell_type": "code",
   "execution_count": null,
   "metadata": {},
   "outputs": [
    {
     "data": {
      "text/plain": [
       "25"
      ]
     },
     "execution_count": 14,
     "metadata": {},
     "output_type": "execute_result"
    }
   ],
   "source": [
    "from sklearn.feature_selection import RFECV\n",
    "from sklearn.linear_model import LinearRegression\n",
    "from sklearn.preprocessing import StandardScaler\n",
    "\n",
    "scaler = StandardScaler()\n",
    "X_train_scaler = StandardScaler().fit_transform(X_train_0)\n",
    "\n",
    "\n",
    "rfecv = RFECV(estimator = DecisionTreeRegressor(),\n",
    "              step = 1,\n",
    "              scoring = RMSE_score,\n",
    "              cv = ShuffleSplit(n_splits = 5,\n",
    "                                test_size = 0.2,\n",
    "                                random_state = RANDOM_STATE))\n",
    "rfecv.fit(X_train_scaler, y_train)\n",
    "new_features = rfecv.transform(X_train_scaler)\n",
    "rfecv.n_features_"
   ]
  },
  {
   "cell_type": "code",
   "execution_count": null,
   "metadata": {},
   "outputs": [],
   "source": [
    "priznaki = pd.DataFrame(rfecv.support_)\n",
    "priznaki = priznaki[priznaki[0] == True].index\n",
    "\n",
    "X_train_rfecv = pd.DataFrame(X_train_0).iloc[:,[*priznaki]]"
   ]
  },
  {
   "cell_type": "markdown",
   "metadata": {},
   "source": [
    "# Модель DecisonTree"
   ]
  },
  {
   "cell_type": "code",
   "execution_count": null,
   "metadata": {},
   "outputs": [
    {
     "name": "stdout",
     "output_type": "stream",
     "text": [
      "Лучший гиперпараметр: {'max_depth': 6}\n",
      "Лучшая оценка RMSE: 9.143089861231186\n"
     ]
    }
   ],
   "source": [
    "model_1 = GridSearchCV(estimator = DecisionTreeRegressor(random_state = RANDOM_STATE),\n",
    "                       param_grid = {'max_depth': np.arange(2,20,2)},\n",
    "                       scoring = RMSE_score,\n",
    "                       cv = ShuffleSplit(n_splits = 5,\n",
    "                                         test_size = 0.2,\n",
    "                                         random_state = RANDOM_STATE),\n",
    "                       n_jobs = -1)\n",
    "\n",
    "model_1.fit(X_train_rfecv, y_train)\n",
    "print(f'Лучший гиперпараметр: {model_1.best_params_}')\n",
    "print(f'Лучшая оценка RMSE: {model_1.best_score_ * (-1)}')\n",
    "\n",
    "model_1 = model_1.best_estimator_"
   ]
  },
  {
   "cell_type": "markdown",
   "metadata": {},
   "source": [
    "# Extra_tree предобработка"
   ]
  },
  {
   "cell_type": "code",
   "execution_count": null,
   "metadata": {},
   "outputs": [
    {
     "data": {
      "text/plain": [
       "array([0.1062346 , 0.02074449, 0.01728683, 0.01912941, 0.0120844 ,\n",
       "       0.03419286, 0.01355688, 0.02542093, 0.01816836, 0.01667467,\n",
       "       0.01204811, 0.01317377, 0.08305046, 0.03393543, 0.01238783,\n",
       "       0.01432997, 0.06052925, 0.05164253, 0.01761136, 0.03133758,\n",
       "       0.0193814 , 0.02496465, 0.01610882, 0.00955291, 0.01319081,\n",
       "       0.00757926, 0.01560091, 0.00630491, 0.01554455, 0.00637708,\n",
       "       0.01013216, 0.00720299, 0.0103676 , 0.00725469, 0.01651741,\n",
       "       0.0116771 , 0.01237395, 0.00948886, 0.01563489, 0.01014418,\n",
       "       0.01223875, 0.00917873, 0.01530713, 0.01134172, 0.01906034,\n",
       "       0.00882637, 0.01287796, 0.00643862, 0.01114043, 0.0093552 ,\n",
       "       0.01567115, 0.00962472])"
      ]
     },
     "execution_count": 17,
     "metadata": {},
     "output_type": "execute_result"
    }
   ],
   "source": [
    "from sklearn.ensemble import ExtraTreesRegressor\n",
    "\n",
    "otbor = ExtraTreesRegressor(random_state = RANDOM_STATE)\n",
    "otbor.fit(X_train_0, y_train)\n",
    "otbor.feature_importances_"
   ]
  },
  {
   "cell_type": "code",
   "execution_count": null,
   "metadata": {},
   "outputs": [
    {
     "data": {
      "text/plain": [
       "Text(0, 0.5, 'номер признака')"
      ]
     },
     "execution_count": 35,
     "metadata": {},
     "output_type": "execute_result"
    },
    {
     "data": {
      "image/png": "[encoded data removed]",
      "text/plain": [
       "<Figure size 1200x500 with 1 Axes>"
      ]
     },
     "metadata": {},
     "output_type": "display_data"
    }
   ],
   "source": [
    "feature_extra = \\\n",
    "pd.Series(otbor.feature_importances_)\n",
    "\n",
    "plt.figure(figsize = (12,5))\n",
    "sns.barplot(data = pd.DataFrame(feature_extra).reset_index(),\n",
    "            x = 'index',\n",
    "            y = 0)\n",
    "plt.title('Важность признаков с помощью ExtraTrees')\n",
    "plt.xlabel('важность')\n",
    "plt.ylabel('номер признака')   # Большинство признаков схожи по своей важности (но есть выделяющиеся) - бесполезно выбирать, пробуем ещё"
   ]
  },
  {
   "cell_type": "markdown",
   "metadata": {},
   "source": [
    "# GridSearch - DecisionTree"
   ]
  },
  {
   "cell_type": "code",
   "execution_count": null,
   "metadata": {},
   "outputs": [
    {
     "name": "stdout",
     "output_type": "stream",
     "text": [
      "Лучший гиперпараметр: {'max_depth': 10}\n",
      "Лучшая оценка RMSE: 9.314929794185302\n"
     ]
    }
   ],
   "source": [
    "extra_important_index = pd.Series(otbor.feature_importances_).sort_values(ascending = False).index[:24]\n",
    "X_train_extra_important = pd.DataFrame(X_train_0).iloc[:,extra_important_index]\n",
    "\n",
    "model_2 = GridSearchCV(estimator = DecisionTreeRegressor(random_state = RANDOM_STATE),\n",
    "                       param_grid = {'max_depth': np.arange(2,20,2)},\n",
    "                       scoring = RMSE_score,\n",
    "                       cv = ShuffleSplit(n_splits = 5,\n",
    "                                         test_size = 0.2,\n",
    "                                         random_state = RANDOM_STATE),\n",
    "                       n_jobs = -1)\n",
    "\n",
    "model_2.fit(X_train_extra_important, y_train)\n",
    "print(f'Лучший гиперпараметр: {model_2.best_params_}')\n",
    "print(f'Лучшая оценка RMSE: {model_2.best_score_ * (-1)}')\n",
    "\n",
    "model_2 = model_2.best_estimator_"
   ]
  },
  {
   "cell_type": "markdown",
   "metadata": {},
   "source": [
    "# Grid + RandomForest + Extra_Tree набор"
   ]
  },
  {
   "cell_type": "code",
   "execution_count": null,
   "metadata": {},
   "outputs": [
    {
     "name": "stdout",
     "output_type": "stream",
     "text": [
      "Лучший гиперпараметр: {'n_estimators': 900}\n",
      "Лучшая оценка RMSE: 7.464323258940638\n"
     ]
    }
   ],
   "source": [
    "from sklearn.ensemble import RandomForestRegressor\n",
    "\n",
    "model_forest = GridSearchCV(estimator = RandomForestRegressor(random_state = RANDOM_STATE),\n",
    "                            param_grid = {'n_estimators':np.arange(100,1000,100)},\n",
    "                            scoring = RMSE_score,\n",
    "                            cv = ShuffleSplit(n_splits = 5,\n",
    "                                              test_size = 0.2,\n",
    "                                              random_state = RANDOM_STATE),\n",
    "                            n_jobs = 10)\n",
    "model_forest.fit(X_train_extra_important,\n",
    "                 y_train)\n",
    "print(f'Лучший гиперпараметр: {model_forest.best_params_}')\n",
    "print(f'Лучшая оценка RMSE: {model_forest.best_score_ * (-1)}')\n",
    "\n",
    "model_forest_best = model_forest.best_estimator_"
   ]
  },
  {
   "cell_type": "markdown",
   "metadata": {},
   "source": [
    "# Grid + RandomForest + RFECV набор"
   ]
  },
  {
   "cell_type": "code",
   "execution_count": null,
   "metadata": {},
   "outputs": [
    {
     "name": "stdout",
     "output_type": "stream",
     "text": [
      "Лучший гиперпараметр: {'n_estimators': 900}\n",
      "Лучшая оценка RMSE: 7.378367719596847\n"
     ]
    }
   ],
   "source": [
    "from sklearn.ensemble import RandomForestRegressor\n",
    "\n",
    "model_forest_1 = GridSearchCV(estimator = RandomForestRegressor(random_state = RANDOM_STATE),\n",
    "                             param_grid = {'n_estimators':np.arange(700,1000,100)},\n",
    "                             scoring = RMSE_score,\n",
    "                             cv = ShuffleSplit(n_splits = 5,\n",
    "                                               test_size = 0.2,\n",
    "                                               random_state = RANDOM_STATE),\n",
    "                             n_jobs = 7)\n",
    "model_forest_1.fit(X_train_rfecv,\n",
    "                   y_train)\n",
    "print(f'Лучший гиперпараметр: {model_forest_1.best_params_}')\n",
    "print(f'Лучшая оценка RMSE: {model_forest_1.best_score_ * (-1)}')\n",
    "\n",
    "model_forest_best_rfec_data = model_forest_1.best_estimator_"
   ]
  },
  {
   "cell_type": "markdown",
   "metadata": {},
   "source": [
    "# Grid + RandomForest очищеный набор"
   ]
  },
  {
   "cell_type": "code",
   "execution_count": null,
   "metadata": {},
   "outputs": [
    {
     "name": "stdout",
     "output_type": "stream",
     "text": [
      "Лучший гиперпараметр: {'n_estimators': 700}\n",
      "Лучшая оценка RMSE: 6.6076845600848815\n"
     ]
    }
   ],
   "source": [
    "from sklearn.ensemble import RandomForestRegressor\n",
    "\n",
    "model_forest_2 = GridSearchCV(estimator = RandomForestRegressor(random_state = RANDOM_STATE),\n",
    "                             param_grid = {'n_estimators':np.arange(700,1000,100)},\n",
    "                             scoring = RMSE_score,\n",
    "                             cv = ShuffleSplit(n_splits = 5,\n",
    "                                               test_size = 0.2,\n",
    "                                               random_state = RANDOM_STATE),\n",
    "                             n_jobs = 7)\n",
    "model_forest_2.fit(X_train.dropna(),\n",
    "                   y_train[X_train.dropna().index])\n",
    "print(f'Лучший гиперпараметр: {model_forest_2.best_params_}')\n",
    "print(f'Лучшая оценка RMSE: {model_forest_2.best_score_ * (-1)}')\n",
    "\n",
    "model_forest_best_all_data = model_forest_2.best_estimator_"
   ]
  },
  {
   "cell_type": "markdown",
   "metadata": {},
   "source": [
    "# CatBoost + очищенный набор"
   ]
  },
  {
   "cell_type": "code",
   "execution_count": null,
   "metadata": {},
   "outputs": [
    {
     "data": {
      "application/vnd.jupyter.widget-view+json": {
       "model_id": "afd18cf818004cd7841176f2e35fbb24",
       "version_major": 2,
       "version_minor": 0
      },
      "text/plain": [
       "MetricVisualizer(layout=Layout(align_self='stretch', height='500px'))"
      ]
     },
     "metadata": {},
     "output_type": "display_data"
    },
    {
     "data": {
      "text/plain": [
       "<catboost.core.CatBoostRegressor at 0x169de4a5e90>"
      ]
     },
     "execution_count": 114,
     "metadata": {},
     "output_type": "execute_result"
    }
   ],
   "source": [
    "from catboost import CatBoostRegressor\n",
    "\n",
    "cat_model1 = CatBoostRegressor(iterations = 1000,\n",
    "                              learning_rate = 0.01,\n",
    "                              random_state = RANDOM_STATE,\n",
    "                              task_type = \"GPU\",\n",
    "                              eval_metric = 'RMSE')\n",
    "cat_model1.fit(X_train.dropna(),\n",
    "              y_train[X_train.dropna().index],\n",
    "              plot = True,\n",
    "              verbose = False,\n",
    "              eval_set = (X_test, y_test))"
   ]
  },
  {
   "cell_type": "markdown",
   "metadata": {},
   "source": [
    "# CatBoost + RFECV набор"
   ]
  },
  {
   "cell_type": "code",
   "execution_count": null,
   "metadata": {},
   "outputs": [
    {
     "data": {
      "application/vnd.jupyter.widget-view+json": {
       "model_id": "60bde25338e84369848522b85da86519",
       "version_major": 2,
       "version_minor": 0
      },
      "text/plain": [
       "MetricVisualizer(layout=Layout(align_self='stretch', height='500px'))"
      ]
     },
     "metadata": {},
     "output_type": "display_data"
    },
    {
     "data": {
      "text/plain": [
       "<catboost.core.CatBoostRegressor at 0x16b01388490>"
      ]
     },
     "execution_count": 115,
     "metadata": {},
     "output_type": "execute_result"
    }
   ],
   "source": [
    "from catboost import CatBoostRegressor\n",
    "\n",
    "cat_model2 = CatBoostRegressor(iterations = 1000,\n",
    "                              learning_rate = 0.01,\n",
    "                              random_state = RANDOM_STATE,\n",
    "                              use_best_model = True,\n",
    "                              task_type = \"GPU\",\n",
    "                              eval_metric = 'RMSE')\n",
    "cat_model2.fit(X_train_rfecv.values,\n",
    "              y_train,\n",
    "              plot = True,\n",
    "              verbose = False,\n",
    "              eval_set = (X_test.iloc[:,X_train_rfecv.columns], y_test))"
   ]
  },
  {
   "cell_type": "markdown",
   "metadata": {},
   "source": [
    "# CatBoost + Extra_Tree набор"
   ]
  },
  {
   "cell_type": "code",
   "execution_count": null,
   "metadata": {},
   "outputs": [
    {
     "data": {
      "application/vnd.jupyter.widget-view+json": {
       "model_id": "2b193d0a6352466fb1a70929ba550715",
       "version_major": 2,
       "version_minor": 0
      },
      "text/plain": [
       "MetricVisualizer(layout=Layout(align_self='stretch', height='500px'))"
      ]
     },
     "metadata": {},
     "output_type": "display_data"
    },
    {
     "data": {
      "text/plain": [
       "<catboost.core.CatBoostRegressor at 0x16b018df9d0>"
      ]
     },
     "execution_count": 116,
     "metadata": {},
     "output_type": "execute_result"
    }
   ],
   "source": [
    "from catboost import CatBoostRegressor\n",
    "\n",
    "cat_model3 = CatBoostRegressor(iterations = 1000,\n",
    "                              learning_rate = 0.01,\n",
    "                              random_state = RANDOM_STATE,\n",
    "                              use_best_model = True,\n",
    "                              task_type = \"GPU\",\n",
    "                              eval_metric = 'RMSE')\n",
    "cat_model3.fit(X_train_extra_important.values,\n",
    "              y_train,\n",
    "              plot = True,\n",
    "              verbose = False,\n",
    "              eval_set = (X_test.iloc[:,X_train_extra_important.columns].values, y_test))"
   ]
  },
  {
   "cell_type": "code",
   "execution_count": null,
   "metadata": {},
   "outputs": [],
   "source": [
    "y_pred_forest_all_data = model_forest_best_all_data.predict(X_test.dropna())\n",
    "\n",
    "forest_test_score =\\\n",
    "RMSE(y_true = y_test[X_test.dropna().index],\n",
    "     y_pred = y_pred_forest_all_data)"
   ]
  },
  {
   "cell_type": "code",
   "execution_count": null,
   "metadata": {},
   "outputs": [
    {
     "name": "stdout",
     "output_type": "stream",
     "text": [
      "cat model на полном наборе без пустых значений \n",
      " {'learn': {'RMSE': 6.416039903001419}, 'validation': {'RMSE': 9.732989812529427}}\n",
      "\n",
      "\n",
      "cat model на rfec ужатом наборе с заполненными пустыми значениями K_mean \n",
      " {'learn': {'RMSE': 7.473593417645007}, 'validation': {'RMSE': 9.652021843851061}}\n",
      "\n",
      "\n",
      "cat model на extra_tree ужатом наборе с заполненными пустыми значениями K_mean \n",
      " {'learn': {'RMSE': 7.473593417645007}, 'validation': {'RMSE': 9.652021843851061}}\n",
      "\n",
      "\n",
      "random forest на полном наборе данных без пустых значений \n",
      "\n",
      "learn: 6.6076845600848815\n",
      "test:  10.061577829231327\n"
     ]
    }
   ],
   "source": [
    "print('cat model на полном наборе без пустых значений \\n' , cat_model1.best_score_)\n",
    "print('\\n')\n",
    "print('cat model на rfec ужатом наборе с заполненными пустыми значениями K_mean \\n' , cat_model2.best_score_)\n",
    "print('\\n')\n",
    "print('cat model на extra_tree ужатом наборе с заполненными пустыми значениями K_mean \\n' , cat_model2.best_score_)\n",
    "print('\\n')\n",
    "print('random forest на полном наборе данных без пустых значений \\n')\n",
    "print('learn:', model_forest_2.best_score_*(-1))\n",
    "print('test: ', forest_test_score)"
   ]
  },
  {
   "cell_type": "markdown",
   "metadata": {},
   "source": [
    "# Вывод\n",
    "\n",
    "- мы попробовали разные кобинации наборов (предподготовленных ко входу в модель наборов) \n",
    "    - dropna() набор\n",
    "    - rfec сжатых набор (с заполненнными K-mean значениями)\n",
    "    - extra_tree сжатый набор (с заполненнными K-mean значениями)\n",
    "\n",
    "- мы попробовали разные модели с этими наборами\n",
    "    - decoision tree (наша опорная модель)\n",
    "    - random forest + gridsearchcv\n",
    "    - catboost\n",
    "\n",
    "В итоге наилучший компромис мы нашли в модели catboost model с тренировкой на полном наборе с dropna() ---> (cat_model_1)"
   ]
  },
  {
   "cell_type": "code",
   "execution_count": null,
   "metadata": {},
   "outputs": [
    {
     "ename": "AttributeError",
     "evalue": "'list' object has no attribute 'items'",
     "output_type": "error",
     "traceback": [
      "\u001b[1;31m---------------------------------------------------------------------------\u001b[0m",
      "\u001b[1;31mAttributeError\u001b[0m                            Traceback (most recent call last)",
      "\u001b[1;32mc:\\Users\\oudel\\OneDrive\\Рабочий стол\\data_sciense\\Восстановление золота из руды (Сборный проект)\\Сборный проект 1.ipynb Ячейка 39\u001b[0m line \u001b[0;36m1\n\u001b[1;32m----> <a href='vscode-notebook-cell:/c%3A/Users/oudel/OneDrive/%D0%A0%D0%B0%D0%B1%D0%BE%D1%87%D0%B8%D0%B9%20%D1%81%D1%82%D0%BE%D0%BB/data_sciense/%D0%92%D0%BE%D1%81%D1%81%D1%82%D0%B0%D0%BD%D0%BE%D0%B2%D0%BB%D0%B5%D0%BD%D0%B8%D0%B5%20%D0%B7%D0%BE%D0%BB%D0%BE%D1%82%D0%B0%20%D0%B8%D0%B7%20%D1%80%D1%83%D0%B4%D1%8B%20%28%D0%A1%D0%B1%D0%BE%D1%80%D0%BD%D1%8B%D0%B9%20%D0%BF%D1%80%D0%BE%D0%B5%D0%BA%D1%82%29/%D0%A1%D0%B1%D0%BE%D1%80%D0%BD%D1%8B%D0%B9%20%D0%BF%D1%80%D0%BE%D0%B5%D0%BA%D1%82%201.ipynb#X53sZmlsZQ%3D%3D?line=0'>1</a>\u001b[0m \u001b[39mfor\u001b[39;00m key, value \u001b[39min\u001b[39;00m [\u001b[39m1\u001b[39;49m,\u001b[39m2\u001b[39;49m,\u001b[39m3\u001b[39;49m]\u001b[39m.\u001b[39;49mitems():\n\u001b[0;32m      <a href='vscode-notebook-cell:/c%3A/Users/oudel/OneDrive/%D0%A0%D0%B0%D0%B1%D0%BE%D1%87%D0%B8%D0%B9%20%D1%81%D1%82%D0%BE%D0%BB/data_sciense/%D0%92%D0%BE%D1%81%D1%81%D1%82%D0%B0%D0%BD%D0%BE%D0%B2%D0%BB%D0%B5%D0%BD%D0%B8%D0%B5%20%D0%B7%D0%BE%D0%BB%D0%BE%D1%82%D0%B0%20%D0%B8%D0%B7%20%D1%80%D1%83%D0%B4%D1%8B%20%28%D0%A1%D0%B1%D0%BE%D1%80%D0%BD%D1%8B%D0%B9%20%D0%BF%D1%80%D0%BE%D0%B5%D0%BA%D1%82%29/%D0%A1%D0%B1%D0%BE%D1%80%D0%BD%D1%8B%D0%B9%20%D0%BF%D1%80%D0%BE%D0%B5%D0%BA%D1%82%201.ipynb#X53sZmlsZQ%3D%3D?line=1'>2</a>\u001b[0m     \u001b[39mprint\u001b[39m(key)\n",
      "\u001b[1;31mAttributeError\u001b[0m: 'list' object has no attribute 'items'"
     ]
    }
   ],
   "source": [
    "for i in [1,2,3]:\n",
    "    print()\n"
   ]
  }
 ],
 "metadata": {
  "kernelspec": {
   "display_name": "Python 3",
   "language": "python",
   "name": "python3"
  },
  "language_info": {
   "codemirror_mode": {
    "name": "ipython",
    "version": 3
   },
   "file_extension": ".py",
   "mimetype": "text/x-python",
   "name": "python",
   "nbconvert_exporter": "python",
   "pygments_lexer": "ipython3",
   "version": "3.11.2"
  }
 },
 "nbformat": 4,
 "nbformat_minor": 2
}
