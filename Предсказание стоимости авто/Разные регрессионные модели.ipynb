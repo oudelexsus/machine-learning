{
 "cells": [
  {
   "cell_type": "markdown",
   "metadata": {},
   "source": [
    "# Определение стоимости автомобилей\n",
    "\n",
    "Сервис по продаже автомобилей с пробегом «Не бит, не крашен» разрабатывает приложение для привлечения новых клиентов. В нём можно быстро узнать рыночную стоимость своего автомобиля. В вашем распоряжении исторические данные: технические характеристики, комплектации и цены автомобилей. Вам нужно построить модель для определения стоимости.\n",
    "\n",
    "---\n",
    "---\n",
    "\n",
    "## Заказчику важны:\n",
    "\n",
    "- качество предсказания;\n",
    "- скорость предсказания;\n",
    "- время обучения.\n",
    "\n",
    "---\n",
    "---\n",
    "\n",
    "# Навигация (структура VScode)\n",
    "\n",
    "-   Предподготовка данных\n",
    "-   Проверка на дубликаты\n",
    "-   Посмотрим на выбросы\n",
    "-   Разбираемся с нулевыми значениями powerPS \n",
    "-   Разбираемся с нулевыми значениями price\n",
    "-   Посмотрим, есть ли сильно коррелированные признаки\n",
    "-   Напишем итоговый трансформер и ковейер для этих данных\n",
    "-   Модели\n",
    "    -   Разбиение выборок на тренировочную и тестовую\n",
    "    -   Обозначим категориальные признаки\n",
    "    -   DecisionTree\n",
    "    -   RandomForest / LinearRegression\n",
    "    -   Catboost\n",
    "    -   Ищем причины получения идеального регрессора (линейная модель, и nan в RandomForest) \n",
    "    -   Продолжаем испытывать catboost модель\n",
    "    -   Проверка модели на тестовой выборке\n",
    "    -   Поменяем немного датасет (ограничим price)\n",
    "-   Вывод\n",
    "    -   1-й датасет (не урезанный таргет price)\n",
    "    -   2-й датасет (урезанный таргет price)\n",
    "\n",
    "\n",
    "---\n",
    "---\n",
    "\n",
    "## Описание данных\n",
    "\n",
    "- DateCrawled — дата скачивания анкеты из базы\n",
    "- VehicleType — тип автомобильного кузова\n",
    "- RegistrationYear — год регистрации автомобиля\n",
    "- Gearbox — тип коробки передач\n",
    "- Power — мощность (л. с.)\n",
    "- Model — модель автомобиля\n",
    "- Kilometer — пробег (км)\n",
    "- RegistrationMonth — месяц регистрации автомобиля\n",
    "- FuelType — тип топлива\n",
    "- Brand — марка автомобиля\n",
    "- Repaired — была машина в ремонте или нет\n",
    "- DateCreated — дата создания анкеты\n",
    "- NumberOfPictures — количество фотографий автомобиля\n",
    "- PostalCode — почтовый индекс владельца анкеты (пользователя)\n",
    "- LastSeen — дата последней активности пользователя\n",
    "\n",
    "- name - полное название автомобиля\n",
    "- seller - наименование продавца (частный, промышленный)\n",
    "\n",
    "### Целевой признак\n",
    "\n",
    "- Price — цена (доллары)"
   ]
  },
  {
   "cell_type": "code",
   "execution_count": 1,
   "metadata": {},
   "outputs": [],
   "source": [
    "import pandas as pd\n",
    "import numpy as np\n",
    "import matplotlib.pyplot as plt\n",
    "import seaborn as sns\n",
    "pd.set_option('display.max_columns', None)\n",
    "from sklearn.preprocessing import OneHotEncoder\n",
    "from sklearn.pipeline import Pipeline\n",
    "from sklearn.preprocessing import StandardScaler     \n",
    "from sklearn.preprocessing import FunctionTransformer\n",
    "from sklearn_pandas import DataFrameMapper\n",
    "from sklearn.linear_model import LinearRegression\n",
    "from sklearn.tree import DecisionTreeRegressor\n",
    "from sklearn.ensemble import RandomForestRegressor\n",
    "from catboost import CatBoostRegressor\n",
    "from sklearn.model_selection import GridSearchCV\n",
    "from sklearn.model_selection import ShuffleSplit\n",
    "from sklearn.model_selection import train_test_split\n",
    "from sklearn.metrics import mean_squared_error\n",
    "from sklearn.metrics import make_scorer\n",
    "\n",
    "RANDOM_STATE = 42"
   ]
  },
  {
   "cell_type": "markdown",
   "metadata": {},
   "source": [
    "# Предподготовка данных"
   ]
  },
  {
   "cell_type": "code",
   "execution_count": 2,
   "metadata": {},
   "outputs": [
    {
     "name": "stdout",
     "output_type": "stream",
     "text": [
      "<class 'pandas.core.frame.DataFrame'>\n",
      "RangeIndex: 50000 entries, 0 to 49999\n",
      "Data columns (total 20 columns):\n",
      " #   Column               Non-Null Count  Dtype \n",
      "---  ------               --------------  ----- \n",
      " 0   dateCrawled          50000 non-null  object\n",
      " 1   name                 50000 non-null  object\n",
      " 2   seller               50000 non-null  object\n",
      " 3   offerType            50000 non-null  object\n",
      " 4   price                50000 non-null  object\n",
      " 5   abtest               50000 non-null  object\n",
      " 6   vehicleType          44905 non-null  object\n",
      " 7   yearOfRegistration   50000 non-null  int64 \n",
      " 8   gearbox              47320 non-null  object\n",
      " 9   powerPS              50000 non-null  int64 \n",
      " 10  model                47242 non-null  object\n",
      " 11  odometer             50000 non-null  object\n",
      " 12  monthOfRegistration  50000 non-null  int64 \n",
      " 13  fuelType             45518 non-null  object\n",
      " 14  brand                50000 non-null  object\n",
      " 15  notRepairedDamage    40171 non-null  object\n",
      " 16  dateCreated          50000 non-null  object\n",
      " 17  nrOfPictures         50000 non-null  int64 \n",
      " 18  postalCode           50000 non-null  int64 \n",
      " 19  lastSeen             50000 non-null  object\n",
      "dtypes: int64(5), object(15)\n",
      "memory usage: 7.6+ MB\n"
     ]
    }
   ],
   "source": [
    "data_base = pd.read_csv('autos.csv',\n",
    "                        encoding='latin-1')\n",
    "data = data_base.copy()\n",
    "data.info()"
   ]
  },
  {
   "cell_type": "markdown",
   "metadata": {},
   "source": [
    "## Предподготовка признаков "
   ]
  },
  {
   "cell_type": "markdown",
   "metadata": {},
   "source": [
    "#### DateCrawled, yearOfRegistration, monthOfRegistration"
   ]
  },
  {
   "cell_type": "code",
   "execution_count": 3,
   "metadata": {},
   "outputs": [
    {
     "name": "stdout",
     "output_type": "stream",
     "text": [
      "<class 'pandas.core.frame.DataFrame'>\n",
      "Int64Index: 49160 entries, 0 to 49999\n",
      "Data columns (total 15 columns):\n",
      " #   Column             Non-Null Count  Dtype \n",
      "---  ------             --------------  ----- \n",
      " 0   name               49160 non-null  object\n",
      " 1   seller             49160 non-null  object\n",
      " 2   offerType          49160 non-null  object\n",
      " 3   price              49160 non-null  object\n",
      " 4   abtest             49160 non-null  object\n",
      " 5   vehicleType        44195 non-null  object\n",
      " 6   gearbox            46643 non-null  object\n",
      " 7   powerPS            49160 non-null  int64 \n",
      " 8   model              46587 non-null  object\n",
      " 9   odometer           49160 non-null  object\n",
      " 10  fuelType           44841 non-null  object\n",
      " 11  brand              49160 non-null  object\n",
      " 12  notRepairedDamage  39618 non-null  object\n",
      " 13  nrOfPictures       49160 non-null  int64 \n",
      " 14  age                49160 non-null  int64 \n",
      "dtypes: int64(3), object(12)\n",
      "memory usage: 6.0+ MB\n"
     ]
    }
   ],
   "source": [
    "data = data[(data['yearOfRegistration'] <= 2018) & (data['yearOfRegistration'] >= 1985)]\n",
    "data['yearOfRegistration'] = data['yearOfRegistration'].map(lambda x: np.where(x >= 2017, 2016, x))\n",
    "data['crawl_year'] = pd.to_datetime(data['dateCrawled']).dt.year\n",
    "data['age'] = data['crawl_year'] - data['yearOfRegistration']\n",
    "data = data.drop(['dateCrawled', 'crawl_year', 'yearOfRegistration', 'monthOfRegistration', 'dateCreated', 'postalCode', 'lastSeen'], axis = 1)\n",
    "data.info()"
   ]
  },
  {
   "cell_type": "markdown",
   "metadata": {},
   "source": [
    "##### вывод:\n",
    "\n",
    "Стоимость автомобиля может зависеть от его возраста (дата взятия анкеты - дата регистрации)"
   ]
  },
  {
   "cell_type": "markdown",
   "metadata": {},
   "source": [
    "#### Name\n",
    "\n",
    "так как уникаьных значений слишком много 38 754 шт. кодирование бесполезно, тем более есть отдельные признаки модели, бренда и других описательных характеристрик, а обычно в названии зашифровано имено эти характеристики (модель, бренд, литраж и тд.) --> дропаем этот признака"
   ]
  },
  {
   "cell_type": "code",
   "execution_count": 4,
   "metadata": {},
   "outputs": [
    {
     "data": {
      "text/plain": [
       "38031"
      ]
     },
     "execution_count": 4,
     "metadata": {},
     "output_type": "execute_result"
    }
   ],
   "source": [
    "len(data['name'].unique())"
   ]
  },
  {
   "cell_type": "code",
   "execution_count": 5,
   "metadata": {},
   "outputs": [],
   "source": [
    "data = data.drop('name', axis = 1)"
   ]
  },
  {
   "cell_type": "markdown",
   "metadata": {},
   "source": [
    "#### Seller"
   ]
  },
  {
   "cell_type": "code",
   "execution_count": 6,
   "metadata": {},
   "outputs": [
    {
     "data": {
      "text/plain": [
       "array(['privat', 'gewerblich'], dtype=object)"
      ]
     },
     "execution_count": 6,
     "metadata": {},
     "output_type": "execute_result"
    }
   ],
   "source": [
    "data['seller'].unique()"
   ]
  },
  {
   "cell_type": "code",
   "execution_count": 7,
   "metadata": {},
   "outputs": [
    {
     "name": "stdout",
     "output_type": "stream",
     "text": [
      "<class 'pandas.core.frame.DataFrame'>\n",
      "Int64Index: 49160 entries, 0 to 49999\n",
      "Data columns (total 14 columns):\n",
      " #   Column             Non-Null Count  Dtype \n",
      "---  ------             --------------  ----- \n",
      " 0   seller             49160 non-null  int64 \n",
      " 1   offerType          49160 non-null  object\n",
      " 2   price              49160 non-null  object\n",
      " 3   abtest             49160 non-null  object\n",
      " 4   vehicleType        44195 non-null  object\n",
      " 5   gearbox            46643 non-null  object\n",
      " 6   powerPS            49160 non-null  int64 \n",
      " 7   model              46587 non-null  object\n",
      " 8   odometer           49160 non-null  object\n",
      " 9   fuelType           44841 non-null  object\n",
      " 10  brand              49160 non-null  object\n",
      " 11  notRepairedDamage  39618 non-null  object\n",
      " 12  nrOfPictures       49160 non-null  int64 \n",
      " 13  age                49160 non-null  int64 \n",
      "dtypes: int64(4), object(10)\n",
      "memory usage: 5.6+ MB\n"
     ]
    }
   ],
   "source": [
    "data['seller'] = data['seller'].map(lambda x: np.where(x == 'privat', 1, 0))\n",
    "data.info()"
   ]
  },
  {
   "cell_type": "markdown",
   "metadata": {},
   "source": [
    "##### вывод\n",
    "\n",
    "заменили seller : 'privat' - 1, 'gewerblich' - 0"
   ]
  },
  {
   "cell_type": "markdown",
   "metadata": {},
   "source": [
    "#### offerType"
   ]
  },
  {
   "cell_type": "code",
   "execution_count": 8,
   "metadata": {},
   "outputs": [
    {
     "data": {
      "text/plain": [
       "array(['Angebot', 'Gesuch'], dtype=object)"
      ]
     },
     "execution_count": 8,
     "metadata": {},
     "output_type": "execute_result"
    }
   ],
   "source": [
    "data['offerType'].unique()"
   ]
  },
  {
   "cell_type": "code",
   "execution_count": 9,
   "metadata": {},
   "outputs": [
    {
     "name": "stdout",
     "output_type": "stream",
     "text": [
      "<class 'pandas.core.frame.DataFrame'>\n",
      "Int64Index: 49160 entries, 0 to 49999\n",
      "Data columns (total 14 columns):\n",
      " #   Column             Non-Null Count  Dtype \n",
      "---  ------             --------------  ----- \n",
      " 0   seller             49160 non-null  int64 \n",
      " 1   offerType          49160 non-null  int64 \n",
      " 2   price              49160 non-null  object\n",
      " 3   abtest             49160 non-null  object\n",
      " 4   vehicleType        44195 non-null  object\n",
      " 5   gearbox            46643 non-null  object\n",
      " 6   powerPS            49160 non-null  int64 \n",
      " 7   model              46587 non-null  object\n",
      " 8   odometer           49160 non-null  object\n",
      " 9   fuelType           44841 non-null  object\n",
      " 10  brand              49160 non-null  object\n",
      " 11  notRepairedDamage  39618 non-null  object\n",
      " 12  nrOfPictures       49160 non-null  int64 \n",
      " 13  age                49160 non-null  int64 \n",
      "dtypes: int64(5), object(9)\n",
      "memory usage: 5.6+ MB\n"
     ]
    }
   ],
   "source": [
    "data['offerType'] = data['offerType'].map(lambda x: np.where(x == 'Angebot', 1, 0))\n",
    "data.info()"
   ]
  },
  {
   "cell_type": "markdown",
   "metadata": {},
   "source": [
    "##### вывод\n",
    "\n",
    "заменили offerType : 'Angebot' - 1, 'Gesuch' - 0"
   ]
  },
  {
   "cell_type": "markdown",
   "metadata": {},
   "source": [
    "#### Price"
   ]
  },
  {
   "cell_type": "code",
   "execution_count": 10,
   "metadata": {},
   "outputs": [
    {
     "data": {
      "text/plain": [
       "0         $5,000\n",
       "1         $8,500\n",
       "2         $8,990\n",
       "3         $4,350\n",
       "4         $1,350\n",
       "          ...   \n",
       "49995    $24,900\n",
       "49996     $1,980\n",
       "49997    $13,200\n",
       "49998    $22,900\n",
       "49999     $1,250\n",
       "Name: price, Length: 49160, dtype: object"
      ]
     },
     "execution_count": 10,
     "metadata": {},
     "output_type": "execute_result"
    }
   ],
   "source": [
    "data['price']"
   ]
  },
  {
   "cell_type": "code",
   "execution_count": 11,
   "metadata": {},
   "outputs": [
    {
     "data": {
      "text/plain": [
       "0    5000\n",
       "1    8500\n",
       "2    8990\n",
       "3    4350\n",
       "4    1350\n",
       "Name: price, dtype: int64"
      ]
     },
     "execution_count": 11,
     "metadata": {},
     "output_type": "execute_result"
    }
   ],
   "source": [
    "def price_change(x):\n",
    "    x = x.replace('$', '').replace(',', '')\n",
    "    return int(x)\n",
    "\n",
    "data['price'] = data['price'].map(price_change)\n",
    "data['price'].head()"
   ]
  },
  {
   "cell_type": "code",
   "execution_count": 12,
   "metadata": {},
   "outputs": [],
   "source": [
    "data = data.drop('abtest', axis = 1)"
   ]
  },
  {
   "cell_type": "markdown",
   "metadata": {},
   "source": [
    "#### vehicleType"
   ]
  },
  {
   "cell_type": "code",
   "execution_count": 13,
   "metadata": {},
   "outputs": [
    {
     "data": {
      "text/plain": [
       "array(['bus', 'limousine', 'kleinwagen', 'kombi', nan, 'coupe', 'suv',\n",
       "       'cabrio', 'andere'], dtype=object)"
      ]
     },
     "execution_count": 13,
     "metadata": {},
     "output_type": "execute_result"
    }
   ],
   "source": [
    "data['vehicleType'].unique()"
   ]
  },
  {
   "cell_type": "code",
   "execution_count": 14,
   "metadata": {},
   "outputs": [
    {
     "data": {
      "text/plain": [
       "array(['bus', 'limousine', 'kleinwagen', 'kombi', 'other', 'coupe', 'suv',\n",
       "       'cabrio', 'andere'], dtype=object)"
      ]
     },
     "execution_count": 14,
     "metadata": {},
     "output_type": "execute_result"
    }
   ],
   "source": [
    "data['vehicleType'] = data['vehicleType'].fillna('other')\n",
    "data['vehicleType'].unique()"
   ]
  },
  {
   "cell_type": "markdown",
   "metadata": {},
   "source": [
    "##### вывод: \n",
    "\n",
    "Вконечном трасформаторе преобразуем в OneHot() матрицу"
   ]
  },
  {
   "cell_type": "markdown",
   "metadata": {},
   "source": [
    "#### GearBox"
   ]
  },
  {
   "cell_type": "code",
   "execution_count": 15,
   "metadata": {},
   "outputs": [
    {
     "data": {
      "text/plain": [
       "array(['manuell', 'automatik', nan], dtype=object)"
      ]
     },
     "execution_count": 15,
     "metadata": {},
     "output_type": "execute_result"
    }
   ],
   "source": [
    "data['gearbox'].unique()"
   ]
  },
  {
   "cell_type": "code",
   "execution_count": 16,
   "metadata": {},
   "outputs": [
    {
     "data": {
      "text/html": [
       "<div>\n",
       "<style scoped>\n",
       "    .dataframe tbody tr th:only-of-type {\n",
       "        vertical-align: middle;\n",
       "    }\n",
       "\n",
       "    .dataframe tbody tr th {\n",
       "        vertical-align: top;\n",
       "    }\n",
       "\n",
       "    .dataframe thead th {\n",
       "        text-align: right;\n",
       "    }\n",
       "</style>\n",
       "<table border=\"1\" class=\"dataframe\">\n",
       "  <thead>\n",
       "    <tr style=\"text-align: right;\">\n",
       "      <th></th>\n",
       "      <th>dateCrawled</th>\n",
       "      <th>name</th>\n",
       "      <th>seller</th>\n",
       "      <th>offerType</th>\n",
       "      <th>price</th>\n",
       "      <th>abtest</th>\n",
       "      <th>vehicleType</th>\n",
       "      <th>yearOfRegistration</th>\n",
       "      <th>gearbox</th>\n",
       "      <th>powerPS</th>\n",
       "      <th>model</th>\n",
       "      <th>odometer</th>\n",
       "      <th>monthOfRegistration</th>\n",
       "      <th>fuelType</th>\n",
       "      <th>brand</th>\n",
       "      <th>notRepairedDamage</th>\n",
       "      <th>dateCreated</th>\n",
       "      <th>nrOfPictures</th>\n",
       "      <th>postalCode</th>\n",
       "      <th>lastSeen</th>\n",
       "    </tr>\n",
       "  </thead>\n",
       "  <tbody>\n",
       "    <tr>\n",
       "      <th>11</th>\n",
       "      <td>2016-03-16 18:45:34</td>\n",
       "      <td>Mercedes_A140_Motorschaden</td>\n",
       "      <td>privat</td>\n",
       "      <td>Angebot</td>\n",
       "      <td>$350</td>\n",
       "      <td>control</td>\n",
       "      <td>NaN</td>\n",
       "      <td>2000</td>\n",
       "      <td>NaN</td>\n",
       "      <td>0</td>\n",
       "      <td>NaN</td>\n",
       "      <td>150,000km</td>\n",
       "      <td>0</td>\n",
       "      <td>benzin</td>\n",
       "      <td>mercedes_benz</td>\n",
       "      <td>NaN</td>\n",
       "      <td>2016-03-16 00:00:00</td>\n",
       "      <td>0</td>\n",
       "      <td>17498</td>\n",
       "      <td>2016-03-16 18:45:34</td>\n",
       "    </tr>\n",
       "    <tr>\n",
       "      <th>27</th>\n",
       "      <td>2016-03-27 18:45:01</td>\n",
       "      <td>Hat_einer_Ahnung_mit_Ford_Galaxy_HILFE</td>\n",
       "      <td>privat</td>\n",
       "      <td>Angebot</td>\n",
       "      <td>$0</td>\n",
       "      <td>control</td>\n",
       "      <td>NaN</td>\n",
       "      <td>2005</td>\n",
       "      <td>NaN</td>\n",
       "      <td>0</td>\n",
       "      <td>NaN</td>\n",
       "      <td>150,000km</td>\n",
       "      <td>0</td>\n",
       "      <td>NaN</td>\n",
       "      <td>ford</td>\n",
       "      <td>NaN</td>\n",
       "      <td>2016-03-27 00:00:00</td>\n",
       "      <td>0</td>\n",
       "      <td>66701</td>\n",
       "      <td>2016-03-27 18:45:01</td>\n",
       "    </tr>\n",
       "    <tr>\n",
       "      <th>52</th>\n",
       "      <td>2016-03-25 18:50:03</td>\n",
       "      <td>Senator_A_3.0E_Karosserie_restauriert_m._viele...</td>\n",
       "      <td>privat</td>\n",
       "      <td>Angebot</td>\n",
       "      <td>$3,500</td>\n",
       "      <td>test</td>\n",
       "      <td>limousine</td>\n",
       "      <td>1985</td>\n",
       "      <td>NaN</td>\n",
       "      <td>0</td>\n",
       "      <td>andere</td>\n",
       "      <td>5,000km</td>\n",
       "      <td>0</td>\n",
       "      <td>benzin</td>\n",
       "      <td>opel</td>\n",
       "      <td>nein</td>\n",
       "      <td>2016-03-25 00:00:00</td>\n",
       "      <td>0</td>\n",
       "      <td>63500</td>\n",
       "      <td>2016-04-07 00:46:00</td>\n",
       "    </tr>\n",
       "    <tr>\n",
       "      <th>60</th>\n",
       "      <td>2016-03-23 21:55:29</td>\n",
       "      <td>VW_Vento_1_8_Tuev_NEU</td>\n",
       "      <td>privat</td>\n",
       "      <td>Angebot</td>\n",
       "      <td>$1,199</td>\n",
       "      <td>test</td>\n",
       "      <td>limousine</td>\n",
       "      <td>1996</td>\n",
       "      <td>NaN</td>\n",
       "      <td>90</td>\n",
       "      <td>NaN</td>\n",
       "      <td>150,000km</td>\n",
       "      <td>0</td>\n",
       "      <td>benzin</td>\n",
       "      <td>volkswagen</td>\n",
       "      <td>nein</td>\n",
       "      <td>2016-03-23 00:00:00</td>\n",
       "      <td>0</td>\n",
       "      <td>1665</td>\n",
       "      <td>2016-04-06 05:45:36</td>\n",
       "    </tr>\n",
       "    <tr>\n",
       "      <th>64</th>\n",
       "      <td>2016-04-05 07:36:19</td>\n",
       "      <td>Autotransport__Abschlepp_Schlepper</td>\n",
       "      <td>privat</td>\n",
       "      <td>Angebot</td>\n",
       "      <td>$40</td>\n",
       "      <td>test</td>\n",
       "      <td>NaN</td>\n",
       "      <td>2011</td>\n",
       "      <td>NaN</td>\n",
       "      <td>0</td>\n",
       "      <td>5er</td>\n",
       "      <td>150,000km</td>\n",
       "      <td>5</td>\n",
       "      <td>NaN</td>\n",
       "      <td>bmw</td>\n",
       "      <td>NaN</td>\n",
       "      <td>2016-04-05 00:00:00</td>\n",
       "      <td>0</td>\n",
       "      <td>40591</td>\n",
       "      <td>2016-04-07 12:16:01</td>\n",
       "    </tr>\n",
       "  </tbody>\n",
       "</table>\n",
       "</div>"
      ],
      "text/plain": [
       "            dateCrawled                                               name  \\\n",
       "11  2016-03-16 18:45:34                         Mercedes_A140_Motorschaden   \n",
       "27  2016-03-27 18:45:01             Hat_einer_Ahnung_mit_Ford_Galaxy_HILFE   \n",
       "52  2016-03-25 18:50:03  Senator_A_3.0E_Karosserie_restauriert_m._viele...   \n",
       "60  2016-03-23 21:55:29                              VW_Vento_1_8_Tuev_NEU   \n",
       "64  2016-04-05 07:36:19                 Autotransport__Abschlepp_Schlepper   \n",
       "\n",
       "    seller offerType   price   abtest vehicleType  yearOfRegistration gearbox  \\\n",
       "11  privat   Angebot    $350  control         NaN                2000     NaN   \n",
       "27  privat   Angebot      $0  control         NaN                2005     NaN   \n",
       "52  privat   Angebot  $3,500     test   limousine                1985     NaN   \n",
       "60  privat   Angebot  $1,199     test   limousine                1996     NaN   \n",
       "64  privat   Angebot     $40     test         NaN                2011     NaN   \n",
       "\n",
       "    powerPS   model   odometer  monthOfRegistration fuelType          brand  \\\n",
       "11        0     NaN  150,000km                    0   benzin  mercedes_benz   \n",
       "27        0     NaN  150,000km                    0      NaN           ford   \n",
       "52        0  andere    5,000km                    0   benzin           opel   \n",
       "60       90     NaN  150,000km                    0   benzin     volkswagen   \n",
       "64        0     5er  150,000km                    5      NaN            bmw   \n",
       "\n",
       "   notRepairedDamage          dateCreated  nrOfPictures  postalCode  \\\n",
       "11               NaN  2016-03-16 00:00:00             0       17498   \n",
       "27               NaN  2016-03-27 00:00:00             0       66701   \n",
       "52              nein  2016-03-25 00:00:00             0       63500   \n",
       "60              nein  2016-03-23 00:00:00             0        1665   \n",
       "64               NaN  2016-04-05 00:00:00             0       40591   \n",
       "\n",
       "               lastSeen  \n",
       "11  2016-03-16 18:45:34  \n",
       "27  2016-03-27 18:45:01  \n",
       "52  2016-04-07 00:46:00  \n",
       "60  2016-04-06 05:45:36  \n",
       "64  2016-04-07 12:16:01  "
      ]
     },
     "execution_count": 16,
     "metadata": {},
     "output_type": "execute_result"
    }
   ],
   "source": [
    "data_base[data_base['gearbox'].isnull()].head()"
   ]
  },
  {
   "cell_type": "code",
   "execution_count": 17,
   "metadata": {},
   "outputs": [],
   "source": [
    "data['gearbox'] = data['gearbox'].fillna('не указана')    "
   ]
  },
  {
   "cell_type": "markdown",
   "metadata": {},
   "source": [
    "#### model"
   ]
  },
  {
   "cell_type": "code",
   "execution_count": 18,
   "metadata": {},
   "outputs": [
    {
     "data": {
      "text/plain": [
       "array(['andere', '7er', 'golf', 'fortwo', 'focus', 'voyager', 'arosa',\n",
       "       'megane', nan, 'a3', 'clio', 'vectra', 'scirocco', '3er', 'a4',\n",
       "       '911', 'cooper', '5er', 'polo', 'e_klasse', '2_reihe', 'c_klasse',\n",
       "       'corsa', 'mondeo', 'altea', 'a1', 'twingo', 'a_klasse', 'cl',\n",
       "       '3_reihe', 's_klasse', 'sandero', 'passat', 'primera', 'fiesta',\n",
       "       'wrangler', 'clubman', 'a6', 'transporter', 'astra', 'v40',\n",
       "       'ibiza', 'micra', '1er', 'yaris', 'colt', '6_reihe', '5_reihe',\n",
       "       'corolla', 'ka', 'tigra', 'punto', 'vito', 'cordoba', 'galaxy',\n",
       "       '100', 'sharan', 'octavia', 'm_klasse', 'lupo', 'superb', 'meriva',\n",
       "       'c_max', 'laguna', 'touran', '1_reihe', 'm_reihe', 'touareg',\n",
       "       'seicento', 'avensis', 'vivaro', 'x_reihe', 'ducato', 'carnival',\n",
       "       'boxster', 'signum', 'zafira', 'rav', 'a5', 'beetle', 'c_reihe',\n",
       "       'phaeton', 'i_reihe', 'sl', 'insignia', 'up', 'civic', '80',\n",
       "       'mx_reihe', 'omega', 'sorento', 'z_reihe', 'berlingo', 'clk',\n",
       "       's_max', 'kalos', 'cx_reihe', 'grand', 'swift', 'tiguan',\n",
       "       'sprinter', 'mii', 'viano', 'almera', 'picanto', 'espace',\n",
       "       'scenic', 'one', 'bora', 'fox', 'leon', 'transit', 'tucson', 'tt',\n",
       "       'qashqai', 'jazz', 'nubira', 'v70', 'duster', 'stilo', 'justy',\n",
       "       'kangoo', 'fabia', 'matiz', 'freelander', 'lancer', 'forester',\n",
       "       's_type', 'bravo', '500', '156', 'cr_reihe', 'toledo', 'kalina',\n",
       "       'panda', 'a8', 'ceed', 'caddy', 'aygo', 'c2', 'citigo', 'exeo',\n",
       "       'c1', 'doblo', 'impreza', '147', 'agila', 'escort', '145', 'c3',\n",
       "       'roomster', 'auris', '601', 'eos', 'aveo', 'slk', 'terios',\n",
       "       'fusion', 'c4', 'glk', 'materia', 'v50', 'combo', 'yeti', '900',\n",
       "       '850', 'outlander', 'rio', 'jimny', 'forfour', 'a2', 'spider',\n",
       "       'kadett', 'b_klasse', 'carisma', 'cayenne', 'r19', 'cc', 'note',\n",
       "       'logan', 'xc_reihe', 'verso', 'v_klasse', 'jetta', 'c5', 'q5',\n",
       "       'getz', 'navara', 'x_type', 's60', '4_reihe', 'lybra', 'cherokee',\n",
       "       'q3', 'mustang', 'q7', 'roadster', 'captiva', 'cuore', '90',\n",
       "       'ptcruiser', 'kuga', 'x_trail', 'ypsilon', 'pajero', 'delta',\n",
       "       'rx_reihe', 'modus', 'sportage', 'calibra', 'sirion', 'gl',\n",
       "       'amarok', 'santa', '300c', 'antara', 'accord', 'crossfire', '159',\n",
       "       '6er', 'niva', 'galant', 'kaefer', 'legacy', 'defender',\n",
       "       'range_rover', 'juke', 'spark', 'lanos', 'v60', 'alhambra',\n",
       "       'discovery', 'range_rover_sport', 'range_rover_evoque', 'move',\n",
       "       'croma', 'g_klasse', 'lodgy', 'rangerover', 'samara', 'kappa',\n",
       "       '9000', 'charade', 'i3', '200', 'b_max'], dtype=object)"
      ]
     },
     "execution_count": 18,
     "metadata": {},
     "output_type": "execute_result"
    }
   ],
   "source": [
    "data['model'].unique()"
   ]
  },
  {
   "cell_type": "code",
   "execution_count": 19,
   "metadata": {},
   "outputs": [],
   "source": [
    "data['model'] = data['model'].fillna('other')"
   ]
  },
  {
   "cell_type": "code",
   "execution_count": 20,
   "metadata": {},
   "outputs": [
    {
     "data": {
      "text/plain": [
       "MultiIndex([('alfa_romeo',      '145',  0),\n",
       "            ('alfa_romeo',      '145', 16),\n",
       "            ('alfa_romeo',      '145', 21),\n",
       "            ('alfa_romeo',      '147',  0),\n",
       "            ('alfa_romeo',      '147',  6),\n",
       "            ('alfa_romeo',      '147',  7),\n",
       "            ('alfa_romeo',      '147',  9),\n",
       "            ('alfa_romeo',      '147', 10),\n",
       "            ('alfa_romeo',      '147', 11),\n",
       "            ('alfa_romeo',      '147', 12),\n",
       "            ...\n",
       "            (     'volvo', 'xc_reihe',  4),\n",
       "            (     'volvo', 'xc_reihe',  5),\n",
       "            (     'volvo', 'xc_reihe',  6),\n",
       "            (     'volvo', 'xc_reihe',  7),\n",
       "            (     'volvo', 'xc_reihe',  8),\n",
       "            (     'volvo', 'xc_reihe',  9),\n",
       "            (     'volvo', 'xc_reihe', 10),\n",
       "            (     'volvo', 'xc_reihe', 11),\n",
       "            (     'volvo', 'xc_reihe', 12),\n",
       "            (     'volvo', 'xc_reihe', 13)],\n",
       "           names=['brand', 'model', 'age'], length=4508)"
      ]
     },
     "execution_count": 20,
     "metadata": {},
     "output_type": "execute_result"
    }
   ],
   "source": [
    "data_prp = data.copy()\n",
    "mask = data_prp.groupby(['brand', 'model', 'age'])['price'].mean()\n",
    "mask.index"
   ]
  },
  {
   "cell_type": "code",
   "execution_count": 21,
   "metadata": {},
   "outputs": [
    {
     "data": {
      "text/html": [
       "<div>\n",
       "<style scoped>\n",
       "    .dataframe tbody tr th:only-of-type {\n",
       "        vertical-align: middle;\n",
       "    }\n",
       "\n",
       "    .dataframe tbody tr th {\n",
       "        vertical-align: top;\n",
       "    }\n",
       "\n",
       "    .dataframe thead th {\n",
       "        text-align: right;\n",
       "    }\n",
       "</style>\n",
       "<table border=\"1\" class=\"dataframe\">\n",
       "  <thead>\n",
       "    <tr style=\"text-align: right;\">\n",
       "      <th></th>\n",
       "      <th></th>\n",
       "      <th></th>\n",
       "      <th>seller</th>\n",
       "      <th>offerType</th>\n",
       "      <th>price</th>\n",
       "      <th>vehicleType</th>\n",
       "      <th>gearbox</th>\n",
       "      <th>powerPS</th>\n",
       "      <th>odometer</th>\n",
       "      <th>fuelType</th>\n",
       "      <th>notRepairedDamage</th>\n",
       "      <th>nrOfPictures</th>\n",
       "      <th>model_coder</th>\n",
       "    </tr>\n",
       "    <tr>\n",
       "      <th>brand</th>\n",
       "      <th>model</th>\n",
       "      <th>age</th>\n",
       "      <th></th>\n",
       "      <th></th>\n",
       "      <th></th>\n",
       "      <th></th>\n",
       "      <th></th>\n",
       "      <th></th>\n",
       "      <th></th>\n",
       "      <th></th>\n",
       "      <th></th>\n",
       "      <th></th>\n",
       "      <th></th>\n",
       "    </tr>\n",
       "  </thead>\n",
       "  <tbody>\n",
       "    <tr>\n",
       "      <th rowspan=\"5\" valign=\"top\">alfa_romeo</th>\n",
       "      <th rowspan=\"4\" valign=\"top\">145</th>\n",
       "      <th>0</th>\n",
       "      <td>1</td>\n",
       "      <td>1</td>\n",
       "      <td>399</td>\n",
       "      <td>other</td>\n",
       "      <td>не указана</td>\n",
       "      <td>103</td>\n",
       "      <td>150,000km</td>\n",
       "      <td>benzin</td>\n",
       "      <td>NaN</td>\n",
       "      <td>0</td>\n",
       "      <td>399.000</td>\n",
       "    </tr>\n",
       "    <tr>\n",
       "      <th>16</th>\n",
       "      <td>1</td>\n",
       "      <td>1</td>\n",
       "      <td>5000</td>\n",
       "      <td>limousine</td>\n",
       "      <td>manuell</td>\n",
       "      <td>120</td>\n",
       "      <td>150,000km</td>\n",
       "      <td>benzin</td>\n",
       "      <td>nein</td>\n",
       "      <td>0</td>\n",
       "      <td>2750.000</td>\n",
       "    </tr>\n",
       "    <tr>\n",
       "      <th>16</th>\n",
       "      <td>1</td>\n",
       "      <td>1</td>\n",
       "      <td>500</td>\n",
       "      <td>other</td>\n",
       "      <td>не указана</td>\n",
       "      <td>0</td>\n",
       "      <td>150,000km</td>\n",
       "      <td>NaN</td>\n",
       "      <td>NaN</td>\n",
       "      <td>0</td>\n",
       "      <td>2750.000</td>\n",
       "    </tr>\n",
       "    <tr>\n",
       "      <th>21</th>\n",
       "      <td>1</td>\n",
       "      <td>1</td>\n",
       "      <td>500</td>\n",
       "      <td>andere</td>\n",
       "      <td>manuell</td>\n",
       "      <td>100</td>\n",
       "      <td>100,000km</td>\n",
       "      <td>benzin</td>\n",
       "      <td>nein</td>\n",
       "      <td>0</td>\n",
       "      <td>500.000</td>\n",
       "    </tr>\n",
       "    <tr>\n",
       "      <th>147</th>\n",
       "      <th>0</th>\n",
       "      <td>1</td>\n",
       "      <td>1</td>\n",
       "      <td>850</td>\n",
       "      <td>other</td>\n",
       "      <td>manuell</td>\n",
       "      <td>0</td>\n",
       "      <td>150,000km</td>\n",
       "      <td>diesel</td>\n",
       "      <td>NaN</td>\n",
       "      <td>0</td>\n",
       "      <td>2131.125</td>\n",
       "    </tr>\n",
       "  </tbody>\n",
       "</table>\n",
       "</div>"
      ],
      "text/plain": [
       "                      seller  offerType  price vehicleType     gearbox  \\\n",
       "brand      model age                                                     \n",
       "alfa_romeo 145   0         1          1    399       other  не указана   \n",
       "                 16        1          1   5000   limousine     manuell   \n",
       "                 16        1          1    500       other  не указана   \n",
       "                 21        1          1    500      andere     manuell   \n",
       "           147   0         1          1    850       other     manuell   \n",
       "\n",
       "                      powerPS   odometer fuelType notRepairedDamage  \\\n",
       "brand      model age                                                  \n",
       "alfa_romeo 145   0        103  150,000km   benzin               NaN   \n",
       "                 16       120  150,000km   benzin              nein   \n",
       "                 16         0  150,000km      NaN               NaN   \n",
       "                 21       100  100,000km   benzin              nein   \n",
       "           147   0          0  150,000km   diesel               NaN   \n",
       "\n",
       "                      nrOfPictures  model_coder  \n",
       "brand      model age                             \n",
       "alfa_romeo 145   0               0      399.000  \n",
       "                 16              0     2750.000  \n",
       "                 16              0     2750.000  \n",
       "                 21              0      500.000  \n",
       "           147   0               0     2131.125  "
      ]
     },
     "execution_count": 21,
     "metadata": {},
     "output_type": "execute_result"
    }
   ],
   "source": [
    "data_prp = data_prp.set_index(['brand', 'model', 'age']).loc[mask.index]\n",
    "data_prp['model_coder'] = mask\n",
    "data_prp.head()"
   ]
  },
  {
   "cell_type": "code",
   "execution_count": 22,
   "metadata": {},
   "outputs": [
    {
     "data": {
      "text/html": [
       "<div>\n",
       "<style scoped>\n",
       "    .dataframe tbody tr th:only-of-type {\n",
       "        vertical-align: middle;\n",
       "    }\n",
       "\n",
       "    .dataframe tbody tr th {\n",
       "        vertical-align: top;\n",
       "    }\n",
       "\n",
       "    .dataframe thead th {\n",
       "        text-align: right;\n",
       "    }\n",
       "</style>\n",
       "<table border=\"1\" class=\"dataframe\">\n",
       "  <thead>\n",
       "    <tr style=\"text-align: right;\">\n",
       "      <th></th>\n",
       "      <th>brand</th>\n",
       "      <th>model</th>\n",
       "      <th>age</th>\n",
       "      <th>seller</th>\n",
       "      <th>offerType</th>\n",
       "      <th>price</th>\n",
       "      <th>vehicleType</th>\n",
       "      <th>gearbox</th>\n",
       "      <th>powerPS</th>\n",
       "      <th>odometer</th>\n",
       "      <th>fuelType</th>\n",
       "      <th>notRepairedDamage</th>\n",
       "      <th>nrOfPictures</th>\n",
       "      <th>model_coder</th>\n",
       "    </tr>\n",
       "  </thead>\n",
       "  <tbody>\n",
       "    <tr>\n",
       "      <th>0</th>\n",
       "      <td>alfa_romeo</td>\n",
       "      <td>145</td>\n",
       "      <td>0</td>\n",
       "      <td>1</td>\n",
       "      <td>1</td>\n",
       "      <td>399</td>\n",
       "      <td>other</td>\n",
       "      <td>не указана</td>\n",
       "      <td>103</td>\n",
       "      <td>150,000km</td>\n",
       "      <td>benzin</td>\n",
       "      <td>NaN</td>\n",
       "      <td>0</td>\n",
       "      <td>399.000</td>\n",
       "    </tr>\n",
       "    <tr>\n",
       "      <th>1</th>\n",
       "      <td>alfa_romeo</td>\n",
       "      <td>145</td>\n",
       "      <td>16</td>\n",
       "      <td>1</td>\n",
       "      <td>1</td>\n",
       "      <td>5000</td>\n",
       "      <td>limousine</td>\n",
       "      <td>manuell</td>\n",
       "      <td>120</td>\n",
       "      <td>150,000km</td>\n",
       "      <td>benzin</td>\n",
       "      <td>nein</td>\n",
       "      <td>0</td>\n",
       "      <td>2750.000</td>\n",
       "    </tr>\n",
       "    <tr>\n",
       "      <th>2</th>\n",
       "      <td>alfa_romeo</td>\n",
       "      <td>145</td>\n",
       "      <td>16</td>\n",
       "      <td>1</td>\n",
       "      <td>1</td>\n",
       "      <td>500</td>\n",
       "      <td>other</td>\n",
       "      <td>не указана</td>\n",
       "      <td>0</td>\n",
       "      <td>150,000km</td>\n",
       "      <td>NaN</td>\n",
       "      <td>NaN</td>\n",
       "      <td>0</td>\n",
       "      <td>2750.000</td>\n",
       "    </tr>\n",
       "    <tr>\n",
       "      <th>3</th>\n",
       "      <td>alfa_romeo</td>\n",
       "      <td>145</td>\n",
       "      <td>21</td>\n",
       "      <td>1</td>\n",
       "      <td>1</td>\n",
       "      <td>500</td>\n",
       "      <td>andere</td>\n",
       "      <td>manuell</td>\n",
       "      <td>100</td>\n",
       "      <td>100,000km</td>\n",
       "      <td>benzin</td>\n",
       "      <td>nein</td>\n",
       "      <td>0</td>\n",
       "      <td>500.000</td>\n",
       "    </tr>\n",
       "    <tr>\n",
       "      <th>4</th>\n",
       "      <td>alfa_romeo</td>\n",
       "      <td>147</td>\n",
       "      <td>0</td>\n",
       "      <td>1</td>\n",
       "      <td>1</td>\n",
       "      <td>850</td>\n",
       "      <td>other</td>\n",
       "      <td>manuell</td>\n",
       "      <td>0</td>\n",
       "      <td>150,000km</td>\n",
       "      <td>diesel</td>\n",
       "      <td>NaN</td>\n",
       "      <td>0</td>\n",
       "      <td>2131.125</td>\n",
       "    </tr>\n",
       "  </tbody>\n",
       "</table>\n",
       "</div>"
      ],
      "text/plain": [
       "        brand model  age  seller  offerType  price vehicleType     gearbox  \\\n",
       "0  alfa_romeo   145    0       1          1    399       other  не указана   \n",
       "1  alfa_romeo   145   16       1          1   5000   limousine     manuell   \n",
       "2  alfa_romeo   145   16       1          1    500       other  не указана   \n",
       "3  alfa_romeo   145   21       1          1    500      andere     manuell   \n",
       "4  alfa_romeo   147    0       1          1    850       other     manuell   \n",
       "\n",
       "   powerPS   odometer fuelType notRepairedDamage  nrOfPictures  model_coder  \n",
       "0      103  150,000km   benzin               NaN             0      399.000  \n",
       "1      120  150,000km   benzin              nein             0     2750.000  \n",
       "2        0  150,000km      NaN               NaN             0     2750.000  \n",
       "3      100  100,000km   benzin              nein             0      500.000  \n",
       "4        0  150,000km   diesel               NaN             0     2131.125  "
      ]
     },
     "execution_count": 22,
     "metadata": {},
     "output_type": "execute_result"
    }
   ],
   "source": [
    "data = data_prp.reset_index()\n",
    "data.head()"
   ]
  },
  {
   "cell_type": "markdown",
   "metadata": {},
   "source": [
    "#### odometer"
   ]
  },
  {
   "cell_type": "code",
   "execution_count": 23,
   "metadata": {},
   "outputs": [
    {
     "data": {
      "text/plain": [
       "array([150000, 100000,  70000, 125000,  50000,  60000,  80000,  90000,\n",
       "         5000,  20000,  10000,  40000,  30000], dtype=int64)"
      ]
     },
     "execution_count": 23,
     "metadata": {},
     "output_type": "execute_result"
    }
   ],
   "source": [
    "def odometer_changer(x):\n",
    "    x = x.replace(',', '').replace('km', '')\n",
    "    return int(x)\n",
    "\n",
    "data['odometer'] = data['odometer'].map(odometer_changer)\n",
    "data['odometer'].unique()"
   ]
  },
  {
   "cell_type": "markdown",
   "metadata": {},
   "source": [
    "#### fuelType"
   ]
  },
  {
   "cell_type": "code",
   "execution_count": 24,
   "metadata": {},
   "outputs": [
    {
     "data": {
      "text/plain": [
       "array(['benzin', nan, 'diesel', 'lpg', 'hybrid', 'cng', 'elektro',\n",
       "       'andere'], dtype=object)"
      ]
     },
     "execution_count": 24,
     "metadata": {},
     "output_type": "execute_result"
    }
   ],
   "source": [
    "data['fuelType'].unique()"
   ]
  },
  {
   "cell_type": "code",
   "execution_count": 25,
   "metadata": {},
   "outputs": [
    {
     "data": {
      "text/plain": [
       "4319"
      ]
     },
     "execution_count": 25,
     "metadata": {},
     "output_type": "execute_result"
    }
   ],
   "source": [
    "len(data[data['fuelType'].isnull()])"
   ]
  },
  {
   "cell_type": "code",
   "execution_count": 26,
   "metadata": {},
   "outputs": [],
   "source": [
    "data['fuelType'] = data['fuelType'].fillna('не указан')"
   ]
  },
  {
   "cell_type": "code",
   "execution_count": 27,
   "metadata": {},
   "outputs": [
    {
     "name": "stdout",
     "output_type": "stream",
     "text": [
      "<class 'pandas.core.frame.DataFrame'>\n",
      "RangeIndex: 49160 entries, 0 to 49159\n",
      "Data columns (total 14 columns):\n",
      " #   Column             Non-Null Count  Dtype  \n",
      "---  ------             --------------  -----  \n",
      " 0   brand              49160 non-null  object \n",
      " 1   model              49160 non-null  object \n",
      " 2   age                49160 non-null  int64  \n",
      " 3   seller             49160 non-null  int64  \n",
      " 4   offerType          49160 non-null  int64  \n",
      " 5   price              49160 non-null  int64  \n",
      " 6   vehicleType        49160 non-null  object \n",
      " 7   gearbox            49160 non-null  object \n",
      " 8   powerPS            49160 non-null  int64  \n",
      " 9   odometer           49160 non-null  int64  \n",
      " 10  fuelType           49160 non-null  object \n",
      " 11  notRepairedDamage  39618 non-null  object \n",
      " 12  nrOfPictures       49160 non-null  int64  \n",
      " 13  model_coder        49160 non-null  float64\n",
      "dtypes: float64(1), int64(7), object(6)\n",
      "memory usage: 5.3+ MB\n"
     ]
    }
   ],
   "source": [
    "data.info()"
   ]
  },
  {
   "cell_type": "code",
   "execution_count": 28,
   "metadata": {},
   "outputs": [
    {
     "data": {
      "text/plain": [
       "array([nan, 'nein', 'ja'], dtype=object)"
      ]
     },
     "execution_count": 28,
     "metadata": {},
     "output_type": "execute_result"
    }
   ],
   "source": [
    "data['notRepairedDamage'].unique()"
   ]
  },
  {
   "cell_type": "code",
   "execution_count": 29,
   "metadata": {},
   "outputs": [
    {
     "data": {
      "text/plain": [
       "9542"
      ]
     },
     "execution_count": 29,
     "metadata": {},
     "output_type": "execute_result"
    }
   ],
   "source": [
    "len(data[data['notRepairedDamage'].isnull()])"
   ]
  },
  {
   "cell_type": "code",
   "execution_count": 30,
   "metadata": {},
   "outputs": [
    {
     "name": "stdout",
     "output_type": "stream",
     "text": [
      "<class 'pandas.core.frame.DataFrame'>\n",
      "RangeIndex: 49160 entries, 0 to 49159\n",
      "Data columns (total 14 columns):\n",
      " #   Column             Non-Null Count  Dtype  \n",
      "---  ------             --------------  -----  \n",
      " 0   brand              49160 non-null  object \n",
      " 1   model              49160 non-null  object \n",
      " 2   age                49160 non-null  int64  \n",
      " 3   seller             49160 non-null  int64  \n",
      " 4   offerType          49160 non-null  int64  \n",
      " 5   price              49160 non-null  int64  \n",
      " 6   vehicleType        49160 non-null  object \n",
      " 7   gearbox            49160 non-null  object \n",
      " 8   powerPS            49160 non-null  int64  \n",
      " 9   odometer           49160 non-null  int64  \n",
      " 10  fuelType           49160 non-null  object \n",
      " 11  notRepairedDamage  49160 non-null  object \n",
      " 12  nrOfPictures       49160 non-null  int64  \n",
      " 13  model_coder        49160 non-null  float64\n",
      "dtypes: float64(1), int64(7), object(6)\n",
      "memory usage: 5.3+ MB\n"
     ]
    }
   ],
   "source": [
    "data['notRepairedDamage'] = data['notRepairedDamage'].fillna('не указано')\n",
    "data.info()"
   ]
  },
  {
   "cell_type": "markdown",
   "metadata": {},
   "source": [
    "#### nrOfPictures\n",
    "\n",
    "по какой-то причине 0 фотографий у всех анкет , дроп признака "
   ]
  },
  {
   "cell_type": "code",
   "execution_count": 31,
   "metadata": {},
   "outputs": [
    {
     "data": {
      "text/plain": [
       "array([0], dtype=int64)"
      ]
     },
     "execution_count": 31,
     "metadata": {},
     "output_type": "execute_result"
    }
   ],
   "source": [
    "data['nrOfPictures'].unique()"
   ]
  },
  {
   "cell_type": "code",
   "execution_count": 32,
   "metadata": {},
   "outputs": [],
   "source": [
    "data = data.drop('nrOfPictures', axis = 1)"
   ]
  },
  {
   "cell_type": "markdown",
   "metadata": {},
   "source": [
    "#### Lastseen\n",
    "\n",
    "все пользователи заходили в этом году, скорее всего анкета актуальная значи дроп (не влияет на стоимость авто)"
   ]
  },
  {
   "cell_type": "markdown",
   "metadata": {},
   "source": [
    "#### brand"
   ]
  },
  {
   "cell_type": "code",
   "execution_count": 33,
   "metadata": {},
   "outputs": [
    {
     "data": {
      "text/plain": [
       "model    brand     \n",
       "100      audi           1671.821429\n",
       "145      alfa_romeo     1599.750000\n",
       "147      alfa_romeo     2322.870588\n",
       "156      alfa_romeo     1426.619565\n",
       "159      alfa_romeo     6398.529412\n",
       "                           ...     \n",
       "yaris    toyota         4323.418605\n",
       "yeti     skoda         15351.400000\n",
       "ypsilon  lancia         1247.680000\n",
       "z_reihe  bmw           16293.008264\n",
       "zafira   opel           3486.879433\n",
       "Name: price, Length: 331, dtype: float64"
      ]
     },
     "execution_count": 33,
     "metadata": {},
     "output_type": "execute_result"
    }
   ],
   "source": [
    "values_brand_mask = \\\n",
    "data.groupby(['model', 'brand'])['price'].mean()\n",
    "\n",
    "values_brand_mask"
   ]
  },
  {
   "cell_type": "code",
   "execution_count": 34,
   "metadata": {},
   "outputs": [],
   "source": [
    "data_probnik = data.copy()\n",
    "data_probnik = data_probnik.set_index(['model', 'brand']).loc[values_brand_mask.index]\n",
    "data_probnik['brand_coder'] = values_brand_mask"
   ]
  },
  {
   "cell_type": "code",
   "execution_count": 35,
   "metadata": {},
   "outputs": [
    {
     "name": "stdout",
     "output_type": "stream",
     "text": [
      "<class 'pandas.core.frame.DataFrame'>\n",
      "RangeIndex: 49160 entries, 0 to 49159\n",
      "Data columns (total 14 columns):\n",
      " #   Column             Non-Null Count  Dtype  \n",
      "---  ------             --------------  -----  \n",
      " 0   model              49160 non-null  object \n",
      " 1   brand              49160 non-null  object \n",
      " 2   age                49160 non-null  int64  \n",
      " 3   seller             49160 non-null  int64  \n",
      " 4   offerType          49160 non-null  int64  \n",
      " 5   price              49160 non-null  int64  \n",
      " 6   vehicleType        49160 non-null  object \n",
      " 7   gearbox            49160 non-null  object \n",
      " 8   powerPS            49160 non-null  int64  \n",
      " 9   odometer           49160 non-null  int64  \n",
      " 10  fuelType           49160 non-null  object \n",
      " 11  notRepairedDamage  49160 non-null  object \n",
      " 12  model_coder        49160 non-null  float64\n",
      " 13  brand_coder        49160 non-null  float64\n",
      "dtypes: float64(2), int64(6), object(6)\n",
      "memory usage: 5.3+ MB\n"
     ]
    }
   ],
   "source": [
    "data = data_probnik.reset_index()\n",
    "data.info()"
   ]
  },
  {
   "cell_type": "markdown",
   "metadata": {},
   "source": [
    "## Проверка на дубликаты"
   ]
  },
  {
   "cell_type": "code",
   "execution_count": 36,
   "metadata": {},
   "outputs": [
    {
     "data": {
      "text/plain": [
       "1328"
      ]
     },
     "execution_count": 36,
     "metadata": {},
     "output_type": "execute_result"
    }
   ],
   "source": [
    "data.duplicated().sum()"
   ]
  },
  {
   "cell_type": "code",
   "execution_count": 37,
   "metadata": {},
   "outputs": [],
   "source": [
    "data = data.drop_duplicates()"
   ]
  },
  {
   "cell_type": "markdown",
   "metadata": {},
   "source": [
    "## Посмотрим на выбросы"
   ]
  },
  {
   "cell_type": "code",
   "execution_count": 38,
   "metadata": {},
   "outputs": [
    {
     "data": {
      "image/png": "[encoded data removed]",
      "text/plain": [
       "<Figure size 1500x100 with 1 Axes>"
      ]
     },
     "metadata": {},
     "output_type": "display_data"
    },
    {
     "data": {
      "image/png": "[encoded data removed]",
      "text/plain": [
       "<Figure size 1500x100 with 1 Axes>"
      ]
     },
     "metadata": {},
     "output_type": "display_data"
    },
    {
     "data": {
      "image/png": "[encoded data removed]",
      "text/plain": [
       "<Figure size 1500x100 with 1 Axes>"
      ]
     },
     "metadata": {},
     "output_type": "display_data"
    },
    {
     "data": {
      "image/png": "[encoded data removed]",
      "text/plain": [
       "<Figure size 1500x100 with 1 Axes>"
      ]
     },
     "metadata": {},
     "output_type": "display_data"
    },
    {
     "data": {
      "image/png": "[encoded data removed]",
      "text/plain": [
       "<Figure size 1500x100 with 1 Axes>"
      ]
     },
     "metadata": {},
     "output_type": "display_data"
    },
    {
     "data": {
      "image/png": "[encoded data removed]",
      "text/plain": [
       "<Figure size 1500x100 with 1 Axes>"
      ]
     },
     "metadata": {},
     "output_type": "display_data"
    }
   ],
   "source": [
    "num_features_target = ['age','powerPS', 'odometer', 'model_coder', 'brand_coder', 'price']\n",
    "\n",
    "for feature in num_features_target:\n",
    "    plt.figure(figsize = (15,1))\n",
    "    sns.boxplot(data = data,\n",
    "                x = feature)\n",
    "    plt.show()"
   ]
  },
  {
   "cell_type": "code",
   "execution_count": 39,
   "metadata": {},
   "outputs": [
    {
     "data": {
      "text/html": [
       "<div>\n",
       "<style scoped>\n",
       "    .dataframe tbody tr th:only-of-type {\n",
       "        vertical-align: middle;\n",
       "    }\n",
       "\n",
       "    .dataframe tbody tr th {\n",
       "        vertical-align: top;\n",
       "    }\n",
       "\n",
       "    .dataframe thead th {\n",
       "        text-align: right;\n",
       "    }\n",
       "</style>\n",
       "<table border=\"1\" class=\"dataframe\">\n",
       "  <thead>\n",
       "    <tr style=\"text-align: right;\">\n",
       "      <th></th>\n",
       "      <th>age</th>\n",
       "      <th>seller</th>\n",
       "      <th>offerType</th>\n",
       "      <th>price</th>\n",
       "      <th>powerPS</th>\n",
       "      <th>odometer</th>\n",
       "      <th>model_coder</th>\n",
       "      <th>brand_coder</th>\n",
       "    </tr>\n",
       "  </thead>\n",
       "  <tbody>\n",
       "    <tr>\n",
       "      <th>count</th>\n",
       "      <td>47832.0</td>\n",
       "      <td>47832.0</td>\n",
       "      <td>47832.0</td>\n",
       "      <td>47832.0</td>\n",
       "      <td>47832.0</td>\n",
       "      <td>47832.0</td>\n",
       "      <td>47832.0</td>\n",
       "      <td>47832.0</td>\n",
       "    </tr>\n",
       "    <tr>\n",
       "      <th>mean</th>\n",
       "      <td>12.0</td>\n",
       "      <td>1.0</td>\n",
       "      <td>1.0</td>\n",
       "      <td>9526.0</td>\n",
       "      <td>117.0</td>\n",
       "      <td>126152.0</td>\n",
       "      <td>9498.0</td>\n",
       "      <td>9447.0</td>\n",
       "    </tr>\n",
       "    <tr>\n",
       "      <th>std</th>\n",
       "      <td>6.0</td>\n",
       "      <td>0.0</td>\n",
       "      <td>0.0</td>\n",
       "      <td>487096.0</td>\n",
       "      <td>213.0</td>\n",
       "      <td>39592.0</td>\n",
       "      <td>132587.0</td>\n",
       "      <td>45695.0</td>\n",
       "    </tr>\n",
       "    <tr>\n",
       "      <th>min</th>\n",
       "      <td>0.0</td>\n",
       "      <td>0.0</td>\n",
       "      <td>0.0</td>\n",
       "      <td>0.0</td>\n",
       "      <td>0.0</td>\n",
       "      <td>5000.0</td>\n",
       "      <td>0.0</td>\n",
       "      <td>250.0</td>\n",
       "    </tr>\n",
       "    <tr>\n",
       "      <th>25%</th>\n",
       "      <td>8.0</td>\n",
       "      <td>1.0</td>\n",
       "      <td>1.0</td>\n",
       "      <td>1100.0</td>\n",
       "      <td>72.0</td>\n",
       "      <td>125000.0</td>\n",
       "      <td>1481.0</td>\n",
       "      <td>2871.0</td>\n",
       "    </tr>\n",
       "    <tr>\n",
       "      <th>50%</th>\n",
       "      <td>12.0</td>\n",
       "      <td>1.0</td>\n",
       "      <td>1.0</td>\n",
       "      <td>2900.0</td>\n",
       "      <td>107.0</td>\n",
       "      <td>150000.0</td>\n",
       "      <td>3072.0</td>\n",
       "      <td>4851.0</td>\n",
       "    </tr>\n",
       "    <tr>\n",
       "      <th>75%</th>\n",
       "      <td>17.0</td>\n",
       "      <td>1.0</td>\n",
       "      <td>1.0</td>\n",
       "      <td>7192.0</td>\n",
       "      <td>150.0</td>\n",
       "      <td>150000.0</td>\n",
       "      <td>7129.0</td>\n",
       "      <td>7731.0</td>\n",
       "    </tr>\n",
       "    <tr>\n",
       "      <th>max</th>\n",
       "      <td>31.0</td>\n",
       "      <td>1.0</td>\n",
       "      <td>1.0</td>\n",
       "      <td>99999999.0</td>\n",
       "      <td>17700.0</td>\n",
       "      <td>150000.0</td>\n",
       "      <td>13666986.0</td>\n",
       "      <td>859765.0</td>\n",
       "    </tr>\n",
       "  </tbody>\n",
       "</table>\n",
       "</div>"
      ],
      "text/plain": [
       "           age   seller  offerType       price  powerPS  odometer  \\\n",
       "count  47832.0  47832.0    47832.0     47832.0  47832.0   47832.0   \n",
       "mean      12.0      1.0        1.0      9526.0    117.0  126152.0   \n",
       "std        6.0      0.0        0.0    487096.0    213.0   39592.0   \n",
       "min        0.0      0.0        0.0         0.0      0.0    5000.0   \n",
       "25%        8.0      1.0        1.0      1100.0     72.0  125000.0   \n",
       "50%       12.0      1.0        1.0      2900.0    107.0  150000.0   \n",
       "75%       17.0      1.0        1.0      7192.0    150.0  150000.0   \n",
       "max       31.0      1.0        1.0  99999999.0  17700.0  150000.0   \n",
       "\n",
       "       model_coder  brand_coder  \n",
       "count      47832.0      47832.0  \n",
       "mean        9498.0       9447.0  \n",
       "std       132587.0      45695.0  \n",
       "min            0.0        250.0  \n",
       "25%         1481.0       2871.0  \n",
       "50%         3072.0       4851.0  \n",
       "75%         7129.0       7731.0  \n",
       "max     13666986.0     859765.0  "
      ]
     },
     "execution_count": 39,
     "metadata": {},
     "output_type": "execute_result"
    }
   ],
   "source": [
    "data.describe().round()"
   ]
  },
  {
   "cell_type": "code",
   "execution_count": 40,
   "metadata": {},
   "outputs": [
    {
     "name": "stdout",
     "output_type": "stream",
     "text": [
      "<class 'pandas.core.frame.DataFrame'>\n",
      "Int64Index: 37225 entries, 0 to 49159\n",
      "Data columns (total 14 columns):\n",
      " #   Column             Non-Null Count  Dtype  \n",
      "---  ------             --------------  -----  \n",
      " 0   model              37225 non-null  object \n",
      " 1   brand              37225 non-null  object \n",
      " 2   age                37225 non-null  int64  \n",
      " 3   seller             37225 non-null  int64  \n",
      " 4   offerType          37225 non-null  int64  \n",
      " 5   price              37225 non-null  int64  \n",
      " 6   vehicleType        37225 non-null  object \n",
      " 7   gearbox            37225 non-null  object \n",
      " 8   powerPS            37225 non-null  int64  \n",
      " 9   odometer           37225 non-null  int64  \n",
      " 10  fuelType           37225 non-null  object \n",
      " 11  notRepairedDamage  37225 non-null  object \n",
      " 12  model_coder        37225 non-null  float64\n",
      " 13  brand_coder        37225 non-null  float64\n",
      "dtypes: float64(2), int64(6), object(6)\n",
      "memory usage: 4.3+ MB\n"
     ]
    }
   ],
   "source": [
    "data = data[(data['powerPS'] <= 350) &\n",
    "            (data['odometer'] >= 90000) &\n",
    "            (data['model_coder'] <= 0.1*10**7) &\n",
    "            (data['price'] <= 0.1*10**8) &\n",
    "            (data['brand_coder'] <= 20000)]\n",
    "data.info()"
   ]
  },
  {
   "cell_type": "markdown",
   "metadata": {},
   "source": [
    "#### Разбираемся с нулевыми значениями powerPS (заполнение по среднему (бренд, модель))"
   ]
  },
  {
   "cell_type": "code",
   "execution_count": 41,
   "metadata": {},
   "outputs": [
    {
     "data": {
      "text/html": [
       "<div>\n",
       "<style scoped>\n",
       "    .dataframe tbody tr th:only-of-type {\n",
       "        vertical-align: middle;\n",
       "    }\n",
       "\n",
       "    .dataframe tbody tr th {\n",
       "        vertical-align: top;\n",
       "    }\n",
       "\n",
       "    .dataframe thead th {\n",
       "        text-align: right;\n",
       "    }\n",
       "</style>\n",
       "<table border=\"1\" class=\"dataframe\">\n",
       "  <thead>\n",
       "    <tr style=\"text-align: right;\">\n",
       "      <th></th>\n",
       "      <th>brand</th>\n",
       "      <th>model</th>\n",
       "      <th>powerPS</th>\n",
       "    </tr>\n",
       "  </thead>\n",
       "  <tbody>\n",
       "    <tr>\n",
       "      <th>0</th>\n",
       "      <td>alfa_romeo</td>\n",
       "      <td>145</td>\n",
       "      <td>80.750000</td>\n",
       "    </tr>\n",
       "    <tr>\n",
       "      <th>1</th>\n",
       "      <td>alfa_romeo</td>\n",
       "      <td>147</td>\n",
       "      <td>113.333333</td>\n",
       "    </tr>\n",
       "    <tr>\n",
       "      <th>2</th>\n",
       "      <td>alfa_romeo</td>\n",
       "      <td>156</td>\n",
       "      <td>145.022727</td>\n",
       "    </tr>\n",
       "    <tr>\n",
       "      <th>3</th>\n",
       "      <td>alfa_romeo</td>\n",
       "      <td>159</td>\n",
       "      <td>161.233333</td>\n",
       "    </tr>\n",
       "    <tr>\n",
       "      <th>4</th>\n",
       "      <td>alfa_romeo</td>\n",
       "      <td>andere</td>\n",
       "      <td>140.888889</td>\n",
       "    </tr>\n",
       "    <tr>\n",
       "      <th>...</th>\n",
       "      <td>...</td>\n",
       "      <td>...</td>\n",
       "      <td>...</td>\n",
       "    </tr>\n",
       "    <tr>\n",
       "      <th>290</th>\n",
       "      <td>volvo</td>\n",
       "      <td>other</td>\n",
       "      <td>122.750000</td>\n",
       "    </tr>\n",
       "    <tr>\n",
       "      <th>291</th>\n",
       "      <td>volvo</td>\n",
       "      <td>s60</td>\n",
       "      <td>179.200000</td>\n",
       "    </tr>\n",
       "    <tr>\n",
       "      <th>292</th>\n",
       "      <td>volvo</td>\n",
       "      <td>v50</td>\n",
       "      <td>129.551724</td>\n",
       "    </tr>\n",
       "    <tr>\n",
       "      <th>293</th>\n",
       "      <td>volvo</td>\n",
       "      <td>v70</td>\n",
       "      <td>151.431579</td>\n",
       "    </tr>\n",
       "    <tr>\n",
       "      <th>294</th>\n",
       "      <td>volvo</td>\n",
       "      <td>xc_reihe</td>\n",
       "      <td>190.729730</td>\n",
       "    </tr>\n",
       "  </tbody>\n",
       "</table>\n",
       "<p>295 rows × 3 columns</p>\n",
       "</div>"
      ],
      "text/plain": [
       "          brand     model     powerPS\n",
       "0    alfa_romeo       145   80.750000\n",
       "1    alfa_romeo       147  113.333333\n",
       "2    alfa_romeo       156  145.022727\n",
       "3    alfa_romeo       159  161.233333\n",
       "4    alfa_romeo    andere  140.888889\n",
       "..          ...       ...         ...\n",
       "290       volvo     other  122.750000\n",
       "291       volvo       s60  179.200000\n",
       "292       volvo       v50  129.551724\n",
       "293       volvo       v70  151.431579\n",
       "294       volvo  xc_reihe  190.729730\n",
       "\n",
       "[295 rows x 3 columns]"
      ]
     },
     "execution_count": 41,
     "metadata": {},
     "output_type": "execute_result"
    }
   ],
   "source": [
    "data_3 = data.copy()\n",
    "\n",
    "power_Ps_0_index = data[data['powerPS'] == 0].index\n",
    "\n",
    "values_power_PS =\\\n",
    "data.groupby(['brand', 'model'])['powerPS'].mean()\n",
    "\n",
    "values_power_PS.reset_index()"
   ]
  },
  {
   "cell_type": "code",
   "execution_count": 42,
   "metadata": {},
   "outputs": [
    {
     "data": {
      "text/html": [
       "<div>\n",
       "<style scoped>\n",
       "    .dataframe tbody tr th:only-of-type {\n",
       "        vertical-align: middle;\n",
       "    }\n",
       "\n",
       "    .dataframe tbody tr th {\n",
       "        vertical-align: top;\n",
       "    }\n",
       "\n",
       "    .dataframe thead th {\n",
       "        text-align: right;\n",
       "    }\n",
       "</style>\n",
       "<table border=\"1\" class=\"dataframe\">\n",
       "  <thead>\n",
       "    <tr style=\"text-align: right;\">\n",
       "      <th></th>\n",
       "      <th>model</th>\n",
       "      <th>brand</th>\n",
       "      <th>age</th>\n",
       "      <th>seller</th>\n",
       "      <th>offerType</th>\n",
       "      <th>price</th>\n",
       "      <th>vehicleType</th>\n",
       "      <th>gearbox</th>\n",
       "      <th>powerPS</th>\n",
       "      <th>odometer</th>\n",
       "      <th>fuelType</th>\n",
       "      <th>notRepairedDamage</th>\n",
       "      <th>model_coder</th>\n",
       "      <th>brand_coder</th>\n",
       "    </tr>\n",
       "  </thead>\n",
       "  <tbody>\n",
       "    <tr>\n",
       "      <th>0</th>\n",
       "      <td>100</td>\n",
       "      <td>audi</td>\n",
       "      <td>22</td>\n",
       "      <td>1</td>\n",
       "      <td>1</td>\n",
       "      <td>450</td>\n",
       "      <td>kombi</td>\n",
       "      <td>manuell</td>\n",
       "      <td>132.709091</td>\n",
       "      <td>150000</td>\n",
       "      <td>benzin</td>\n",
       "      <td>ja</td>\n",
       "      <td>699.750</td>\n",
       "      <td>1671.821429</td>\n",
       "    </tr>\n",
       "    <tr>\n",
       "      <th>1</th>\n",
       "      <td>100</td>\n",
       "      <td>audi</td>\n",
       "      <td>30</td>\n",
       "      <td>1</td>\n",
       "      <td>1</td>\n",
       "      <td>499</td>\n",
       "      <td>limousine</td>\n",
       "      <td>manuell</td>\n",
       "      <td>132.709091</td>\n",
       "      <td>150000</td>\n",
       "      <td>benzin</td>\n",
       "      <td>nein</td>\n",
       "      <td>399.500</td>\n",
       "      <td>1671.821429</td>\n",
       "    </tr>\n",
       "    <tr>\n",
       "      <th>2</th>\n",
       "      <td>100</td>\n",
       "      <td>audi</td>\n",
       "      <td>31</td>\n",
       "      <td>1</td>\n",
       "      <td>1</td>\n",
       "      <td>150</td>\n",
       "      <td>other</td>\n",
       "      <td>не указана</td>\n",
       "      <td>132.709091</td>\n",
       "      <td>150000</td>\n",
       "      <td>benzin</td>\n",
       "      <td>не указано</td>\n",
       "      <td>950.000</td>\n",
       "      <td>1671.821429</td>\n",
       "    </tr>\n",
       "    <tr>\n",
       "      <th>3</th>\n",
       "      <td>145</td>\n",
       "      <td>alfa_romeo</td>\n",
       "      <td>16</td>\n",
       "      <td>1</td>\n",
       "      <td>1</td>\n",
       "      <td>500</td>\n",
       "      <td>other</td>\n",
       "      <td>не указана</td>\n",
       "      <td>80.750000</td>\n",
       "      <td>150000</td>\n",
       "      <td>не указан</td>\n",
       "      <td>не указано</td>\n",
       "      <td>2750.000</td>\n",
       "      <td>1599.750000</td>\n",
       "    </tr>\n",
       "    <tr>\n",
       "      <th>4</th>\n",
       "      <td>147</td>\n",
       "      <td>alfa_romeo</td>\n",
       "      <td>0</td>\n",
       "      <td>1</td>\n",
       "      <td>1</td>\n",
       "      <td>850</td>\n",
       "      <td>other</td>\n",
       "      <td>manuell</td>\n",
       "      <td>113.333333</td>\n",
       "      <td>150000</td>\n",
       "      <td>diesel</td>\n",
       "      <td>не указано</td>\n",
       "      <td>2131.125</td>\n",
       "      <td>2322.870588</td>\n",
       "    </tr>\n",
       "  </tbody>\n",
       "</table>\n",
       "</div>"
      ],
      "text/plain": [
       "  model       brand  age  seller  offerType  price vehicleType     gearbox  \\\n",
       "0   100        audi   22       1          1    450       kombi     manuell   \n",
       "1   100        audi   30       1          1    499   limousine     manuell   \n",
       "2   100        audi   31       1          1    150       other  не указана   \n",
       "3   145  alfa_romeo   16       1          1    500       other  не указана   \n",
       "4   147  alfa_romeo    0       1          1    850       other     manuell   \n",
       "\n",
       "      powerPS  odometer   fuelType notRepairedDamage  model_coder  brand_coder  \n",
       "0  132.709091    150000     benzin                ja      699.750  1671.821429  \n",
       "1  132.709091    150000     benzin              nein      399.500  1671.821429  \n",
       "2  132.709091    150000     benzin        не указано      950.000  1671.821429  \n",
       "3   80.750000    150000  не указан        не указано     2750.000  1599.750000  \n",
       "4  113.333333    150000     diesel        не указано     2131.125  2322.870588  "
      ]
     },
     "execution_count": 42,
     "metadata": {},
     "output_type": "execute_result"
    }
   ],
   "source": [
    "data_problem = data_3[data_3['powerPS'] == 0]\n",
    "columns_do = data_problem.columns\n",
    "\n",
    "\n",
    "data_problem = data_problem.drop('powerPS', axis = 1)\n",
    "\n",
    "data_problem = \\\n",
    "data_problem.merge(values_power_PS.reset_index(),\n",
    "                   on = ['brand', 'model'],\n",
    "                   )\n",
    "data_problem = data_problem[columns_do]\n",
    "data_problem.head()"
   ]
  },
  {
   "cell_type": "code",
   "execution_count": 43,
   "metadata": {},
   "outputs": [],
   "source": [
    "data_3 =\\\n",
    "pd.concat([data_3[data_3['powerPS'] != 0],\n",
    "           data_problem],\n",
    "           ignore_index = True)\n",
    "data = data_3[data_3['powerPS'] != 0]"
   ]
  },
  {
   "cell_type": "code",
   "execution_count": 44,
   "metadata": {},
   "outputs": [
    {
     "data": {
      "text/html": [
       "<div>\n",
       "<style scoped>\n",
       "    .dataframe tbody tr th:only-of-type {\n",
       "        vertical-align: middle;\n",
       "    }\n",
       "\n",
       "    .dataframe tbody tr th {\n",
       "        vertical-align: top;\n",
       "    }\n",
       "\n",
       "    .dataframe thead th {\n",
       "        text-align: right;\n",
       "    }\n",
       "</style>\n",
       "<table border=\"1\" class=\"dataframe\">\n",
       "  <thead>\n",
       "    <tr style=\"text-align: right;\">\n",
       "      <th></th>\n",
       "      <th>model</th>\n",
       "      <th>brand</th>\n",
       "      <th>age</th>\n",
       "      <th>seller</th>\n",
       "      <th>offerType</th>\n",
       "      <th>price</th>\n",
       "      <th>vehicleType</th>\n",
       "      <th>gearbox</th>\n",
       "      <th>powerPS</th>\n",
       "      <th>odometer</th>\n",
       "      <th>fuelType</th>\n",
       "      <th>notRepairedDamage</th>\n",
       "      <th>model_coder</th>\n",
       "      <th>brand_coder</th>\n",
       "    </tr>\n",
       "  </thead>\n",
       "  <tbody>\n",
       "  </tbody>\n",
       "</table>\n",
       "</div>"
      ],
      "text/plain": [
       "Empty DataFrame\n",
       "Columns: [model, brand, age, seller, offerType, price, vehicleType, gearbox, powerPS, odometer, fuelType, notRepairedDamage, model_coder, brand_coder]\n",
       "Index: []"
      ]
     },
     "execution_count": 44,
     "metadata": {},
     "output_type": "execute_result"
    }
   ],
   "source": [
    "data[data['powerPS'] == 0]"
   ]
  },
  {
   "cell_type": "markdown",
   "metadata": {},
   "source": [
    "#### Разбираемся с нулевыми значениями price (заполнение по среднему (бренд, модель, powerPS, odometer, age))"
   ]
  },
  {
   "cell_type": "code",
   "execution_count": 45,
   "metadata": {},
   "outputs": [
    {
     "data": {
      "text/html": [
       "<div>\n",
       "<style scoped>\n",
       "    .dataframe tbody tr th:only-of-type {\n",
       "        vertical-align: middle;\n",
       "    }\n",
       "\n",
       "    .dataframe tbody tr th {\n",
       "        vertical-align: top;\n",
       "    }\n",
       "\n",
       "    .dataframe thead th {\n",
       "        text-align: right;\n",
       "    }\n",
       "</style>\n",
       "<table border=\"1\" class=\"dataframe\">\n",
       "  <thead>\n",
       "    <tr style=\"text-align: right;\">\n",
       "      <th></th>\n",
       "      <th>model</th>\n",
       "      <th>brand</th>\n",
       "      <th>age</th>\n",
       "      <th>seller</th>\n",
       "      <th>offerType</th>\n",
       "      <th>price</th>\n",
       "      <th>vehicleType</th>\n",
       "      <th>gearbox</th>\n",
       "      <th>powerPS</th>\n",
       "      <th>odometer</th>\n",
       "      <th>fuelType</th>\n",
       "      <th>notRepairedDamage</th>\n",
       "      <th>model_coder</th>\n",
       "      <th>brand_coder</th>\n",
       "    </tr>\n",
       "  </thead>\n",
       "  <tbody>\n",
       "    <tr>\n",
       "      <th>18</th>\n",
       "      <td>100</td>\n",
       "      <td>audi</td>\n",
       "      <td>24</td>\n",
       "      <td>1</td>\n",
       "      <td>1</td>\n",
       "      <td>0</td>\n",
       "      <td>limousine</td>\n",
       "      <td>manuell</td>\n",
       "      <td>150.0</td>\n",
       "      <td>150000</td>\n",
       "      <td>benzin</td>\n",
       "      <td>ja</td>\n",
       "      <td>1804.800000</td>\n",
       "      <td>1671.821429</td>\n",
       "    </tr>\n",
       "    <tr>\n",
       "      <th>35</th>\n",
       "      <td>100</td>\n",
       "      <td>audi</td>\n",
       "      <td>25</td>\n",
       "      <td>1</td>\n",
       "      <td>1</td>\n",
       "      <td>0</td>\n",
       "      <td>limousine</td>\n",
       "      <td>manuell</td>\n",
       "      <td>116.0</td>\n",
       "      <td>150000</td>\n",
       "      <td>не указан</td>\n",
       "      <td>ja</td>\n",
       "      <td>1309.900000</td>\n",
       "      <td>1671.821429</td>\n",
       "    </tr>\n",
       "    <tr>\n",
       "      <th>174</th>\n",
       "      <td>156</td>\n",
       "      <td>alfa_romeo</td>\n",
       "      <td>15</td>\n",
       "      <td>1</td>\n",
       "      <td>1</td>\n",
       "      <td>0</td>\n",
       "      <td>kombi</td>\n",
       "      <td>manuell</td>\n",
       "      <td>144.0</td>\n",
       "      <td>150000</td>\n",
       "      <td>benzin</td>\n",
       "      <td>ja</td>\n",
       "      <td>881.866667</td>\n",
       "      <td>1426.619565</td>\n",
       "    </tr>\n",
       "    <tr>\n",
       "      <th>178</th>\n",
       "      <td>156</td>\n",
       "      <td>alfa_romeo</td>\n",
       "      <td>15</td>\n",
       "      <td>1</td>\n",
       "      <td>1</td>\n",
       "      <td>0</td>\n",
       "      <td>kombi</td>\n",
       "      <td>manuell</td>\n",
       "      <td>140.0</td>\n",
       "      <td>150000</td>\n",
       "      <td>diesel</td>\n",
       "      <td>ja</td>\n",
       "      <td>881.866667</td>\n",
       "      <td>1426.619565</td>\n",
       "    </tr>\n",
       "    <tr>\n",
       "      <th>205</th>\n",
       "      <td>156</td>\n",
       "      <td>alfa_romeo</td>\n",
       "      <td>18</td>\n",
       "      <td>1</td>\n",
       "      <td>1</td>\n",
       "      <td>0</td>\n",
       "      <td>limousine</td>\n",
       "      <td>manuell</td>\n",
       "      <td>150.0</td>\n",
       "      <td>150000</td>\n",
       "      <td>benzin</td>\n",
       "      <td>ja</td>\n",
       "      <td>658.666667</td>\n",
       "      <td>1426.619565</td>\n",
       "    </tr>\n",
       "  </tbody>\n",
       "</table>\n",
       "</div>"
      ],
      "text/plain": [
       "    model       brand  age  seller  offerType  price vehicleType  gearbox  \\\n",
       "18    100        audi   24       1          1      0   limousine  manuell   \n",
       "35    100        audi   25       1          1      0   limousine  manuell   \n",
       "174   156  alfa_romeo   15       1          1      0       kombi  manuell   \n",
       "178   156  alfa_romeo   15       1          1      0       kombi  manuell   \n",
       "205   156  alfa_romeo   18       1          1      0   limousine  manuell   \n",
       "\n",
       "     powerPS  odometer   fuelType notRepairedDamage  model_coder  brand_coder  \n",
       "18     150.0    150000     benzin                ja  1804.800000  1671.821429  \n",
       "35     116.0    150000  не указан                ja  1309.900000  1671.821429  \n",
       "174    144.0    150000     benzin                ja   881.866667  1426.619565  \n",
       "178    140.0    150000     diesel                ja   881.866667  1426.619565  \n",
       "205    150.0    150000     benzin                ja   658.666667  1426.619565  "
      ]
     },
     "execution_count": 45,
     "metadata": {},
     "output_type": "execute_result"
    }
   ],
   "source": [
    "data_price_problem = data[data['price'] == 0]\n",
    "data_price_problem.head()"
   ]
  },
  {
   "cell_type": "code",
   "execution_count": 46,
   "metadata": {},
   "outputs": [
    {
     "data": {
      "text/html": [
       "<div>\n",
       "<style scoped>\n",
       "    .dataframe tbody tr th:only-of-type {\n",
       "        vertical-align: middle;\n",
       "    }\n",
       "\n",
       "    .dataframe tbody tr th {\n",
       "        vertical-align: top;\n",
       "    }\n",
       "\n",
       "    .dataframe thead th {\n",
       "        text-align: right;\n",
       "    }\n",
       "</style>\n",
       "<table border=\"1\" class=\"dataframe\">\n",
       "  <thead>\n",
       "    <tr style=\"text-align: right;\">\n",
       "      <th></th>\n",
       "      <th>brand</th>\n",
       "      <th>model</th>\n",
       "      <th>powerPS</th>\n",
       "      <th>age</th>\n",
       "      <th>price</th>\n",
       "    </tr>\n",
       "  </thead>\n",
       "  <tbody>\n",
       "    <tr>\n",
       "      <th>0</th>\n",
       "      <td>alfa_romeo</td>\n",
       "      <td>145</td>\n",
       "      <td>80.75</td>\n",
       "      <td>16</td>\n",
       "      <td>500.0</td>\n",
       "    </tr>\n",
       "    <tr>\n",
       "      <th>1</th>\n",
       "      <td>alfa_romeo</td>\n",
       "      <td>145</td>\n",
       "      <td>100.00</td>\n",
       "      <td>21</td>\n",
       "      <td>500.0</td>\n",
       "    </tr>\n",
       "    <tr>\n",
       "      <th>2</th>\n",
       "      <td>alfa_romeo</td>\n",
       "      <td>145</td>\n",
       "      <td>103.00</td>\n",
       "      <td>0</td>\n",
       "      <td>399.0</td>\n",
       "    </tr>\n",
       "    <tr>\n",
       "      <th>3</th>\n",
       "      <td>alfa_romeo</td>\n",
       "      <td>145</td>\n",
       "      <td>120.00</td>\n",
       "      <td>16</td>\n",
       "      <td>5000.0</td>\n",
       "    </tr>\n",
       "    <tr>\n",
       "      <th>4</th>\n",
       "      <td>alfa_romeo</td>\n",
       "      <td>147</td>\n",
       "      <td>76.00</td>\n",
       "      <td>19</td>\n",
       "      <td>500.0</td>\n",
       "    </tr>\n",
       "    <tr>\n",
       "      <th>...</th>\n",
       "      <td>...</td>\n",
       "      <td>...</td>\n",
       "      <td>...</td>\n",
       "      <td>...</td>\n",
       "      <td>...</td>\n",
       "    </tr>\n",
       "    <tr>\n",
       "      <th>13317</th>\n",
       "      <td>volvo</td>\n",
       "      <td>xc_reihe</td>\n",
       "      <td>210.00</td>\n",
       "      <td>13</td>\n",
       "      <td>6750.0</td>\n",
       "    </tr>\n",
       "    <tr>\n",
       "      <th>13318</th>\n",
       "      <td>volvo</td>\n",
       "      <td>xc_reihe</td>\n",
       "      <td>215.00</td>\n",
       "      <td>4</td>\n",
       "      <td>28990.0</td>\n",
       "    </tr>\n",
       "    <tr>\n",
       "      <th>13319</th>\n",
       "      <td>volvo</td>\n",
       "      <td>xc_reihe</td>\n",
       "      <td>215.00</td>\n",
       "      <td>5</td>\n",
       "      <td>21245.0</td>\n",
       "    </tr>\n",
       "    <tr>\n",
       "      <th>13320</th>\n",
       "      <td>volvo</td>\n",
       "      <td>xc_reihe</td>\n",
       "      <td>239.00</td>\n",
       "      <td>9</td>\n",
       "      <td>9900.0</td>\n",
       "    </tr>\n",
       "    <tr>\n",
       "      <th>13321</th>\n",
       "      <td>volvo</td>\n",
       "      <td>xc_reihe</td>\n",
       "      <td>315.00</td>\n",
       "      <td>11</td>\n",
       "      <td>8900.0</td>\n",
       "    </tr>\n",
       "  </tbody>\n",
       "</table>\n",
       "<p>13322 rows × 5 columns</p>\n",
       "</div>"
      ],
      "text/plain": [
       "            brand     model  powerPS  age    price\n",
       "0      alfa_romeo       145    80.75   16    500.0\n",
       "1      alfa_romeo       145   100.00   21    500.0\n",
       "2      alfa_romeo       145   103.00    0    399.0\n",
       "3      alfa_romeo       145   120.00   16   5000.0\n",
       "4      alfa_romeo       147    76.00   19    500.0\n",
       "...           ...       ...      ...  ...      ...\n",
       "13317       volvo  xc_reihe   210.00   13   6750.0\n",
       "13318       volvo  xc_reihe   215.00    4  28990.0\n",
       "13319       volvo  xc_reihe   215.00    5  21245.0\n",
       "13320       volvo  xc_reihe   239.00    9   9900.0\n",
       "13321       volvo  xc_reihe   315.00   11   8900.0\n",
       "\n",
       "[13322 rows x 5 columns]"
      ]
     },
     "execution_count": 46,
     "metadata": {},
     "output_type": "execute_result"
    }
   ],
   "source": [
    "values_price_problem =\\\n",
    "data.groupby(['brand', 'model', 'powerPS','age'])['price'].mean()\n",
    "values_price_problem.reset_index()"
   ]
  },
  {
   "cell_type": "code",
   "execution_count": 47,
   "metadata": {},
   "outputs": [
    {
     "name": "stdout",
     "output_type": "stream",
     "text": [
      "<class 'pandas.core.frame.DataFrame'>\n",
      "Int64Index: 976 entries, 0 to 975\n",
      "Data columns (total 14 columns):\n",
      " #   Column             Non-Null Count  Dtype  \n",
      "---  ------             --------------  -----  \n",
      " 0   model              976 non-null    object \n",
      " 1   brand              976 non-null    object \n",
      " 2   age                976 non-null    int64  \n",
      " 3   seller             976 non-null    int64  \n",
      " 4   offerType          976 non-null    int64  \n",
      " 5   price              976 non-null    float64\n",
      " 6   vehicleType        976 non-null    object \n",
      " 7   gearbox            976 non-null    object \n",
      " 8   powerPS            976 non-null    float64\n",
      " 9   odometer           976 non-null    int64  \n",
      " 10  fuelType           976 non-null    object \n",
      " 11  notRepairedDamage  976 non-null    object \n",
      " 12  model_coder        976 non-null    float64\n",
      " 13  brand_coder        976 non-null    float64\n",
      "dtypes: float64(4), int64(4), object(6)\n",
      "memory usage: 114.4+ KB\n"
     ]
    }
   ],
   "source": [
    "column_do = data_price_problem.columns\n",
    "data_price_problem = data_price_problem.set_index(['brand', 'model', 'powerPS','age']).drop('price', axis = 1)\n",
    "\n",
    "data_to_concat = \\\n",
    "data_price_problem.merge(values_price_problem.reset_index(),\n",
    "                         on = ['brand', 'model', 'powerPS','age'])\n",
    "\n",
    "data_to_concat = data_to_concat[column_do]\n",
    "data_to_concat.info()"
   ]
  },
  {
   "cell_type": "code",
   "execution_count": 48,
   "metadata": {},
   "outputs": [
    {
     "data": {
      "text/html": [
       "<div>\n",
       "<style scoped>\n",
       "    .dataframe tbody tr th:only-of-type {\n",
       "        vertical-align: middle;\n",
       "    }\n",
       "\n",
       "    .dataframe tbody tr th {\n",
       "        vertical-align: top;\n",
       "    }\n",
       "\n",
       "    .dataframe thead th {\n",
       "        text-align: right;\n",
       "    }\n",
       "</style>\n",
       "<table border=\"1\" class=\"dataframe\">\n",
       "  <thead>\n",
       "    <tr style=\"text-align: right;\">\n",
       "      <th></th>\n",
       "      <th>model</th>\n",
       "      <th>brand</th>\n",
       "      <th>age</th>\n",
       "      <th>seller</th>\n",
       "      <th>offerType</th>\n",
       "      <th>price</th>\n",
       "      <th>vehicleType</th>\n",
       "      <th>gearbox</th>\n",
       "      <th>powerPS</th>\n",
       "      <th>odometer</th>\n",
       "      <th>fuelType</th>\n",
       "      <th>notRepairedDamage</th>\n",
       "      <th>model_coder</th>\n",
       "      <th>brand_coder</th>\n",
       "    </tr>\n",
       "  </thead>\n",
       "  <tbody>\n",
       "    <tr>\n",
       "      <th>0</th>\n",
       "      <td>100</td>\n",
       "      <td>audi</td>\n",
       "      <td>0</td>\n",
       "      <td>1</td>\n",
       "      <td>1</td>\n",
       "      <td>1250.000000</td>\n",
       "      <td>other</td>\n",
       "      <td>manuell</td>\n",
       "      <td>136.000000</td>\n",
       "      <td>150000</td>\n",
       "      <td>benzin</td>\n",
       "      <td>не указано</td>\n",
       "      <td>1250.000000</td>\n",
       "      <td>1671.821429</td>\n",
       "    </tr>\n",
       "    <tr>\n",
       "      <th>1</th>\n",
       "      <td>100</td>\n",
       "      <td>audi</td>\n",
       "      <td>9</td>\n",
       "      <td>1</td>\n",
       "      <td>1</td>\n",
       "      <td>7190.000000</td>\n",
       "      <td>cabrio</td>\n",
       "      <td>automatik</td>\n",
       "      <td>163.000000</td>\n",
       "      <td>150000</td>\n",
       "      <td>diesel</td>\n",
       "      <td>nein</td>\n",
       "      <td>7190.000000</td>\n",
       "      <td>1671.821429</td>\n",
       "    </tr>\n",
       "    <tr>\n",
       "      <th>2</th>\n",
       "      <td>100</td>\n",
       "      <td>audi</td>\n",
       "      <td>21</td>\n",
       "      <td>1</td>\n",
       "      <td>1</td>\n",
       "      <td>990.000000</td>\n",
       "      <td>other</td>\n",
       "      <td>manuell</td>\n",
       "      <td>174.000000</td>\n",
       "      <td>150000</td>\n",
       "      <td>не указан</td>\n",
       "      <td>не указано</td>\n",
       "      <td>990.000000</td>\n",
       "      <td>1671.821429</td>\n",
       "    </tr>\n",
       "    <tr>\n",
       "      <th>3</th>\n",
       "      <td>100</td>\n",
       "      <td>audi</td>\n",
       "      <td>22</td>\n",
       "      <td>1</td>\n",
       "      <td>1</td>\n",
       "      <td>650.000000</td>\n",
       "      <td>kombi</td>\n",
       "      <td>manuell</td>\n",
       "      <td>116.000000</td>\n",
       "      <td>150000</td>\n",
       "      <td>benzin</td>\n",
       "      <td>nein</td>\n",
       "      <td>699.750000</td>\n",
       "      <td>1671.821429</td>\n",
       "    </tr>\n",
       "    <tr>\n",
       "      <th>4</th>\n",
       "      <td>100</td>\n",
       "      <td>audi</td>\n",
       "      <td>22</td>\n",
       "      <td>1</td>\n",
       "      <td>1</td>\n",
       "      <td>1199.000000</td>\n",
       "      <td>limousine</td>\n",
       "      <td>manuell</td>\n",
       "      <td>150.000000</td>\n",
       "      <td>150000</td>\n",
       "      <td>benzin</td>\n",
       "      <td>nein</td>\n",
       "      <td>699.750000</td>\n",
       "      <td>1671.821429</td>\n",
       "    </tr>\n",
       "    <tr>\n",
       "      <th>...</th>\n",
       "      <td>...</td>\n",
       "      <td>...</td>\n",
       "      <td>...</td>\n",
       "      <td>...</td>\n",
       "      <td>...</td>\n",
       "      <td>...</td>\n",
       "      <td>...</td>\n",
       "      <td>...</td>\n",
       "      <td>...</td>\n",
       "      <td>...</td>\n",
       "      <td>...</td>\n",
       "      <td>...</td>\n",
       "      <td>...</td>\n",
       "      <td>...</td>\n",
       "    </tr>\n",
       "    <tr>\n",
       "      <th>36947</th>\n",
       "      <td>v50</td>\n",
       "      <td>volvo</td>\n",
       "      <td>12</td>\n",
       "      <td>1</td>\n",
       "      <td>1</td>\n",
       "      <td>2099.500000</td>\n",
       "      <td>kombi</td>\n",
       "      <td>manuell</td>\n",
       "      <td>129.551724</td>\n",
       "      <td>150000</td>\n",
       "      <td>diesel</td>\n",
       "      <td>не указано</td>\n",
       "      <td>3532.111111</td>\n",
       "      <td>5139.774194</td>\n",
       "    </tr>\n",
       "    <tr>\n",
       "      <th>36948</th>\n",
       "      <td>v70</td>\n",
       "      <td>volvo</td>\n",
       "      <td>17</td>\n",
       "      <td>1</td>\n",
       "      <td>1</td>\n",
       "      <td>275.000000</td>\n",
       "      <td>kombi</td>\n",
       "      <td>manuell</td>\n",
       "      <td>151.431579</td>\n",
       "      <td>150000</td>\n",
       "      <td>не указан</td>\n",
       "      <td>nein</td>\n",
       "      <td>1765.384615</td>\n",
       "      <td>3809.525773</td>\n",
       "    </tr>\n",
       "    <tr>\n",
       "      <th>36949</th>\n",
       "      <td>vito</td>\n",
       "      <td>mercedes_benz</td>\n",
       "      <td>9</td>\n",
       "      <td>1</td>\n",
       "      <td>1</td>\n",
       "      <td>4633.333333</td>\n",
       "      <td>other</td>\n",
       "      <td>не указана</td>\n",
       "      <td>101.413793</td>\n",
       "      <td>150000</td>\n",
       "      <td>не указан</td>\n",
       "      <td>не указано</td>\n",
       "      <td>6631.800000</td>\n",
       "      <td>7295.238095</td>\n",
       "    </tr>\n",
       "    <tr>\n",
       "      <th>36950</th>\n",
       "      <td>vito</td>\n",
       "      <td>mercedes_benz</td>\n",
       "      <td>16</td>\n",
       "      <td>1</td>\n",
       "      <td>1</td>\n",
       "      <td>999.500000</td>\n",
       "      <td>bus</td>\n",
       "      <td>manuell</td>\n",
       "      <td>101.413793</td>\n",
       "      <td>150000</td>\n",
       "      <td>diesel</td>\n",
       "      <td>не указано</td>\n",
       "      <td>2108.000000</td>\n",
       "      <td>7295.238095</td>\n",
       "    </tr>\n",
       "    <tr>\n",
       "      <th>36951</th>\n",
       "      <td>zafira</td>\n",
       "      <td>opel</td>\n",
       "      <td>12</td>\n",
       "      <td>1</td>\n",
       "      <td>1</td>\n",
       "      <td>1300.000000</td>\n",
       "      <td>bus</td>\n",
       "      <td>manuell</td>\n",
       "      <td>109.938931</td>\n",
       "      <td>150000</td>\n",
       "      <td>не указан</td>\n",
       "      <td>не указано</td>\n",
       "      <td>3003.558824</td>\n",
       "      <td>3486.879433</td>\n",
       "    </tr>\n",
       "  </tbody>\n",
       "</table>\n",
       "<p>36952 rows × 14 columns</p>\n",
       "</div>"
      ],
      "text/plain": [
       "        model          brand  age  seller  offerType        price vehicleType  \\\n",
       "0         100           audi    0       1          1  1250.000000       other   \n",
       "1         100           audi    9       1          1  7190.000000      cabrio   \n",
       "2         100           audi   21       1          1   990.000000       other   \n",
       "3         100           audi   22       1          1   650.000000       kombi   \n",
       "4         100           audi   22       1          1  1199.000000   limousine   \n",
       "...       ...            ...  ...     ...        ...          ...         ...   \n",
       "36947     v50          volvo   12       1          1  2099.500000       kombi   \n",
       "36948     v70          volvo   17       1          1   275.000000       kombi   \n",
       "36949    vito  mercedes_benz    9       1          1  4633.333333       other   \n",
       "36950    vito  mercedes_benz   16       1          1   999.500000         bus   \n",
       "36951  zafira           opel   12       1          1  1300.000000         bus   \n",
       "\n",
       "          gearbox     powerPS  odometer   fuelType notRepairedDamage  \\\n",
       "0         manuell  136.000000    150000     benzin        не указано   \n",
       "1       automatik  163.000000    150000     diesel              nein   \n",
       "2         manuell  174.000000    150000  не указан        не указано   \n",
       "3         manuell  116.000000    150000     benzin              nein   \n",
       "4         manuell  150.000000    150000     benzin              nein   \n",
       "...           ...         ...       ...        ...               ...   \n",
       "36947     manuell  129.551724    150000     diesel        не указано   \n",
       "36948     manuell  151.431579    150000  не указан              nein   \n",
       "36949  не указана  101.413793    150000  не указан        не указано   \n",
       "36950     manuell  101.413793    150000     diesel        не указано   \n",
       "36951     manuell  109.938931    150000  не указан        не указано   \n",
       "\n",
       "       model_coder  brand_coder  \n",
       "0      1250.000000  1671.821429  \n",
       "1      7190.000000  1671.821429  \n",
       "2       990.000000  1671.821429  \n",
       "3       699.750000  1671.821429  \n",
       "4       699.750000  1671.821429  \n",
       "...            ...          ...  \n",
       "36947  3532.111111  5139.774194  \n",
       "36948  1765.384615  3809.525773  \n",
       "36949  6631.800000  7295.238095  \n",
       "36950  2108.000000  7295.238095  \n",
       "36951  3003.558824  3486.879433  \n",
       "\n",
       "[36952 rows x 14 columns]"
      ]
     },
     "execution_count": 48,
     "metadata": {},
     "output_type": "execute_result"
    }
   ],
   "source": [
    "data =\\\n",
    "pd.concat([data[data['price'] != 0],\n",
    "           data_to_concat[data_to_concat['price'] != 0]],\n",
    "           ignore_index = True)\n",
    "data"
   ]
  },
  {
   "cell_type": "code",
   "execution_count": 49,
   "metadata": {},
   "outputs": [
    {
     "data": {
      "image/png": "[encoded data removed]",
      "text/plain": [
       "<Figure size 1500x100 with 1 Axes>"
      ]
     },
     "metadata": {},
     "output_type": "display_data"
    },
    {
     "data": {
      "image/png": "[encoded data removed]",
      "text/plain": [
       "<Figure size 1500x100 with 1 Axes>"
      ]
     },
     "metadata": {},
     "output_type": "display_data"
    },
    {
     "data": {
      "image/png": "[encoded data removed]",
      "text/plain": [
       "<Figure size 1500x100 with 1 Axes>"
      ]
     },
     "metadata": {},
     "output_type": "display_data"
    },
    {
     "data": {
      "image/png": "[encoded data removed]",
      "text/plain": [
       "<Figure size 1500x100 with 1 Axes>"
      ]
     },
     "metadata": {},
     "output_type": "display_data"
    },
    {
     "data": {
      "image/png": "[encoded data removed]",
      "text/plain": [
       "<Figure size 1500x100 with 1 Axes>"
      ]
     },
     "metadata": {},
     "output_type": "display_data"
    },
    {
     "data": {
      "image/png": "[encoded data removed]",
      "text/plain": [
       "<Figure size 1500x100 with 1 Axes>"
      ]
     },
     "metadata": {},
     "output_type": "display_data"
    },
    {
     "data": {
      "image/png": "[encoded data removed]",
      "text/plain": [
       "<Figure size 1500x100 with 1 Axes>"
      ]
     },
     "metadata": {},
     "output_type": "display_data"
    },
    {
     "data": {
      "image/png": "[encoded data removed]",
      "text/plain": [
       "<Figure size 1500x100 with 1 Axes>"
      ]
     },
     "metadata": {},
     "output_type": "display_data"
    }
   ],
   "source": [
    "num_features_target = data.describe().columns.to_list()\n",
    "\n",
    "for feature in num_features_target:\n",
    "    plt.figure(figsize = (15,1))\n",
    "    sns.boxplot(data = data,\n",
    "                x = feature)\n",
    "    plt.show()"
   ]
  },
  {
   "cell_type": "markdown",
   "metadata": {},
   "source": [
    "## Посмотрим, есть ли сильно коррелированные признаки\n",
    "\n",
    "таких нет"
   ]
  },
  {
   "cell_type": "code",
   "execution_count": 50,
   "metadata": {},
   "outputs": [
    {
     "name": "stderr",
     "output_type": "stream",
     "text": [
      "C:\\Users\\oudel\\AppData\\Local\\Temp\\ipykernel_6756\\2627137660.py:1: FutureWarning: The default value of numeric_only in DataFrame.corr is deprecated. In a future version, it will default to False. Select only valid columns or specify the value of numeric_only to silence this warning.\n",
      "  data.corr()\n"
     ]
    },
    {
     "data": {
      "text/html": [
       "<div>\n",
       "<style scoped>\n",
       "    .dataframe tbody tr th:only-of-type {\n",
       "        vertical-align: middle;\n",
       "    }\n",
       "\n",
       "    .dataframe tbody tr th {\n",
       "        vertical-align: top;\n",
       "    }\n",
       "\n",
       "    .dataframe thead th {\n",
       "        text-align: right;\n",
       "    }\n",
       "</style>\n",
       "<table border=\"1\" class=\"dataframe\">\n",
       "  <thead>\n",
       "    <tr style=\"text-align: right;\">\n",
       "      <th></th>\n",
       "      <th>age</th>\n",
       "      <th>seller</th>\n",
       "      <th>offerType</th>\n",
       "      <th>price</th>\n",
       "      <th>powerPS</th>\n",
       "      <th>odometer</th>\n",
       "      <th>model_coder</th>\n",
       "      <th>brand_coder</th>\n",
       "    </tr>\n",
       "  </thead>\n",
       "  <tbody>\n",
       "    <tr>\n",
       "      <th>age</th>\n",
       "      <td>1.000000</td>\n",
       "      <td>-0.002561</td>\n",
       "      <td>0.001762</td>\n",
       "      <td>-0.207332</td>\n",
       "      <td>-0.143638</td>\n",
       "      <td>0.189342</td>\n",
       "      <td>-0.461639</td>\n",
       "      <td>-0.126601</td>\n",
       "    </tr>\n",
       "    <tr>\n",
       "      <th>seller</th>\n",
       "      <td>-0.002561</td>\n",
       "      <td>1.000000</td>\n",
       "      <td>-0.000027</td>\n",
       "      <td>0.002238</td>\n",
       "      <td>0.002819</td>\n",
       "      <td>-0.002503</td>\n",
       "      <td>0.003866</td>\n",
       "      <td>0.003509</td>\n",
       "    </tr>\n",
       "    <tr>\n",
       "      <th>offerType</th>\n",
       "      <td>0.001762</td>\n",
       "      <td>-0.000027</td>\n",
       "      <td>1.000000</td>\n",
       "      <td>-0.000030</td>\n",
       "      <td>0.001615</td>\n",
       "      <td>-0.002503</td>\n",
       "      <td>-0.006012</td>\n",
       "      <td>-0.008182</td>\n",
       "    </tr>\n",
       "    <tr>\n",
       "      <th>price</th>\n",
       "      <td>-0.207332</td>\n",
       "      <td>0.002238</td>\n",
       "      <td>-0.000030</td>\n",
       "      <td>1.000000</td>\n",
       "      <td>0.282157</td>\n",
       "      <td>-0.127401</td>\n",
       "      <td>0.458445</td>\n",
       "      <td>0.261370</td>\n",
       "    </tr>\n",
       "    <tr>\n",
       "      <th>powerPS</th>\n",
       "      <td>-0.143638</td>\n",
       "      <td>0.002819</td>\n",
       "      <td>0.001615</td>\n",
       "      <td>0.282157</td>\n",
       "      <td>1.000000</td>\n",
       "      <td>0.049716</td>\n",
       "      <td>0.484699</td>\n",
       "      <td>0.571439</td>\n",
       "    </tr>\n",
       "    <tr>\n",
       "      <th>odometer</th>\n",
       "      <td>0.189342</td>\n",
       "      <td>-0.002503</td>\n",
       "      <td>-0.002503</td>\n",
       "      <td>-0.127401</td>\n",
       "      <td>0.049716</td>\n",
       "      <td>1.000000</td>\n",
       "      <td>-0.194239</td>\n",
       "      <td>-0.000507</td>\n",
       "    </tr>\n",
       "    <tr>\n",
       "      <th>model_coder</th>\n",
       "      <td>-0.461639</td>\n",
       "      <td>0.003866</td>\n",
       "      <td>-0.006012</td>\n",
       "      <td>0.458445</td>\n",
       "      <td>0.484699</td>\n",
       "      <td>-0.194239</td>\n",
       "      <td>1.000000</td>\n",
       "      <td>0.561483</td>\n",
       "    </tr>\n",
       "    <tr>\n",
       "      <th>brand_coder</th>\n",
       "      <td>-0.126601</td>\n",
       "      <td>0.003509</td>\n",
       "      <td>-0.008182</td>\n",
       "      <td>0.261370</td>\n",
       "      <td>0.571439</td>\n",
       "      <td>-0.000507</td>\n",
       "      <td>0.561483</td>\n",
       "      <td>1.000000</td>\n",
       "    </tr>\n",
       "  </tbody>\n",
       "</table>\n",
       "</div>"
      ],
      "text/plain": [
       "                  age    seller  offerType     price   powerPS  odometer  \\\n",
       "age          1.000000 -0.002561   0.001762 -0.207332 -0.143638  0.189342   \n",
       "seller      -0.002561  1.000000  -0.000027  0.002238  0.002819 -0.002503   \n",
       "offerType    0.001762 -0.000027   1.000000 -0.000030  0.001615 -0.002503   \n",
       "price       -0.207332  0.002238  -0.000030  1.000000  0.282157 -0.127401   \n",
       "powerPS     -0.143638  0.002819   0.001615  0.282157  1.000000  0.049716   \n",
       "odometer     0.189342 -0.002503  -0.002503 -0.127401  0.049716  1.000000   \n",
       "model_coder -0.461639  0.003866  -0.006012  0.458445  0.484699 -0.194239   \n",
       "brand_coder -0.126601  0.003509  -0.008182  0.261370  0.571439 -0.000507   \n",
       "\n",
       "             model_coder  brand_coder  \n",
       "age            -0.461639    -0.126601  \n",
       "seller          0.003866     0.003509  \n",
       "offerType      -0.006012    -0.008182  \n",
       "price           0.458445     0.261370  \n",
       "powerPS         0.484699     0.571439  \n",
       "odometer       -0.194239    -0.000507  \n",
       "model_coder     1.000000     0.561483  \n",
       "brand_coder     0.561483     1.000000  "
      ]
     },
     "execution_count": 50,
     "metadata": {},
     "output_type": "execute_result"
    }
   ],
   "source": [
    "data.corr()"
   ]
  },
  {
   "cell_type": "markdown",
   "metadata": {},
   "source": [
    "# Напишем итоговый трансформер и ковеер для этих данных"
   ]
  },
  {
   "cell_type": "code",
   "execution_count": 51,
   "metadata": {},
   "outputs": [],
   "source": [
    "from sklearn.base import BaseEstimator, TransformerMixin\n",
    "from sklearn.pipeline import Pipeline\n",
    "from sklearn.pipeline import FeatureUnion\n",
    "from sklearn.impute import KNNImputer\n",
    "\n",
    "##### Создание признака возраст автомобиля (год скрапинга анкеты - год регистрации авто)\n",
    "class AgeOfAuto(TransformerMixin):\n",
    "    def fit(self, X, y = None):\n",
    "        return self\n",
    "    def transform(self, X, y = None):\n",
    "        X = X[(X['yearOfRegistration'] <= 2018) & (X['yearOfRegistration'] >= 1985)]\n",
    "        X['yearOfRegistration'] = X['yearOfRegistration'].map(lambda x: np.where(x >= 2017, 2016, x))\n",
    "        X['crawl_year'] = pd.to_datetime(X['dateCrawled']).dt.year\n",
    "        X['age'] = X['crawl_year'] - X['yearOfRegistration']\n",
    "        X = X.drop(['yearOfRegistration',\n",
    "                    'crawl_year',\n",
    "                    'dateCrawled',\n",
    "                    'name',\n",
    "                    'monthOfRegistration',\n",
    "                    'dateCreated',\n",
    "                    'nrOfPictures',\n",
    "                    'postalCode',\n",
    "                    'lastSeen',\n",
    "                    'abtest',\n",
    "                    'offerType'], axis = 1)\n",
    "        return X\n",
    "\n",
    "##### Убираем значок доллара и запятую в признаке price\n",
    "class DollarDeletePrice(TransformerMixin):\n",
    "    def fit(self, X, y = None):\n",
    "        return self\n",
    "    def transform(self, X, y = None):\n",
    "        X['price'] = X['price'].map(price_change)\n",
    "        return X\n",
    "\n",
    "\n",
    "#### Заполнение vehicleType 'other'\n",
    "def fillna_other_vehicleType(X):\n",
    "    X['vehicleType'] = X['vehicleType'].fillna('other')\n",
    "    return X\n",
    "\n",
    "#### Заполненение gearbox 'не указана'\n",
    "def fillna_gearbox(X):\n",
    "    X['gearbox'] = X['gearbox'].fillna('не указана')\n",
    "    return X\n",
    "\n",
    "#### Заполнение model 'other'\n",
    "def fillna_model(X):\n",
    "    X['model'] = X['model'].fillna('other')\n",
    "    return X\n",
    "\n",
    "#### убираем запятую и 'km' в odometer\n",
    "def mapping_odometer(X):\n",
    "    X['odometer'] = X['odometer'].map(odometer_changer)\n",
    "    return X\n",
    "        \n",
    "#### заполняем fuelType\n",
    "def fillna_fuelType(X):\n",
    "    X['fuelType'] = X['fuelType'].fillna('не указан')\n",
    "    return X\n",
    "\n",
    "#### Запролняем notRepairedDamage \n",
    "def fillna_notRepairedDamage(X):\n",
    "    X['notRepairedDamage'] = X['notRepairedDamage'].fillna('не указано')\n",
    "    return X\n",
    "\n",
    "def zamena_0_nan_NaN_powerPS(X):    # это нужно для заполнения потом этих значений Imputer\n",
    "    X.loc[(X['powerPS'] == 0), 'powerPS'] = np.nan\n",
    "    return X\n",
    "\n",
    "### Удаление 0 price\n",
    "def zero_price_delete(X):\n",
    "    X = X[X['price'] != 0]\n",
    "    return X\n",
    "\n",
    "### Удаление дублей\n",
    "def dubli_drop(X):\n",
    "    X = X.drop_duplicates()\n",
    "    return X\n",
    "\n",
    "\n",
    "### Выбросы\n",
    "def vibrosi(X):\n",
    "    num_features_target = X.describe().columns.to_list()\n",
    "    for num_column in num_features_target:\n",
    "                    quantile_upper = np.quantile(X[num_column], q = 0.75)\n",
    "                    quantile_down = np.quantile(X[num_column], q = 0.25)\n",
    "                    IQR = quantile_upper - quantile_down\n",
    "                    max = quantile_upper + 1.5*IQR\n",
    "                    min = quantile_down - 1.5*IQR\n",
    "                    X = X[(X[num_column] <= max) & (X[num_column] >= min)]\n",
    "    return X\n",
    "\n",
    "\n",
    "mapper = DataFrameMapper([\n",
    "    (['age'], None),\n",
    "    (['price'], DollarDeletePrice()),        # Еще удалить 0\n",
    "    (['vehicleType'], FunctionTransformer(fillna_other_vehicleType)),\n",
    "    (['gearbox'], FunctionTransformer(fillna_gearbox)),\n",
    "    (['model'], FunctionTransformer(fillna_model)),\n",
    "    (['odometer'], FunctionTransformer(mapping_odometer)),\n",
    "    (['fuelType'], FunctionTransformer(fillna_fuelType)),\n",
    "    (['notRepairedDamage'], FunctionTransformer(fillna_notRepairedDamage)),\n",
    "    (['seller'], None),\n",
    "    (['brand'], None),\n",
    "    (['powerPS'], [FunctionTransformer(zamena_0_nan_NaN_powerPS), KNNImputer()])\n",
    "], input_df = True, df_out = True)\n",
    "\n",
    "\n",
    "full_pipeline = Pipeline([\n",
    "    ('preprocess_age', AgeOfAuto()),    # создаем признак age (возраст авто)\n",
    "    ('mapper', mapper),\n",
    "    ('zero_price_delete', FunctionTransformer(zero_price_delete)),\n",
    "    ('dublicat_drop', FunctionTransformer(dubli_drop)),\n",
    "    ('vibrosi', FunctionTransformer(vibrosi))\n",
    "])"
   ]
  },
  {
   "cell_type": "code",
   "execution_count": 52,
   "metadata": {},
   "outputs": [],
   "source": [
    "data = data_base.copy()"
   ]
  },
  {
   "cell_type": "code",
   "execution_count": 53,
   "metadata": {},
   "outputs": [
    {
     "name": "stderr",
     "output_type": "stream",
     "text": [
      "C:\\Users\\oudel\\AppData\\Local\\Temp\\ipykernel_6756\\1393505137.py:12: SettingWithCopyWarning: \n",
      "A value is trying to be set on a copy of a slice from a DataFrame.\n",
      "Try using .loc[row_indexer,col_indexer] = value instead\n",
      "\n",
      "See the caveats in the documentation: https://pandas.pydata.org/pandas-docs/stable/user_guide/indexing.html#returning-a-view-versus-a-copy\n",
      "  X['yearOfRegistration'] = X['yearOfRegistration'].map(lambda x: np.where(x >= 2017, 2016, x))\n",
      "C:\\Users\\oudel\\AppData\\Local\\Temp\\ipykernel_6756\\1393505137.py:13: SettingWithCopyWarning: \n",
      "A value is trying to be set on a copy of a slice from a DataFrame.\n",
      "Try using .loc[row_indexer,col_indexer] = value instead\n",
      "\n",
      "See the caveats in the documentation: https://pandas.pydata.org/pandas-docs/stable/user_guide/indexing.html#returning-a-view-versus-a-copy\n",
      "  X['crawl_year'] = pd.to_datetime(X['dateCrawled']).dt.year\n",
      "C:\\Users\\oudel\\AppData\\Local\\Temp\\ipykernel_6756\\1393505137.py:14: SettingWithCopyWarning: \n",
      "A value is trying to be set on a copy of a slice from a DataFrame.\n",
      "Try using .loc[row_indexer,col_indexer] = value instead\n",
      "\n",
      "See the caveats in the documentation: https://pandas.pydata.org/pandas-docs/stable/user_guide/indexing.html#returning-a-view-versus-a-copy\n",
      "  X['age'] = X['crawl_year'] - X['yearOfRegistration']\n",
      "C:\\Users\\oudel\\AppData\\Local\\Temp\\ipykernel_6756\\1393505137.py:33: SettingWithCopyWarning: \n",
      "A value is trying to be set on a copy of a slice from a DataFrame.\n",
      "Try using .loc[row_indexer,col_indexer] = value instead\n",
      "\n",
      "See the caveats in the documentation: https://pandas.pydata.org/pandas-docs/stable/user_guide/indexing.html#returning-a-view-versus-a-copy\n",
      "  X['price'] = X['price'].map(price_change)\n",
      "C:\\Users\\oudel\\AppData\\Local\\Temp\\ipykernel_6756\\1393505137.py:39: SettingWithCopyWarning: \n",
      "A value is trying to be set on a copy of a slice from a DataFrame.\n",
      "Try using .loc[row_indexer,col_indexer] = value instead\n",
      "\n",
      "See the caveats in the documentation: https://pandas.pydata.org/pandas-docs/stable/user_guide/indexing.html#returning-a-view-versus-a-copy\n",
      "  X['vehicleType'] = X['vehicleType'].fillna('other')\n",
      "C:\\Users\\oudel\\AppData\\Local\\Temp\\ipykernel_6756\\1393505137.py:44: SettingWithCopyWarning: \n",
      "A value is trying to be set on a copy of a slice from a DataFrame.\n",
      "Try using .loc[row_indexer,col_indexer] = value instead\n",
      "\n",
      "See the caveats in the documentation: https://pandas.pydata.org/pandas-docs/stable/user_guide/indexing.html#returning-a-view-versus-a-copy\n",
      "  X['gearbox'] = X['gearbox'].fillna('не указана')\n",
      "C:\\Users\\oudel\\AppData\\Local\\Temp\\ipykernel_6756\\1393505137.py:49: SettingWithCopyWarning: \n",
      "A value is trying to be set on a copy of a slice from a DataFrame.\n",
      "Try using .loc[row_indexer,col_indexer] = value instead\n",
      "\n",
      "See the caveats in the documentation: https://pandas.pydata.org/pandas-docs/stable/user_guide/indexing.html#returning-a-view-versus-a-copy\n",
      "  X['model'] = X['model'].fillna('other')\n",
      "C:\\Users\\oudel\\AppData\\Local\\Temp\\ipykernel_6756\\1393505137.py:54: SettingWithCopyWarning: \n",
      "A value is trying to be set on a copy of a slice from a DataFrame.\n",
      "Try using .loc[row_indexer,col_indexer] = value instead\n",
      "\n",
      "See the caveats in the documentation: https://pandas.pydata.org/pandas-docs/stable/user_guide/indexing.html#returning-a-view-versus-a-copy\n",
      "  X['odometer'] = X['odometer'].map(odometer_changer)\n",
      "C:\\Users\\oudel\\AppData\\Local\\Temp\\ipykernel_6756\\1393505137.py:59: SettingWithCopyWarning: \n",
      "A value is trying to be set on a copy of a slice from a DataFrame.\n",
      "Try using .loc[row_indexer,col_indexer] = value instead\n",
      "\n",
      "See the caveats in the documentation: https://pandas.pydata.org/pandas-docs/stable/user_guide/indexing.html#returning-a-view-versus-a-copy\n",
      "  X['fuelType'] = X['fuelType'].fillna('не указан')\n",
      "C:\\Users\\oudel\\AppData\\Local\\Temp\\ipykernel_6756\\1393505137.py:64: SettingWithCopyWarning: \n",
      "A value is trying to be set on a copy of a slice from a DataFrame.\n",
      "Try using .loc[row_indexer,col_indexer] = value instead\n",
      "\n",
      "See the caveats in the documentation: https://pandas.pydata.org/pandas-docs/stable/user_guide/indexing.html#returning-a-view-versus-a-copy\n",
      "  X['notRepairedDamage'] = X['notRepairedDamage'].fillna('не указано')\n"
     ]
    }
   ],
   "source": [
    "df_prepare = full_pipeline.fit_transform(data)"
   ]
  },
  {
   "cell_type": "code",
   "execution_count": 54,
   "metadata": {},
   "outputs": [
    {
     "name": "stdout",
     "output_type": "stream",
     "text": [
      "<class 'pandas.core.frame.DataFrame'>\n",
      "Int64Index: 36033 entries, 0 to 49999\n",
      "Data columns (total 11 columns):\n",
      " #   Column             Non-Null Count  Dtype  \n",
      "---  ------             --------------  -----  \n",
      " 0   age                36033 non-null  int64  \n",
      " 1   price              36033 non-null  int64  \n",
      " 2   vehicleType        36033 non-null  object \n",
      " 3   gearbox            36033 non-null  object \n",
      " 4   model              36033 non-null  object \n",
      " 5   odometer           36033 non-null  int64  \n",
      " 6   fuelType           36033 non-null  object \n",
      " 7   notRepairedDamage  36033 non-null  object \n",
      " 8   seller             36033 non-null  object \n",
      " 9   brand              36033 non-null  object \n",
      " 10  powerPS            36033 non-null  float64\n",
      "dtypes: float64(1), int64(3), object(7)\n",
      "memory usage: 3.3+ MB\n"
     ]
    }
   ],
   "source": [
    "df_prepare.info()"
   ]
  },
  {
   "cell_type": "markdown",
   "metadata": {},
   "source": [
    "# Модели \n",
    "\n",
    "На всех моделях удобно будет искать RMSE"
   ]
  },
  {
   "cell_type": "markdown",
   "metadata": {},
   "source": [
    "## Разбиение выборок на тренировочную и тестовую"
   ]
  },
  {
   "cell_type": "code",
   "execution_count": 55,
   "metadata": {},
   "outputs": [],
   "source": [
    "def split(data):\n",
    "    y = data['price']\n",
    "    X = data.drop('price', axis = 1)\n",
    "    X_train, X_test, y_train, y_test = train_test_split(X,\n",
    "                                                        y,\n",
    "                                                        test_size = 0.2,\n",
    "                                                        random_state = RANDOM_STATE)\n",
    "    return X_train, X_test, y_train, y_test\n",
    "\n",
    "\n",
    "X_train_1, X_test_1, y_train_1, y_test_1 = split(data = df_prepare)\n",
    "\n",
    "\n",
    "#### Обозначим категориальные признаки\n",
    "cat_features = list(df_prepare.select_dtypes('object').columns)"
   ]
  },
  {
   "cell_type": "markdown",
   "metadata": {},
   "source": [
    "### DecisionTree"
   ]
  },
  {
   "cell_type": "code",
   "execution_count": 56,
   "metadata": {},
   "outputs": [
    {
     "data": {
      "text/plain": [
       "\"model_tree = DecisionTreeRegressor(random_state = RANDOM_STATE)\\n\\ndef fit_predict_error(model,\\n                      X_train,\\n                      X_test,\\n                      y_train,\\n                      y_test):\\n    \\n    model.fit(X_train, y_train)\\n    y_pred = model.predict(X_test)\\n    RMSE = np.sqrt(mean_squared_error(y_true = y_test,\\n                                      y_pred = y_pred))\\n    print(f'Модель: {model}')\\n    print(f'RMSE: {RMSE}')\\n\\n\\nfit_predict_error(model_tree,\\n                  X_train_1,\\n                  X_test_1,\\n                  y_train_1,\\n                  y_test_1)\""
      ]
     },
     "execution_count": 56,
     "metadata": {},
     "output_type": "execute_result"
    }
   ],
   "source": [
    "'''model_tree = DecisionTreeRegressor(random_state = RANDOM_STATE)\n",
    "\n",
    "def fit_predict_error(model,\n",
    "                      X_train,\n",
    "                      X_test,\n",
    "                      y_train,\n",
    "                      y_test):\n",
    "    \n",
    "    model.fit(X_train, y_train)\n",
    "    y_pred = model.predict(X_test)\n",
    "    RMSE = np.sqrt(mean_squared_error(y_true = y_test,\n",
    "                                      y_pred = y_pred))\n",
    "    print(f'Модель: {model}')\n",
    "    print(f'RMSE: {RMSE}')\n",
    "\n",
    "\n",
    "fit_predict_error(model_tree,\n",
    "                  X_train_1,\n",
    "                  X_test_1,\n",
    "                  y_train_1,\n",
    "                  y_test_1)'''"
   ]
  },
  {
   "cell_type": "markdown",
   "metadata": {},
   "source": [
    "## RandomForest / LinearRegression"
   ]
  },
  {
   "cell_type": "code",
   "execution_count": 57,
   "metadata": {},
   "outputs": [
    {
     "data": {
      "text/plain": [
       "\"model_forest = RandomForestRegressor(random_state = RANDOM_STATE,\\n                                     n_jobs = -1)\\nlin_model = LinearRegression()\\n\\n\\nfit_predict_error(model_forest,\\n                  X_train_1,\\n                  X_test_1,\\n                  y_train_1,\\n                  y_test_1)\\nprint('\\n')\\nfit_predict_error(lin_model,\\n                  X_train_1,\\n                  X_test_1,\\n                  y_train_1,\\n                  y_test_1)\""
      ]
     },
     "execution_count": 57,
     "metadata": {},
     "output_type": "execute_result"
    }
   ],
   "source": [
    "'''model_forest = RandomForestRegressor(random_state = RANDOM_STATE,\n",
    "                                     n_jobs = -1)\n",
    "lin_model = LinearRegression()\n",
    "\n",
    "\n",
    "fit_predict_error(model_forest,\n",
    "                  X_train_1,\n",
    "                  X_test_1,\n",
    "                  y_train_1,\n",
    "                  y_test_1)\n",
    "print('\\n')\n",
    "fit_predict_error(lin_model,\n",
    "                  X_train_1,\n",
    "                  X_test_1,\n",
    "                  y_train_1,\n",
    "                  y_test_1)'''"
   ]
  },
  {
   "cell_type": "markdown",
   "metadata": {},
   "source": [
    "## Catboost"
   ]
  },
  {
   "cell_type": "code",
   "execution_count": 58,
   "metadata": {},
   "outputs": [
    {
     "data": {
      "text/plain": [
       "\"cat_model = CatBoostRegressor(iterations = 100,\\n                              learning_rate = 0.01,\\n                              random_state = RANDOM_STATE,\\n                              custom_metric = 'RMSE')\\n\\ncat_model.fit(X_train_1,\\n              y_train_1,\\n              cat_features = cat_features,\\n              eval_set = (X_test_1, y_test_1),\\n              plot = True,\\n              verbose = 0)\""
      ]
     },
     "execution_count": 58,
     "metadata": {},
     "output_type": "execute_result"
    }
   ],
   "source": [
    "'''cat_model = CatBoostRegressor(iterations = 100,\n",
    "                              learning_rate = 0.01,\n",
    "                              random_state = RANDOM_STATE,\n",
    "                              custom_metric = 'RMSE')\n",
    "\n",
    "cat_model.fit(X_train_1,\n",
    "              y_train_1,\n",
    "              cat_features = cat_features,\n",
    "              eval_set = (X_test_1, y_test_1),\n",
    "              plot = True,\n",
    "              verbose = 0)'''"
   ]
  },
  {
   "cell_type": "code",
   "execution_count": 59,
   "metadata": {},
   "outputs": [
    {
     "data": {
      "text/plain": [
       "\"cat_model = CatBoostRegressor(iterations = 1000,\\n                              learning_rate = 0.05,\\n                              random_state = RANDOM_STATE,\\n                              custom_metric = 'RMSE')\\n\\ncat_model.fit(X_train_1,\\n              y_train_1,\\n              cat_features = cat_features,\\n              eval_set = (X_test_1, y_test_1),\\n              plot = True,\\n              verbose = 0)\""
      ]
     },
     "execution_count": 59,
     "metadata": {},
     "output_type": "execute_result"
    }
   ],
   "source": [
    "'''cat_model = CatBoostRegressor(iterations = 1000,\n",
    "                              learning_rate = 0.05,\n",
    "                              random_state = RANDOM_STATE,\n",
    "                              custom_metric = 'RMSE')\n",
    "\n",
    "cat_model.fit(X_train_1,\n",
    "              y_train_1,\n",
    "              cat_features = cat_features,\n",
    "              eval_set = (X_test_1, y_test_1),\n",
    "              plot = True,\n",
    "              verbose = 0)'''"
   ]
  },
  {
   "cell_type": "code",
   "execution_count": 60,
   "metadata": {},
   "outputs": [
    {
     "data": {
      "text/plain": [
       "\"cat_model = CatBoostRegressor(iterations = 2000,\\n                              learning_rate = 0.07,\\n                              random_state = RANDOM_STATE,\\n                              custom_metric = 'RMSE')\\n\\ncat_model.fit(X_train_1,\\n              y_train_1,\\n              cat_features = cat_features,\\n              eval_set = (X_test_1, y_test_1),\\n              plot = True,\\n              verbose = 0)\""
      ]
     },
     "execution_count": 60,
     "metadata": {},
     "output_type": "execute_result"
    }
   ],
   "source": [
    "'''cat_model = CatBoostRegressor(iterations = 2000,\n",
    "                              learning_rate = 0.07,\n",
    "                              random_state = RANDOM_STATE,\n",
    "                              custom_metric = 'RMSE')\n",
    "\n",
    "cat_model.fit(X_train_1,\n",
    "              y_train_1,\n",
    "              cat_features = cat_features,\n",
    "              eval_set = (X_test_1, y_test_1),\n",
    "              plot = True,\n",
    "              verbose = 0)'''"
   ]
  },
  {
   "cell_type": "code",
   "execution_count": 61,
   "metadata": {},
   "outputs": [
    {
     "data": {
      "text/plain": [
       "\"grid_random = GridSearchCV(estimator = RandomForestRegressor(random_state = RANDOM_STATE),\\n                           param_grid = {'n_estimators': np.arange(100,1000,100)},\\n                           scoring = mean_squared_error,\\n                           cv = ShuffleSplit(n_splits = 5,\\n                                             test_size = 0.2,\\n                                             random_state = RANDOM_STATE),\\n                           n_jobs = 10)\\n\\ngrid_random.fit(X_train_1, y_train_1)\\nbest_forest = grid_random.best_estimator_\\nprint(grid_random.best_params_)\\nprint(grid_random.best_score_)\""
      ]
     },
     "execution_count": 61,
     "metadata": {},
     "output_type": "execute_result"
    }
   ],
   "source": [
    "'''grid_random = GridSearchCV(estimator = RandomForestRegressor(random_state = RANDOM_STATE),\n",
    "                           param_grid = {'n_estimators': np.arange(100,1000,100)},\n",
    "                           scoring = mean_squared_error,\n",
    "                           cv = ShuffleSplit(n_splits = 5,\n",
    "                                             test_size = 0.2,\n",
    "                                             random_state = RANDOM_STATE),\n",
    "                           n_jobs = 10)\n",
    "\n",
    "grid_random.fit(X_train_1, y_train_1)\n",
    "best_forest = grid_random.best_estimator_\n",
    "print(grid_random.best_params_)\n",
    "print(grid_random.best_score_)'''"
   ]
  },
  {
   "cell_type": "markdown",
   "metadata": {},
   "source": [
    "## Ищем причины получения идеального регрессора (линейная модель, и nan в RandomForest)\n",
    "\n",
    "Выяснили, что проблема в кодированию посреднему и пробуем еще раз модель линейной регрессии"
   ]
  },
  {
   "cell_type": "code",
   "execution_count": 62,
   "metadata": {},
   "outputs": [
    {
     "data": {
      "text/plain": [
       "\"\\nX_train_proba = X_train_1.drop(['model_coder', 'brand_coder'], axis = 1)\\nX_test_proba = X_test_1.drop(['model_coder', 'brand_coder'], axis = 1)\\n\\n\\nnew_model = LinearRegression()\\nnew_model.fit(X_train_proba, y_train_1)\\n\\ny_pred = new_model.predict(X_test_proba)\\n\\nnp.sqrt(mean_squared_error(y_true = y_test_1,\\n                           y_pred = y_pred))\\n\""
      ]
     },
     "execution_count": 62,
     "metadata": {},
     "output_type": "execute_result"
    }
   ],
   "source": [
    "'''\n",
    "X_train_proba = X_train_1.drop(['model_coder', 'brand_coder'], axis = 1)\n",
    "X_test_proba = X_test_1.drop(['model_coder', 'brand_coder'], axis = 1)\n",
    "\n",
    "\n",
    "new_model = LinearRegression()\n",
    "new_model.fit(X_train_proba, y_train_1)\n",
    "\n",
    "y_pred = \\\n",
    "new_model.predict(X_test_proba)\n",
    "\n",
    "np.sqrt(mean_squared_error(y_true = y_test_1,\n",
    "                           y_pred = y_pred))\n",
    "'''"
   ]
  },
  {
   "cell_type": "markdown",
   "metadata": {},
   "source": [
    "##### вывод\n",
    "\n",
    "кодирование по среднему не удалось, но модель и бренд очень важные признаки, поэтому будет улучшать catboost модель, она лучше всего кодирует категориальные признаки"
   ]
  },
  {
   "cell_type": "markdown",
   "metadata": {},
   "source": [
    "# Продолжаем испытывать catboost модель"
   ]
  },
  {
   "cell_type": "code",
   "execution_count": 63,
   "metadata": {},
   "outputs": [
    {
     "data": {
      "text/plain": [
       "\"cat_model = CatBoostRegressor(iterations = 5000,\\n                              learning_rate = 0.1,\\n                              random_state = RANDOM_STATE,\\n                              custom_metric = 'RMSE',\\n                              task_type = 'GPU')\\n\\ncat_model.fit(X_train_1,\\n              y_train_1,\\n              cat_features = cat_features,\\n              eval_set = (X_test_1, y_test_1),\\n              plot = True,\\n              verbose = 0)\""
      ]
     },
     "execution_count": 63,
     "metadata": {},
     "output_type": "execute_result"
    }
   ],
   "source": [
    "'''cat_model = CatBoostRegressor(iterations = 5000,\n",
    "                              learning_rate = 0.1,\n",
    "                              random_state = RANDOM_STATE,\n",
    "                              custom_metric = 'RMSE',\n",
    "                              task_type = 'GPU')\n",
    "\n",
    "cat_model.fit(X_train_1,\n",
    "              y_train_1,\n",
    "              cat_features = cat_features,\n",
    "              eval_set = (X_test_1, y_test_1),\n",
    "              plot = True,\n",
    "              verbose = 0)'''"
   ]
  },
  {
   "cell_type": "code",
   "execution_count": 64,
   "metadata": {},
   "outputs": [
    {
     "data": {
      "text/plain": [
       "\"grid_cat_model = GridSearchCV(estimator = CatBoostRegressor(random_state = RANDOM_STATE,\\n                                                            loss_function = 'RMSE',\\n                                                            early_stopping_rounds = 50,\\n                                                            one_hot_max_size = 20,\\n                                                            cat_features = cat_features,\\n                                                            task_type = 'GPU',\\n                                                            verbose = 0),\\n                              param_grid = {'iterations': np.arange(100,2000,100),\\n                                            'learning_rate': [0.1, 0.05, 0.01]},\\n                              cv = ShuffleSplit(n_splits = 5,\\n                                                test_size = 0.2,\\n                                                random_state = RANDOM_STATE),\\n                              scoring = RMSE_score)\\n\\ngrid_cat_model.fit(X_train_1, y_train_1)\\ncat_best = grid_cat_model.best_estimator_\\nprint(grid_cat_model.best_params_)\\nprint(grid_cat_model.best_score_)\""
      ]
     },
     "execution_count": 64,
     "metadata": {},
     "output_type": "execute_result"
    }
   ],
   "source": [
    "def RMSE(y_true, y_pred):\n",
    "    y_true = np.array(y_true)\n",
    "    y_pred = np.array(y_pred)\n",
    "    diff_square = (y_true - y_pred)**2\n",
    "    score = diff_square.mean()\n",
    "    return np.sqrt(score)\n",
    "\n",
    "RMSE_score = make_scorer(RMSE,\n",
    "                         greater_is_better = False)\n",
    "\n",
    "\n",
    "\n",
    "'''grid_cat_model = GridSearchCV(estimator = CatBoostRegressor(random_state = RANDOM_STATE,\n",
    "                                                            loss_function = 'RMSE',\n",
    "                                                            early_stopping_rounds = 50,\n",
    "                                                            one_hot_max_size = 20,\n",
    "                                                            cat_features = cat_features,\n",
    "                                                            task_type = 'GPU',\n",
    "                                                            verbose = 0),\n",
    "                              param_grid = {'iterations': np.arange(100,2000,100),\n",
    "                                            'learning_rate': [0.1, 0.05, 0.01]},\n",
    "                              cv = ShuffleSplit(n_splits = 5,\n",
    "                                                test_size = 0.2,\n",
    "                                                random_state = RANDOM_STATE),\n",
    "                              scoring = RMSE_score)\n",
    "\n",
    "grid_cat_model.fit(X_train_1, y_train_1)\n",
    "cat_best = grid_cat_model.best_estimator_\n",
    "print(grid_cat_model.best_params_)\n",
    "print(grid_cat_model.best_score_)'''"
   ]
  },
  {
   "cell_type": "markdown",
   "metadata": {},
   "source": [
    "# Проверка модели на тестовой выборке"
   ]
  },
  {
   "cell_type": "code",
   "execution_count": 65,
   "metadata": {},
   "outputs": [
    {
     "data": {
      "text/plain": [
       "1400.0134894134064"
      ]
     },
     "execution_count": 65,
     "metadata": {},
     "output_type": "execute_result"
    }
   ],
   "source": [
    "import joblib\n",
    "\n",
    "def load_model(name):\n",
    "    return joblib.load(name)\n",
    "\n",
    "\n",
    "model = load_model('cat_best_model_grid.pkl')\n",
    "y_pred = model.predict(X_test_1)\n",
    "\n",
    "\n",
    "score = RMSE(y_true = y_test_1,\n",
    "             y_pred = y_pred)\n",
    "\n",
    "score"
   ]
  },
  {
   "cell_type": "code",
   "execution_count": 66,
   "metadata": {},
   "outputs": [
    {
     "data": {
      "image/png": "[encoded data removed]",
      "text/plain": [
       "<Figure size 640x480 with 1 Axes>"
      ]
     },
     "metadata": {},
     "output_type": "display_data"
    }
   ],
   "source": [
    "sns.kdeplot(data = df_prepare,\n",
    "            x = 'price')\n",
    "plt.grid()"
   ]
  },
  {
   "cell_type": "code",
   "execution_count": 67,
   "metadata": {},
   "outputs": [
    {
     "data": {
      "text/plain": [
       "count    36033.0\n",
       "mean      3485.0\n",
       "std       3384.0\n",
       "min          1.0\n",
       "25%       1000.0\n",
       "50%       2299.0\n",
       "75%       4860.0\n",
       "max      16690.0\n",
       "Name: price, dtype: float64"
      ]
     },
     "execution_count": 67,
     "metadata": {},
     "output_type": "execute_result"
    }
   ],
   "source": [
    "df_prepare['price'].describe().round()"
   ]
  },
  {
   "cell_type": "markdown",
   "metadata": {},
   "source": [
    "# Поменяем немного датасет (ограничим price)"
   ]
  },
  {
   "cell_type": "code",
   "execution_count": 68,
   "metadata": {},
   "outputs": [],
   "source": [
    "df_prepare_2 = df_prepare[df_prepare['price'] <= 7500]\n",
    "\n",
    "X_train_2, X_test_2, y_train_2, y_test_2 = split(df_prepare_2)"
   ]
  },
  {
   "cell_type": "code",
   "execution_count": 69,
   "metadata": {},
   "outputs": [
    {
     "name": "stdout",
     "output_type": "stream",
     "text": [
      "<class 'pandas.core.frame.DataFrame'>\n",
      "Int64Index: 31456 entries, 0 to 49999\n",
      "Data columns (total 11 columns):\n",
      " #   Column             Non-Null Count  Dtype  \n",
      "---  ------             --------------  -----  \n",
      " 0   age                31456 non-null  int64  \n",
      " 1   price              31456 non-null  int64  \n",
      " 2   vehicleType        31456 non-null  object \n",
      " 3   gearbox            31456 non-null  object \n",
      " 4   model              31456 non-null  object \n",
      " 5   odometer           31456 non-null  int64  \n",
      " 6   fuelType           31456 non-null  object \n",
      " 7   notRepairedDamage  31456 non-null  object \n",
      " 8   seller             31456 non-null  object \n",
      " 9   brand              31456 non-null  object \n",
      " 10  powerPS            31456 non-null  float64\n",
      "dtypes: float64(1), int64(3), object(7)\n",
      "memory usage: 2.9+ MB\n"
     ]
    }
   ],
   "source": [
    "df_prepare_2.info()"
   ]
  },
  {
   "cell_type": "code",
   "execution_count": 70,
   "metadata": {},
   "outputs": [
    {
     "data": {
      "text/plain": [
       "\"grid_cat_model = GridSearchCV(estimator = CatBoostRegressor(random_state = RANDOM_STATE,\\n                                                            loss_function = 'RMSE',\\n                                                            early_stopping_rounds = 50,\\n                                                            one_hot_max_size = 20,\\n                                                            cat_features = cat_features,\\n                                                            task_type = 'GPU',\\n                                                            verbose = 0),\\n                              param_grid = {'iterations': np.arange(1000,2000,200),\\n                                            'learning_rate': [0.1, 0.05, 0.01]},\\n                              cv = ShuffleSplit(n_splits = 5,\\n                                                test_size = 0.2,\\n                                                random_state = RANDOM_STATE),\\n                              scoring = RMSE_score)\\n\\ngrid_cat_model.fit(X_train_2, y_train_2)\\ncat_best = grid_cat_model.best_estimator_\\nprint(grid_cat_model.best_params_)\\nprint(grid_cat_model.best_score_)\""
      ]
     },
     "execution_count": 70,
     "metadata": {},
     "output_type": "execute_result"
    }
   ],
   "source": [
    "'''grid_cat_model = GridSearchCV(estimator = CatBoostRegressor(random_state = RANDOM_STATE,\n",
    "                                                            loss_function = 'RMSE',\n",
    "                                                            early_stopping_rounds = 50,\n",
    "                                                            one_hot_max_size = 20,\n",
    "                                                            cat_features = cat_features,\n",
    "                                                            task_type = 'GPU',\n",
    "                                                            verbose = 0),\n",
    "                              param_grid = {'iterations': np.arange(1000,2000,200),\n",
    "                                            'learning_rate': [0.1, 0.05, 0.01]},\n",
    "                              cv = ShuffleSplit(n_splits = 5,\n",
    "                                                test_size = 0.2,\n",
    "                                                random_state = RANDOM_STATE),\n",
    "                              scoring = RMSE_score)\n",
    "\n",
    "grid_cat_model.fit(X_train_2, y_train_2)\n",
    "cat_best = grid_cat_model.best_estimator_\n",
    "print(grid_cat_model.best_params_)\n",
    "print(grid_cat_model.best_score_)'''"
   ]
  },
  {
   "cell_type": "code",
   "execution_count": null,
   "metadata": {},
   "outputs": [
    {
     "data": {
      "text/plain": [
       "915.5540844426017"
      ]
     },
     "execution_count": 243,
     "metadata": {},
     "output_type": "execute_result"
    }
   ],
   "source": [
    "y_pred_2 = cat_best.predict(X_test_2)\n",
    "\n",
    "score2 = RMSE(y_true = y_test_2,\n",
    "              y_pred = y_pred_2)\n",
    "\n",
    "score2"
   ]
  },
  {
   "cell_type": "code",
   "execution_count": null,
   "metadata": {},
   "outputs": [
    {
     "data": {
      "text/plain": [
       "count    31456.000000\n",
       "mean      2435.174784\n",
       "std       1890.989934\n",
       "min          1.000000\n",
       "25%        900.000000\n",
       "50%       1880.000000\n",
       "75%       3500.000000\n",
       "max       7500.000000\n",
       "Name: price, dtype: float64"
      ]
     },
     "execution_count": 244,
     "metadata": {},
     "output_type": "execute_result"
    }
   ],
   "source": [
    "df_prepare_2['price'].describe()"
   ]
  },
  {
   "attachments": {
    "image-2.png": {
     "image/png": "[encoded data removed]"
    },
    "image-3.png": {
     "image/png": "[encoded data removed]"
    },
    "image-4.png": {
     "image/png": "[encoded data removed]"
    },
    "image.png": {
     "image/png": "[encoded data removed]"
    }
   },
   "cell_type": "markdown",
   "metadata": {},
   "source": [
    "# Вывод\n",
    "\n",
    "\n",
    "### 1-й датасет (не урезанный таргет price)\n",
    "\n",
    "Длина датасета ---> 36000\n",
    "На наборе данных с price с базовыми выбросами и без 0\n",
    "(1 фото - кросс валидация, 2-фото на тесте)\n",
    "\n",
    "![image.png](attachment:image.png)\n",
    "\n",
    "\n",
    "![image-2.png](attachment:image-2.png)\n",
    "\n",
    "### 2-й датасет (урезанный таргет price)\n",
    "\n",
    "Длина датасета ---> 31500\n",
    "(1 фото - кросс валидация, 2-фото на тесте)\n",
    "\n",
    "![image-3.png](attachment:image-3.png)\n",
    "\n",
    "\n",
    "![image-4.png](attachment:image-4.png)\n",
    "\n",
    "\n"
   ]
  }
 ],
 "metadata": {
  "kernelspec": {
   "display_name": "Python 3",
   "language": "python",
   "name": "python3"
  },
  "language_info": {
   "codemirror_mode": {
    "name": "ipython",
    "version": 3
   },
   "file_extension": ".py",
   "mimetype": "text/x-python",
   "name": "python",
   "nbconvert_exporter": "python",
   "pygments_lexer": "ipython3",
   "version": "3.11.2"
  }
 },
 "nbformat": 4,
 "nbformat_minor": 2
}
