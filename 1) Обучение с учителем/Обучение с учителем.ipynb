{
 "cells": [
  {
   "cell_type": "markdown",
   "metadata": {},
   "source": [
    "# Проект «Отток клиентов»\n",
    "\n",
    "## Контекст\n",
    "\n",
    "Из «Бета-Банка» стали уходить клиенты. Каждый месяц. Немного, но заметно. Банковские маркетологи посчитали: сохранять текущих клиентов дешевле, чем привлекать новых.\n",
    "\n",
    "Нужно спрогнозировать, уйдёт клиент из банка в ближайшее время или нет. Нам предоставлены исторические данные о поведении клиентов и расторжении договоров с банком.\n",
    "\n",
    "Необходимо построить модель с предельно большим значением F1-меры.\n",
    "\n",
    "\n",
    "- Предобработка данных\n",
    "- Борьба с дисбалансом\n",
    "- Тестирование модели\n",
    "- Общие выводы\n",
    "\n",
    "\n",
    "## Описание данных\n",
    "\n",
    "Признаки\n",
    "\n",
    "RowNumber — индекс строки в данных\n",
    "CustomerId — уникальный идентификатор клиента\n",
    "Surname — фамилия\n",
    "CreditScore — кредитный рейтинг\n",
    "Geography — страна проживания\n",
    "Gender — пол\n",
    "Age — возраст\n",
    "Tenure — сколько лет человек является клиентом банка\n",
    "Balance — баланс на счёте\n",
    "NumOfProducts — количество продуктов банка, используемых клиентом\n",
    "HasCrCard — наличие кредитной карты\n",
    "IsActiveMember — активность клиента\n",
    "EstimatedSalary — предполагаемая зарплата\n",
    "Целевой признак\n",
    "\n",
    "\n",
    "Exited — факт ухода клиента"
   ]
  },
  {
   "cell_type": "code",
   "execution_count": 411,
   "metadata": {},
   "outputs": [],
   "source": [
    "import pandas as pd\n",
    "import numpy as np\n",
    "import matplotlib.pyplot as plt\n",
    "import seaborn as sns\n",
    "from sklearn.ensemble import RandomForestClassifier\n",
    "from sklearn.metrics import classification_report\n",
    "from sklearn.metrics import ConfusionMatrixDisplay\n",
    "from sklearn.metrics import f1_score\n",
    "from sklearn.metrics import RocCurveDisplay\n",
    "from sklearn.metrics import roc_auc_score\n",
    "from sklearn.metrics import PrecisionRecallDisplay\n",
    "from sklearn.model_selection import GridSearchCV\n",
    "from sklearn.model_selection import train_test_split\n",
    "from sklearn.model_selection import StratifiedShuffleSplit\n",
    "from sklearn.linear_model import LogisticRegression\n",
    "from sklearn.tree import DecisionTreeClassifier\n",
    "from sklearn.utils import shuffle\n",
    "from sklearn.preprocessing import OneHotEncoder\n",
    "from sklearn.preprocessing import StandardScaler\n",
    "from sklearn.base import BaseEstimator, TransformerMixin\n",
    "from sklearn_pandas import DataFrameMapper\n",
    "from sklearn.pipeline import FeatureUnion\n",
    "from sklearn.preprocessing import FunctionTransformer\n",
    "\n",
    "\n",
    "RANDOM_STATE = 42"
   ]
  },
  {
   "cell_type": "markdown",
   "metadata": {},
   "source": [
    "# Предобработка данных"
   ]
  },
  {
   "cell_type": "code",
   "execution_count": 412,
   "metadata": {},
   "outputs": [
    {
     "name": "stdout",
     "output_type": "stream",
     "text": [
      "<class 'pandas.core.frame.DataFrame'>\n",
      "RangeIndex: 10000 entries, 0 to 9999\n",
      "Data columns (total 14 columns):\n",
      " #   Column           Non-Null Count  Dtype  \n",
      "---  ------           --------------  -----  \n",
      " 0   RowNumber        10000 non-null  int64  \n",
      " 1   CustomerId       10000 non-null  int64  \n",
      " 2   Surname          10000 non-null  object \n",
      " 3   CreditScore      10000 non-null  int64  \n",
      " 4   Geography        10000 non-null  object \n",
      " 5   Gender           10000 non-null  object \n",
      " 6   Age              10000 non-null  int64  \n",
      " 7   Tenure           9091 non-null   float64\n",
      " 8   Balance          10000 non-null  float64\n",
      " 9   NumOfProducts    10000 non-null  int64  \n",
      " 10  HasCrCard        10000 non-null  int64  \n",
      " 11  IsActiveMember   10000 non-null  int64  \n",
      " 12  EstimatedSalary  10000 non-null  float64\n",
      " 13  Exited           10000 non-null  int64  \n",
      "dtypes: float64(3), int64(8), object(3)\n",
      "memory usage: 1.1+ MB\n"
     ]
    }
   ],
   "source": [
    "data = pd.read_csv('Churn.csv')\n",
    "data.info()"
   ]
  },
  {
   "cell_type": "code",
   "execution_count": 413,
   "metadata": {},
   "outputs": [],
   "source": [
    "# Дроп очевидно не влияющих на уход данных\n",
    "data = data.drop(['RowNumber', 'CustomerId', 'Surname'], axis = 1)"
   ]
  },
  {
   "cell_type": "code",
   "execution_count": 414,
   "metadata": {},
   "outputs": [
    {
     "name": "stdout",
     "output_type": "stream",
     "text": [
      "<class 'pandas.core.frame.DataFrame'>\n",
      "RangeIndex: 10000 entries, 0 to 9999\n",
      "Data columns (total 11 columns):\n",
      " #   Column           Non-Null Count  Dtype  \n",
      "---  ------           --------------  -----  \n",
      " 0   CreditScore      10000 non-null  int64  \n",
      " 1   Geography        10000 non-null  object \n",
      " 2   Gender           10000 non-null  object \n",
      " 3   Age              10000 non-null  int64  \n",
      " 4   Tenure           10000 non-null  float64\n",
      " 5   Balance          10000 non-null  float64\n",
      " 6   NumOfProducts    10000 non-null  int64  \n",
      " 7   HasCrCard        10000 non-null  int64  \n",
      " 8   IsActiveMember   10000 non-null  int64  \n",
      " 9   EstimatedSalary  10000 non-null  float64\n",
      " 10  Exited           10000 non-null  int64  \n",
      "dtypes: float64(3), int64(6), object(2)\n",
      "memory usage: 859.5+ KB\n"
     ]
    }
   ],
   "source": [
    "# fillna пропуски -1 для RandomForest\n",
    "data['Tenure'] = data['Tenure'].fillna(-1)\n",
    "data.info()"
   ]
  },
  {
   "cell_type": "code",
   "execution_count": 415,
   "metadata": {},
   "outputs": [
    {
     "data": {
      "text/html": [
       "<div>\n",
       "<style scoped>\n",
       "    .dataframe tbody tr th:only-of-type {\n",
       "        vertical-align: middle;\n",
       "    }\n",
       "\n",
       "    .dataframe tbody tr th {\n",
       "        vertical-align: top;\n",
       "    }\n",
       "\n",
       "    .dataframe thead th {\n",
       "        text-align: right;\n",
       "    }\n",
       "</style>\n",
       "<table border=\"1\" class=\"dataframe\">\n",
       "  <thead>\n",
       "    <tr style=\"text-align: right;\">\n",
       "      <th></th>\n",
       "      <th>CreditScore</th>\n",
       "      <th>Geography</th>\n",
       "      <th>Gender</th>\n",
       "      <th>Age</th>\n",
       "      <th>Tenure</th>\n",
       "      <th>Balance</th>\n",
       "      <th>NumOfProducts</th>\n",
       "      <th>HasCrCard</th>\n",
       "      <th>IsActiveMember</th>\n",
       "      <th>EstimatedSalary</th>\n",
       "      <th>Exited</th>\n",
       "    </tr>\n",
       "  </thead>\n",
       "  <tbody>\n",
       "    <tr>\n",
       "      <th>0</th>\n",
       "      <td>619</td>\n",
       "      <td>France</td>\n",
       "      <td>Female</td>\n",
       "      <td>42</td>\n",
       "      <td>2.0</td>\n",
       "      <td>0.00</td>\n",
       "      <td>1</td>\n",
       "      <td>1</td>\n",
       "      <td>1</td>\n",
       "      <td>101348.88</td>\n",
       "      <td>1</td>\n",
       "    </tr>\n",
       "    <tr>\n",
       "      <th>1</th>\n",
       "      <td>608</td>\n",
       "      <td>Spain</td>\n",
       "      <td>Female</td>\n",
       "      <td>41</td>\n",
       "      <td>1.0</td>\n",
       "      <td>83807.86</td>\n",
       "      <td>1</td>\n",
       "      <td>0</td>\n",
       "      <td>1</td>\n",
       "      <td>112542.58</td>\n",
       "      <td>0</td>\n",
       "    </tr>\n",
       "    <tr>\n",
       "      <th>2</th>\n",
       "      <td>502</td>\n",
       "      <td>France</td>\n",
       "      <td>Female</td>\n",
       "      <td>42</td>\n",
       "      <td>8.0</td>\n",
       "      <td>159660.80</td>\n",
       "      <td>3</td>\n",
       "      <td>1</td>\n",
       "      <td>0</td>\n",
       "      <td>113931.57</td>\n",
       "      <td>1</td>\n",
       "    </tr>\n",
       "    <tr>\n",
       "      <th>3</th>\n",
       "      <td>699</td>\n",
       "      <td>France</td>\n",
       "      <td>Female</td>\n",
       "      <td>39</td>\n",
       "      <td>1.0</td>\n",
       "      <td>0.00</td>\n",
       "      <td>2</td>\n",
       "      <td>0</td>\n",
       "      <td>0</td>\n",
       "      <td>93826.63</td>\n",
       "      <td>0</td>\n",
       "    </tr>\n",
       "    <tr>\n",
       "      <th>4</th>\n",
       "      <td>850</td>\n",
       "      <td>Spain</td>\n",
       "      <td>Female</td>\n",
       "      <td>43</td>\n",
       "      <td>2.0</td>\n",
       "      <td>125510.82</td>\n",
       "      <td>1</td>\n",
       "      <td>1</td>\n",
       "      <td>1</td>\n",
       "      <td>79084.10</td>\n",
       "      <td>0</td>\n",
       "    </tr>\n",
       "    <tr>\n",
       "      <th>...</th>\n",
       "      <td>...</td>\n",
       "      <td>...</td>\n",
       "      <td>...</td>\n",
       "      <td>...</td>\n",
       "      <td>...</td>\n",
       "      <td>...</td>\n",
       "      <td>...</td>\n",
       "      <td>...</td>\n",
       "      <td>...</td>\n",
       "      <td>...</td>\n",
       "      <td>...</td>\n",
       "    </tr>\n",
       "    <tr>\n",
       "      <th>9995</th>\n",
       "      <td>771</td>\n",
       "      <td>France</td>\n",
       "      <td>Male</td>\n",
       "      <td>39</td>\n",
       "      <td>5.0</td>\n",
       "      <td>0.00</td>\n",
       "      <td>2</td>\n",
       "      <td>1</td>\n",
       "      <td>0</td>\n",
       "      <td>96270.64</td>\n",
       "      <td>0</td>\n",
       "    </tr>\n",
       "    <tr>\n",
       "      <th>9996</th>\n",
       "      <td>516</td>\n",
       "      <td>France</td>\n",
       "      <td>Male</td>\n",
       "      <td>35</td>\n",
       "      <td>10.0</td>\n",
       "      <td>57369.61</td>\n",
       "      <td>1</td>\n",
       "      <td>1</td>\n",
       "      <td>1</td>\n",
       "      <td>101699.77</td>\n",
       "      <td>0</td>\n",
       "    </tr>\n",
       "    <tr>\n",
       "      <th>9997</th>\n",
       "      <td>709</td>\n",
       "      <td>France</td>\n",
       "      <td>Female</td>\n",
       "      <td>36</td>\n",
       "      <td>7.0</td>\n",
       "      <td>0.00</td>\n",
       "      <td>1</td>\n",
       "      <td>0</td>\n",
       "      <td>1</td>\n",
       "      <td>42085.58</td>\n",
       "      <td>1</td>\n",
       "    </tr>\n",
       "    <tr>\n",
       "      <th>9998</th>\n",
       "      <td>772</td>\n",
       "      <td>Germany</td>\n",
       "      <td>Male</td>\n",
       "      <td>42</td>\n",
       "      <td>3.0</td>\n",
       "      <td>75075.31</td>\n",
       "      <td>2</td>\n",
       "      <td>1</td>\n",
       "      <td>0</td>\n",
       "      <td>92888.52</td>\n",
       "      <td>1</td>\n",
       "    </tr>\n",
       "    <tr>\n",
       "      <th>9999</th>\n",
       "      <td>792</td>\n",
       "      <td>France</td>\n",
       "      <td>Female</td>\n",
       "      <td>28</td>\n",
       "      <td>-1.0</td>\n",
       "      <td>130142.79</td>\n",
       "      <td>1</td>\n",
       "      <td>1</td>\n",
       "      <td>0</td>\n",
       "      <td>38190.78</td>\n",
       "      <td>0</td>\n",
       "    </tr>\n",
       "  </tbody>\n",
       "</table>\n",
       "<p>10000 rows × 11 columns</p>\n",
       "</div>"
      ],
      "text/plain": [
       "      CreditScore Geography  Gender  Age  Tenure    Balance  NumOfProducts  \\\n",
       "0             619    France  Female   42     2.0       0.00              1   \n",
       "1             608     Spain  Female   41     1.0   83807.86              1   \n",
       "2             502    France  Female   42     8.0  159660.80              3   \n",
       "3             699    France  Female   39     1.0       0.00              2   \n",
       "4             850     Spain  Female   43     2.0  125510.82              1   \n",
       "...           ...       ...     ...  ...     ...        ...            ...   \n",
       "9995          771    France    Male   39     5.0       0.00              2   \n",
       "9996          516    France    Male   35    10.0   57369.61              1   \n",
       "9997          709    France  Female   36     7.0       0.00              1   \n",
       "9998          772   Germany    Male   42     3.0   75075.31              2   \n",
       "9999          792    France  Female   28    -1.0  130142.79              1   \n",
       "\n",
       "      HasCrCard  IsActiveMember  EstimatedSalary  Exited  \n",
       "0             1               1        101348.88       1  \n",
       "1             0               1        112542.58       0  \n",
       "2             1               0        113931.57       1  \n",
       "3             0               0         93826.63       0  \n",
       "4             1               1         79084.10       0  \n",
       "...         ...             ...              ...     ...  \n",
       "9995          1               0         96270.64       0  \n",
       "9996          1               1        101699.77       0  \n",
       "9997          0               1         42085.58       1  \n",
       "9998          1               0         92888.52       1  \n",
       "9999          1               0         38190.78       0  \n",
       "\n",
       "[10000 rows x 11 columns]"
      ]
     },
     "execution_count": 415,
     "metadata": {},
     "output_type": "execute_result"
    }
   ],
   "source": [
    "data"
   ]
  },
  {
   "cell_type": "code",
   "execution_count": 416,
   "metadata": {},
   "outputs": [],
   "source": [
    "X_train_frame, X_test_frame, y_train_frame, y_test_frame = train_test_split(data.iloc[:,:-1],\n",
    "                                                                            data['Exited'],\n",
    "                                                                            test_size = 0.2,\n",
    "                                                                            random_state = RANDOM_STATE,\n",
    "                                                                            stratify = data['Exited'])\n",
    "\n",
    "\n",
    "X_train_frame, X_val_frame, y_train_frame, y_val_frame = train_test_split(X_train_frame,\n",
    "                                                                          y_train_frame,\n",
    "                                                                          stratify = y_train_frame,\n",
    "                                                                          random_state = RANDOM_STATE)"
   ]
  },
  {
   "cell_type": "code",
   "execution_count": 417,
   "metadata": {},
   "outputs": [
    {
     "data": {
      "text/plain": [
       "(6000, 12)"
      ]
     },
     "execution_count": 417,
     "metadata": {},
     "output_type": "execute_result"
    }
   ],
   "source": [
    "# Предобработка строковых данных И подготовка признаков и меток ко входу в модель\n",
    "\n",
    "#### Данные о гендере\n",
    "def sex_rewrite(x):\n",
    "    if x == 'Female':\n",
    "        return 0\n",
    "    else:\n",
    "        return 1\n",
    "\n",
    "def preobrazovanie(spisok):\n",
    "    new_spisok = [sex_rewrite(i) for i in spisok]\n",
    "    return pd.DataFrame(new_spisok)\n",
    "\n",
    "\n",
    "\n",
    "#### Создаем трансформатор данных\n",
    "## Для географического признака воспользуемся OneHotEncored() т.к. Стран всего 3: ['France', 'Spain', 'Germany'] и это не накладно\n",
    "\n",
    "from sklearn_pandas import DataFrameMapper\n",
    "from sklearn.pipeline import FeatureUnion\n",
    "from sklearn.preprocessing import FunctionTransformer\n",
    "\n",
    "geo_mapper = DataFrameMapper([\n",
    "    (['Geography'], OneHotEncoder())\n",
    "])\n",
    "\n",
    "gender_mapper = DataFrameMapper([\n",
    "    (['Gender'], FunctionTransformer(func = preobrazovanie)),\n",
    "])\n",
    "\n",
    "num_mapper = DataFrameMapper([\n",
    "    (data.iloc[:,:-1].describe().columns.to_list(), None)\n",
    "])\n",
    "\n",
    "full_pipeline = FeatureUnion(transformer_list=[\n",
    "    ('num_mapper', num_mapper),\n",
    "    ('gen_mapper', gender_mapper),\n",
    "    ('geo_mapper', geo_mapper),\n",
    "])\n",
    "\n",
    "\n",
    "X_train = full_pipeline.fit_transform(X_train_frame)\n",
    "X_val = full_pipeline.fit_transform(X_val_frame)\n",
    "y_train = y_train_frame\n",
    "y_val = y_val_frame\n",
    "X_train.shape"
   ]
  },
  {
   "cell_type": "code",
   "execution_count": 418,
   "metadata": {},
   "outputs": [
    {
     "data": {
      "text/html": [
       "<div>\n",
       "<style scoped>\n",
       "    .dataframe tbody tr th:only-of-type {\n",
       "        vertical-align: middle;\n",
       "    }\n",
       "\n",
       "    .dataframe tbody tr th {\n",
       "        vertical-align: top;\n",
       "    }\n",
       "\n",
       "    .dataframe thead th {\n",
       "        text-align: right;\n",
       "    }\n",
       "</style>\n",
       "<table border=\"1\" class=\"dataframe\">\n",
       "  <thead>\n",
       "    <tr style=\"text-align: right;\">\n",
       "      <th></th>\n",
       "      <th>depth</th>\n",
       "      <th>f_1</th>\n",
       "      <th>auc</th>\n",
       "    </tr>\n",
       "  </thead>\n",
       "  <tbody>\n",
       "    <tr>\n",
       "      <th>0</th>\n",
       "      <td>7</td>\n",
       "      <td>0.563945</td>\n",
       "      <td>0.833360</td>\n",
       "    </tr>\n",
       "    <tr>\n",
       "      <th>0</th>\n",
       "      <td>10</td>\n",
       "      <td>0.548431</td>\n",
       "      <td>0.773149</td>\n",
       "    </tr>\n",
       "    <tr>\n",
       "      <th>0</th>\n",
       "      <td>9</td>\n",
       "      <td>0.538578</td>\n",
       "      <td>0.811354</td>\n",
       "    </tr>\n",
       "    <tr>\n",
       "      <th>0</th>\n",
       "      <td>8</td>\n",
       "      <td>0.537994</td>\n",
       "      <td>0.820533</td>\n",
       "    </tr>\n",
       "    <tr>\n",
       "      <th>0</th>\n",
       "      <td>12</td>\n",
       "      <td>0.537433</td>\n",
       "      <td>0.738554</td>\n",
       "    </tr>\n",
       "    <tr>\n",
       "      <th>0</th>\n",
       "      <td>11</td>\n",
       "      <td>0.522628</td>\n",
       "      <td>0.763553</td>\n",
       "    </tr>\n",
       "    <tr>\n",
       "      <th>0</th>\n",
       "      <td>13</td>\n",
       "      <td>0.519104</td>\n",
       "      <td>0.712075</td>\n",
       "    </tr>\n",
       "    <tr>\n",
       "      <th>0</th>\n",
       "      <td>14</td>\n",
       "      <td>0.507266</td>\n",
       "      <td>0.687694</td>\n",
       "    </tr>\n",
       "    <tr>\n",
       "      <th>0</th>\n",
       "      <td>2</td>\n",
       "      <td>0.500711</td>\n",
       "      <td>0.740843</td>\n",
       "    </tr>\n",
       "    <tr>\n",
       "      <th>0</th>\n",
       "      <td>5</td>\n",
       "      <td>0.472973</td>\n",
       "      <td>0.827303</td>\n",
       "    </tr>\n",
       "    <tr>\n",
       "      <th>0</th>\n",
       "      <td>6</td>\n",
       "      <td>0.470187</td>\n",
       "      <td>0.830731</td>\n",
       "    </tr>\n",
       "    <tr>\n",
       "      <th>0</th>\n",
       "      <td>4</td>\n",
       "      <td>0.462585</td>\n",
       "      <td>0.811642</td>\n",
       "    </tr>\n",
       "    <tr>\n",
       "      <th>0</th>\n",
       "      <td>3</td>\n",
       "      <td>0.380952</td>\n",
       "      <td>0.795302</td>\n",
       "    </tr>\n",
       "  </tbody>\n",
       "</table>\n",
       "</div>"
      ],
      "text/plain": [
       "   depth       f_1       auc\n",
       "0      7  0.563945  0.833360\n",
       "0     10  0.548431  0.773149\n",
       "0      9  0.538578  0.811354\n",
       "0      8  0.537994  0.820533\n",
       "0     12  0.537433  0.738554\n",
       "0     11  0.522628  0.763553\n",
       "0     13  0.519104  0.712075\n",
       "0     14  0.507266  0.687694\n",
       "0      2  0.500711  0.740843\n",
       "0      5  0.472973  0.827303\n",
       "0      6  0.470187  0.830731\n",
       "0      4  0.462585  0.811642\n",
       "0      3  0.380952  0.795302"
      ]
     },
     "execution_count": 418,
     "metadata": {},
     "output_type": "execute_result"
    }
   ],
   "source": [
    "slovar = {}\n",
    "data_f1 = pd.DataFrame()\n",
    "for depth in np.arange(2, 15):\n",
    "    model = DecisionTreeClassifier(max_depth = depth,\n",
    "                                   random_state = RANDOM_STATE)\n",
    "    model.fit(X_train, y_train)\n",
    "    y_pred = model.predict(X_val)\n",
    "    y_pred_proba = model.predict_proba(X_val)[:,1]\n",
    "\n",
    "    f1 = f1_score(y_true = y_val,\n",
    "                  y_pred = y_pred)\n",
    "    auc = roc_auc_score(y_true = y_val,\n",
    "                        y_score = y_pred_proba)\n",
    "    slovar['depth'] = [depth]\n",
    "    slovar['f_1'] = [f1]\n",
    "    slovar['auc'] = [auc]\n",
    "    data_depth = pd.DataFrame(slovar)\n",
    "    data_f1 = pd.concat([data_f1,data_depth], axis = 0)\n",
    "\n",
    "\n",
    "data_f1.sort_values(by = 'f_1', ascending = False)"
   ]
  },
  {
   "cell_type": "code",
   "execution_count": 419,
   "metadata": {},
   "outputs": [
    {
     "data": {
      "text/html": [
       "<div>\n",
       "<style scoped>\n",
       "    .dataframe tbody tr th:only-of-type {\n",
       "        vertical-align: middle;\n",
       "    }\n",
       "\n",
       "    .dataframe tbody tr th {\n",
       "        vertical-align: top;\n",
       "    }\n",
       "\n",
       "    .dataframe thead th {\n",
       "        text-align: right;\n",
       "    }\n",
       "</style>\n",
       "<table border=\"1\" class=\"dataframe\">\n",
       "  <thead>\n",
       "    <tr style=\"text-align: right;\">\n",
       "      <th></th>\n",
       "      <th>depth</th>\n",
       "      <th>f_1</th>\n",
       "      <th>auc</th>\n",
       "    </tr>\n",
       "  </thead>\n",
       "  <tbody>\n",
       "    <tr>\n",
       "      <th>0</th>\n",
       "      <td>12</td>\n",
       "      <td>0.571429</td>\n",
       "      <td>0.855649</td>\n",
       "    </tr>\n",
       "    <tr>\n",
       "      <th>0</th>\n",
       "      <td>14</td>\n",
       "      <td>0.569207</td>\n",
       "      <td>0.854118</td>\n",
       "    </tr>\n",
       "    <tr>\n",
       "      <th>0</th>\n",
       "      <td>13</td>\n",
       "      <td>0.562798</td>\n",
       "      <td>0.849728</td>\n",
       "    </tr>\n",
       "    <tr>\n",
       "      <th>0</th>\n",
       "      <td>11</td>\n",
       "      <td>0.561514</td>\n",
       "      <td>0.856965</td>\n",
       "    </tr>\n",
       "    <tr>\n",
       "      <th>0</th>\n",
       "      <td>9</td>\n",
       "      <td>0.551282</td>\n",
       "      <td>0.857810</td>\n",
       "    </tr>\n",
       "    <tr>\n",
       "      <th>0</th>\n",
       "      <td>10</td>\n",
       "      <td>0.551282</td>\n",
       "      <td>0.856729</td>\n",
       "    </tr>\n",
       "    <tr>\n",
       "      <th>0</th>\n",
       "      <td>8</td>\n",
       "      <td>0.511551</td>\n",
       "      <td>0.858358</td>\n",
       "    </tr>\n",
       "    <tr>\n",
       "      <th>0</th>\n",
       "      <td>7</td>\n",
       "      <td>0.507513</td>\n",
       "      <td>0.855393</td>\n",
       "    </tr>\n",
       "    <tr>\n",
       "      <th>0</th>\n",
       "      <td>6</td>\n",
       "      <td>0.481928</td>\n",
       "      <td>0.850519</td>\n",
       "    </tr>\n",
       "    <tr>\n",
       "      <th>0</th>\n",
       "      <td>5</td>\n",
       "      <td>0.390977</td>\n",
       "      <td>0.846375</td>\n",
       "    </tr>\n",
       "    <tr>\n",
       "      <th>0</th>\n",
       "      <td>4</td>\n",
       "      <td>0.328767</td>\n",
       "      <td>0.836980</td>\n",
       "    </tr>\n",
       "    <tr>\n",
       "      <th>0</th>\n",
       "      <td>3</td>\n",
       "      <td>0.209607</td>\n",
       "      <td>0.828064</td>\n",
       "    </tr>\n",
       "    <tr>\n",
       "      <th>0</th>\n",
       "      <td>2</td>\n",
       "      <td>0.084706</td>\n",
       "      <td>0.817883</td>\n",
       "    </tr>\n",
       "  </tbody>\n",
       "</table>\n",
       "</div>"
      ],
      "text/plain": [
       "   depth       f_1       auc\n",
       "0     12  0.571429  0.855649\n",
       "0     14  0.569207  0.854118\n",
       "0     13  0.562798  0.849728\n",
       "0     11  0.561514  0.856965\n",
       "0      9  0.551282  0.857810\n",
       "0     10  0.551282  0.856729\n",
       "0      8  0.511551  0.858358\n",
       "0      7  0.507513  0.855393\n",
       "0      6  0.481928  0.850519\n",
       "0      5  0.390977  0.846375\n",
       "0      4  0.328767  0.836980\n",
       "0      3  0.209607  0.828064\n",
       "0      2  0.084706  0.817883"
      ]
     },
     "execution_count": 419,
     "metadata": {},
     "output_type": "execute_result"
    }
   ],
   "source": [
    "slovar = {}\n",
    "data_f1 = pd.DataFrame()\n",
    "for depth in np.arange(2, 15):\n",
    "    model = RandomForestClassifier(max_depth = depth,\n",
    "                                   random_state = RANDOM_STATE)\n",
    "    model.fit(X_train, y_train)\n",
    "    y_pred = model.predict(X_val)\n",
    "    y_pred_proba = model.predict_proba(X_val)[:,1]\n",
    "\n",
    "    f1 = f1_score(y_true = y_val,\n",
    "                  y_pred = y_pred)\n",
    "    auc = roc_auc_score(y_true = y_val,\n",
    "                        y_score = y_pred_proba)\n",
    "    slovar['depth'] = [depth]\n",
    "    slovar['f_1'] = [f1]\n",
    "    slovar['auc'] = [auc]\n",
    "    data_depth = pd.DataFrame(slovar)\n",
    "    data_f1 = pd.concat([data_f1,data_depth], axis = 0)\n",
    "\n",
    "\n",
    "data_f1.sort_values(by = 'f_1', ascending = False)  # Лучшая глубина дерева - 12 "
   ]
  },
  {
   "cell_type": "markdown",
   "metadata": {},
   "source": [
    "# Борьба с дисбалансом"
   ]
  },
  {
   "cell_type": "code",
   "execution_count": 420,
   "metadata": {},
   "outputs": [
    {
     "data": {
      "text/plain": [
       "<Axes: xlabel='Exited', ylabel='count'>"
      ]
     },
     "execution_count": 420,
     "metadata": {},
     "output_type": "execute_result"
    },
    {
     "data": {
      "image/png": "[encoded data removed]",
      "text/plain": [
       "<Figure size 640x480 with 1 Axes>"
      ]
     },
     "metadata": {},
     "output_type": "display_data"
    }
   ],
   "source": [
    "# Покажем этот дисбаланс\n",
    "sns.countplot(data = data,\n",
    "              x = 'Exited')"
   ]
  },
  {
   "cell_type": "markdown",
   "metadata": {},
   "source": [
    "### RandomForest (class_weight = 'balanced')"
   ]
  },
  {
   "cell_type": "code",
   "execution_count": 421,
   "metadata": {},
   "outputs": [
    {
     "name": "stdout",
     "output_type": "stream",
     "text": [
      "{'max_depth': 9}\n",
      "Лучшая оценка f1: 0.608028061018129\n"
     ]
    }
   ],
   "source": [
    "# Устранение дисбаланса\n",
    "\n",
    "grid = GridSearchCV(estimator = RandomForestClassifier(random_state = RANDOM_STATE,\n",
    "                                                       class_weight = 'balanced'),\n",
    "                    param_grid = {'max_depth': np.arange(2,18)},\n",
    "                    scoring = 'f1',\n",
    "                    n_jobs = -1,\n",
    "                    cv = StratifiedShuffleSplit(test_size = 0.2,\n",
    "                                                random_state = RANDOM_STATE))\n",
    "\n",
    "grid.fit(X_train, y_train)\n",
    "print(grid.best_params_)\n",
    "best_model = grid.best_estimator_\n",
    "\n",
    "print(f'Лучшая оценка f1: {grid.best_score_}') # Оценка не сильно улучшилась (0.57 --> 0.6), попробуем upsampling"
   ]
  },
  {
   "cell_type": "markdown",
   "metadata": {},
   "source": [
    "### Upsampling"
   ]
  },
  {
   "cell_type": "code",
   "execution_count": 422,
   "metadata": {},
   "outputs": [
    {
     "data": {
      "text/plain": [
       "4.0"
      ]
     },
     "execution_count": 422,
     "metadata": {},
     "output_type": "execute_result"
    }
   ],
   "source": [
    "# Посмотрим во сколько раз превышает класс 0\n",
    "data_train = pd.concat([X_train_frame, y_train_frame], axis = 1)\n",
    "count_targets = data_train.groupby('Exited')['Exited'].count()\n",
    "target_0 = count_targets[0]\n",
    "target_1 = count_targets[1]\n",
    "\n",
    "upper = target_0 / target_1\n",
    "upper = upper.round()   # Превышение в 4 раза\n",
    "upper"
   ]
  },
  {
   "cell_type": "code",
   "execution_count": 423,
   "metadata": {},
   "outputs": [
    {
     "name": "stdout",
     "output_type": "stream",
     "text": [
      "<class 'pandas.core.frame.DataFrame'>\n",
      "Int64Index: 9669 entries, 1995 to 1215\n",
      "Data columns (total 11 columns):\n",
      " #   Column           Non-Null Count  Dtype  \n",
      "---  ------           --------------  -----  \n",
      " 0   CreditScore      9669 non-null   int64  \n",
      " 1   Geography        9669 non-null   object \n",
      " 2   Gender           9669 non-null   object \n",
      " 3   Age              9669 non-null   int64  \n",
      " 4   Tenure           9669 non-null   float64\n",
      " 5   Balance          9669 non-null   float64\n",
      " 6   NumOfProducts    9669 non-null   int64  \n",
      " 7   HasCrCard        9669 non-null   int64  \n",
      " 8   IsActiveMember   9669 non-null   int64  \n",
      " 9   EstimatedSalary  9669 non-null   float64\n",
      " 10  Exited           9669 non-null   int64  \n",
      "dtypes: float64(3), int64(6), object(2)\n",
      "memory usage: 906.5+ KB\n"
     ]
    }
   ],
   "source": [
    "data_train_1 = data_train[data_train['Exited'] == 1]\n",
    "data_train_0 = data_train[data_train['Exited'] == 0]\n",
    "\n",
    "\n",
    "data_upsampling =\\\n",
    "pd.concat([data_train_0, pd.concat([data_train_1] * int(upper))], axis = 0)\n",
    "\n",
    "data_upsampling.info()"
   ]
  },
  {
   "cell_type": "code",
   "execution_count": 424,
   "metadata": {},
   "outputs": [],
   "source": [
    "X_train_frame_upsampling = data_upsampling.iloc[:,:-1]\n",
    "y_train_frame_upsampling = data_upsampling['Exited']"
   ]
  },
  {
   "cell_type": "code",
   "execution_count": 425,
   "metadata": {},
   "outputs": [
    {
     "data": {
      "text/plain": [
       "Exited\n",
       "0    4777\n",
       "1    4892\n",
       "Name: Exited, dtype: int64"
      ]
     },
     "execution_count": 425,
     "metadata": {},
     "output_type": "execute_result"
    }
   ],
   "source": [
    "data_upsampling.groupby('Exited')['Exited'].count()"
   ]
  },
  {
   "cell_type": "code",
   "execution_count": 426,
   "metadata": {},
   "outputs": [
    {
     "data": {
      "text/plain": [
       "(9669, 12)"
      ]
     },
     "execution_count": 426,
     "metadata": {},
     "output_type": "execute_result"
    }
   ],
   "source": [
    "# Предобработка нового датафрейма\n",
    "X_train = full_pipeline.fit_transform(data_upsampling.iloc[:,:-1])\n",
    "y_train = y_train_frame_upsampling\n",
    "X_train.shape"
   ]
  },
  {
   "cell_type": "code",
   "execution_count": 427,
   "metadata": {},
   "outputs": [
    {
     "name": "stdout",
     "output_type": "stream",
     "text": [
      "{'max_depth': 17}\n",
      "Лучшая оценка f1: 0.9530733709416831\n"
     ]
    }
   ],
   "source": [
    "grid_upsampling = GridSearchCV(estimator = RandomForestClassifier(random_state = RANDOM_STATE),\n",
    "                               param_grid = {'max_depth': np.arange(2,18)},\n",
    "                               scoring = 'f1',\n",
    "                               n_jobs = -1,\n",
    "                               cv = StratifiedShuffleSplit(test_size = 0.2,\n",
    "                                                           random_state = RANDOM_STATE))\n",
    "\n",
    "grid_upsampling.fit(X_train, y_train)\n",
    "print(grid_upsampling.best_params_)\n",
    "best_model_upsampling = grid_upsampling.best_estimator_\n",
    "\n",
    "print(f'Лучшая оценка f1: {grid_upsampling.best_score_}')"
   ]
  },
  {
   "cell_type": "markdown",
   "metadata": {},
   "source": [
    "### Downsampling"
   ]
  },
  {
   "cell_type": "code",
   "execution_count": 434,
   "metadata": {},
   "outputs": [
    {
     "data": {
      "text/plain": [
       "1194"
      ]
     },
     "execution_count": 434,
     "metadata": {},
     "output_type": "execute_result"
    }
   ],
   "source": [
    "downer = int((len(data_train_0)/upper))\n",
    "downer  # до такого размера нужно уменьшить набор 0 класса"
   ]
  },
  {
   "cell_type": "code",
   "execution_count": 441,
   "metadata": {},
   "outputs": [
    {
     "name": "stdout",
     "output_type": "stream",
     "text": [
      "<class 'pandas.core.frame.DataFrame'>\n",
      "Int64Index: 2417 entries, 7248 to 7036\n",
      "Data columns (total 11 columns):\n",
      " #   Column           Non-Null Count  Dtype  \n",
      "---  ------           --------------  -----  \n",
      " 0   CreditScore      2417 non-null   int64  \n",
      " 1   Geography        2417 non-null   object \n",
      " 2   Gender           2417 non-null   object \n",
      " 3   Age              2417 non-null   int64  \n",
      " 4   Tenure           2417 non-null   float64\n",
      " 5   Balance          2417 non-null   float64\n",
      " 6   NumOfProducts    2417 non-null   int64  \n",
      " 7   HasCrCard        2417 non-null   int64  \n",
      " 8   IsActiveMember   2417 non-null   int64  \n",
      " 9   EstimatedSalary  2417 non-null   float64\n",
      " 10  Exited           2417 non-null   int64  \n",
      "dtypes: float64(3), int64(6), object(2)\n",
      "memory usage: 226.6+ KB\n"
     ]
    }
   ],
   "source": [
    "data_downsampling = pd.concat([data_train[data_train['Exited'] == 1],\n",
    "                               data_train[data_train['Exited'] == 0].iloc[:downer,:]], axis = 0)\n",
    "data_downsampling.info()"
   ]
  },
  {
   "cell_type": "code",
   "execution_count": 442,
   "metadata": {},
   "outputs": [
    {
     "data": {
      "text/plain": [
       "(2417, 12)"
      ]
     },
     "execution_count": 442,
     "metadata": {},
     "output_type": "execute_result"
    }
   ],
   "source": [
    "# Предобработка нового датафрейма\n",
    "X_train = full_pipeline.fit_transform(data_downsampling.iloc[:,:-1])\n",
    "y_train = data_downsampling['Exited']\n",
    "X_train.shape"
   ]
  },
  {
   "cell_type": "code",
   "execution_count": 443,
   "metadata": {},
   "outputs": [
    {
     "name": "stdout",
     "output_type": "stream",
     "text": [
      "{'max_depth': 6}\n",
      "Лучшая оценка f1: 0.77238645902672\n"
     ]
    }
   ],
   "source": [
    "grid_downsampling = GridSearchCV(estimator = RandomForestClassifier(random_state = RANDOM_STATE),\n",
    "                                 param_grid = {'max_depth': np.arange(2,18)},\n",
    "                                 scoring = 'f1',\n",
    "                                 n_jobs = -1,\n",
    "                                 cv = StratifiedShuffleSplit(test_size = 0.2,\n",
    "                                                             random_state = RANDOM_STATE))\n",
    "\n",
    "grid_downsampling.fit(X_train, y_train)\n",
    "print(grid_downsampling.best_params_)\n",
    "best_model_downsampling = grid_downsampling.best_estimator_\n",
    "\n",
    "print(f'Лучшая оценка f1: {grid_downsampling.best_score_}')"
   ]
  },
  {
   "cell_type": "markdown",
   "metadata": {},
   "source": [
    "### Вывод по борьбе с дисбалансом\n",
    "\n",
    "- при дисбалансном датафрейме лучшая оценка f1 : 0.57\n",
    "- при 'balanced' в RandomForest лучшая оценка f1 : 0.6\n",
    "- при upsampling датафрейме лучшая оценка f1 : 0.95\n",
    "- при downsampling датафрейме лучшая оценка f1 : 0.77\n",
    "\n",
    "Выбор очевиден"
   ]
  },
  {
   "cell_type": "markdown",
   "metadata": {},
   "source": [
    "# Тестирование модели"
   ]
  },
  {
   "cell_type": "code",
   "execution_count": 432,
   "metadata": {},
   "outputs": [],
   "source": [
    "model = best_model_upsampling"
   ]
  },
  {
   "cell_type": "code",
   "execution_count": 444,
   "metadata": {},
   "outputs": [],
   "source": [
    "X_test = full_pipeline.fit_transform(X_test_frame)\n",
    "y_test = y_test_frame"
   ]
  },
  {
   "cell_type": "code",
   "execution_count": 445,
   "metadata": {},
   "outputs": [],
   "source": [
    "y_pred = model.predict(X_test)\n",
    "y_proba = model.predict_proba(X_test)[:,1]"
   ]
  },
  {
   "cell_type": "code",
   "execution_count": 446,
   "metadata": {},
   "outputs": [
    {
     "data": {
      "image/png": "[encoded data removed]",
      "text/plain": [
       "<Figure size 1500x500 with 3 Axes>"
      ]
     },
     "metadata": {},
     "output_type": "display_data"
    },
    {
     "name": "stdout",
     "output_type": "stream",
     "text": [
      "              precision    recall  f1-score   support\n",
      "\n",
      "           0       0.89      0.93      0.91      1593\n",
      "           1       0.67      0.57      0.61       407\n",
      "\n",
      "    accuracy                           0.86      2000\n",
      "   macro avg       0.78      0.75      0.76      2000\n",
      "weighted avg       0.85      0.86      0.85      2000\n",
      "\n"
     ]
    }
   ],
   "source": [
    "fig, axes = plt.subplots(1, 3, figsize=(15, 5))\n",
    "\n",
    "ConfusionMatrixDisplay.from_predictions(y_test,\n",
    "                                        y_pred,\n",
    "                                        ax=axes[0],\n",
    "                                        colorbar=False)\n",
    "\n",
    "axes[0].set(title='Матрица ошибок')\n",
    "\n",
    "\n",
    "RocCurveDisplay.from_predictions(y_test,\n",
    "                                 y_proba,\n",
    "                                 ax=axes[1],\n",
    "                                 color='orange')\n",
    "\n",
    "axes[1].plot([0, 1],\n",
    "             [0, 1],\n",
    "             color='navy',\n",
    "             linestyle='--')\n",
    "\n",
    "axes[1].set(title='ROC-кривая',\n",
    "            xlim=(-0.01, 1),\n",
    "            ylim=(0, 1.01))\n",
    "\n",
    "\n",
    "PrecisionRecallDisplay.from_predictions(y_test,\n",
    "                                        y_proba,\n",
    "                                        ax=axes[2])\n",
    "axes[2].set(title='Precision-Recall-кривая')\n",
    "\n",
    "plt.show()\n",
    "\n",
    "print(classification_report(y_test, y_pred))"
   ]
  },
  {
   "cell_type": "markdown",
   "metadata": {},
   "source": [
    "# Общий вывод:\n",
    "\n",
    "- были рассмотрены модели DecisionTree и RandomForest - выбрана RandomForest\n",
    "- 3 варианта балансировки - upbalancing лучшая\n",
    "- f1_score = 0.91 / 0.61"
   ]
  }
 ],
 "metadata": {
  "kernelspec": {
   "display_name": "Python 3",
   "language": "python",
   "name": "python3"
  },
  "language_info": {
   "codemirror_mode": {
    "name": "ipython",
    "version": 3
   },
   "file_extension": ".py",
   "mimetype": "text/x-python",
   "name": "python",
   "nbconvert_exporter": "python",
   "pygments_lexer": "ipython3",
   "version": "3.11.2"
  },
  "orig_nbformat": 4
 },
 "nbformat": 4,
 "nbformat_minor": 2
}
